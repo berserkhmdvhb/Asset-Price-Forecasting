{
 "cells": [
  {
   "cell_type": "code",
   "execution_count": null,
   "metadata": {
    "id": "h_WiSy56MOK4"
   },
   "outputs": [],
   "source": []
  },
  {
   "cell_type": "markdown",
   "metadata": {
    "id": "wZUG6xGnDeEj"
   },
   "source": [
    "# **Imports**"
   ]
  },
  {
   "cell_type": "markdown",
   "metadata": {
    "id": "e4OlTsAXDZxi"
   },
   "source": []
  },
  {
   "cell_type": "code",
   "execution_count": null,
   "metadata": {
    "colab": {
     "base_uri": "https://localhost:8080/",
     "height": 366
    },
    "id": "s7NM-k-JRfP_",
    "outputId": "f8bf2cb6-7a80-4a07-983a-a8d997646661"
   },
   "outputs": [
    {
     "name": "stdout",
     "output_type": "stream",
     "text": [
      "Collecting utils\n",
      "  Downloading https://files.pythonhosted.org/packages/55/e6/c2d2b2703e7debc8b501caae0e6f7ead148fd0faa3c8131292a599930029/utils-1.0.1-py2.py3-none-any.whl\n",
      "Installing collected packages: utils\n",
      "Successfully installed utils-1.0.1\n",
      "Collecting mxnet\n",
      "\u001b[?25l  Downloading https://files.pythonhosted.org/packages/81/f5/d79b5b40735086ff1100c680703e0f3efc830fa455e268e9e96f3c857e93/mxnet-1.6.0-py2.py3-none-any.whl (68.7MB)\n",
      "\u001b[K     |████████████████████████████████| 68.7MB 58kB/s \n",
      "\u001b[?25hCollecting graphviz<0.9.0,>=0.8.1\n",
      "  Downloading https://files.pythonhosted.org/packages/53/39/4ab213673844e0c004bed8a0781a0721a3f6bb23eb8854ee75c236428892/graphviz-0.8.4-py2.py3-none-any.whl\n",
      "Requirement already satisfied: numpy<2.0.0,>1.16.0 in /usr/local/lib/python3.6/dist-packages (from mxnet) (1.18.5)\n",
      "Requirement already satisfied: requests<3,>=2.20.0 in /usr/local/lib/python3.6/dist-packages (from mxnet) (2.23.0)\n",
      "Requirement already satisfied: idna<3,>=2.5 in /usr/local/lib/python3.6/dist-packages (from requests<3,>=2.20.0->mxnet) (2.9)\n",
      "Requirement already satisfied: certifi>=2017.4.17 in /usr/local/lib/python3.6/dist-packages (from requests<3,>=2.20.0->mxnet) (2020.6.20)\n",
      "Requirement already satisfied: urllib3!=1.25.0,!=1.25.1,<1.26,>=1.21.1 in /usr/local/lib/python3.6/dist-packages (from requests<3,>=2.20.0->mxnet) (1.24.3)\n",
      "Requirement already satisfied: chardet<4,>=3.0.2 in /usr/local/lib/python3.6/dist-packages (from requests<3,>=2.20.0->mxnet) (3.0.4)\n",
      "Installing collected packages: graphviz, mxnet\n",
      "  Found existing installation: graphviz 0.10.1\n",
      "    Uninstalling graphviz-0.10.1:\n",
      "      Successfully uninstalled graphviz-0.10.1\n",
      "Successfully installed graphviz-0.8.4 mxnet-1.6.0\n"
     ]
    }
   ],
   "source": [
    "!pip install utils\n",
    "!pip install mxnet"
   ]
  },
  {
   "cell_type": "code",
   "execution_count": null,
   "metadata": {
    "colab": {
     "base_uri": "https://localhost:8080/",
     "height": 71
    },
    "id": "EVCPkEDKYH3s",
    "outputId": "19f50389-6f4c-43e7-8f54-09d023b96e8b"
   },
   "outputs": [
    {
     "name": "stderr",
     "output_type": "stream",
     "text": [
      "/usr/local/lib/python3.6/dist-packages/statsmodels/tools/_testing.py:19: FutureWarning: pandas.util.testing is deprecated. Use the functions in the public API at pandas.testing instead.\n",
      "  import pandas.util.testing as tm\n"
     ]
    }
   ],
   "source": [
    "from pandas.testing import *\n",
    "\n",
    "import time\n",
    "import numpy as np\n",
    "import pandas as pd\n",
    "\n",
    "from mxnet import nd, autograd, gluon\n",
    "from mxnet.gluon import nn, rnn\n",
    "import mxnet as mx\n",
    "import datetime\n",
    "import seaborn as sns\n",
    "\n",
    "import matplotlib.pyplot as plt\n",
    "%matplotlib inline\n",
    "from sklearn.decomposition import PCA\n",
    "\n",
    "import math\n",
    "\n",
    "from sklearn.preprocessing import MinMaxScaler\n",
    "from sklearn.metrics import r2_score\n",
    "from sklearn.metrics import mean_squared_error\n",
    "from math import sqrt\n",
    "from sklearn.preprocessing import StandardScaler\n",
    "\n",
    "import xgboost as xgb\n",
    "#from sklearn.metrics import accuracy_score\n",
    "\n",
    "import warnings\n",
    "warnings.filterwarnings(\"ignore\")\n",
    "\n",
    "context = mx.cpu(); model_ctx=mx.cpu()\n",
    "mx.random.seed(1719)\n",
    "\n",
    "from sklearn.preprocessing import MinMaxScaler\n",
    "from sklearn.model_selection import train_test_split"
   ]
  },
  {
   "cell_type": "code",
   "execution_count": null,
   "metadata": {
    "id": "Dz1gDOSH2nsu"
   },
   "outputs": [],
   "source": []
  },
  {
   "cell_type": "code",
   "execution_count": null,
   "metadata": {
    "colab": {
     "base_uri": "https://localhost:8080/",
     "height": 34
    },
    "id": "4v_RjyYjYihY",
    "outputId": "46dad03f-b4a8-45a8-e292-f8e5048ff9ee"
   },
   "outputs": [
    {
     "name": "stderr",
     "output_type": "stream",
     "text": [
      "Using TensorFlow backend.\n"
     ]
    }
   ],
   "source": [
    "##All imports\n",
    "\n",
    "\n",
    "import numpy as np\n",
    "import os\n",
    "import sys\n",
    "import time\n",
    "import io\n",
    "import pandas as pd \n",
    "from tqdm._tqdm_notebook import tqdm_notebook\n",
    "import pickle\n",
    "from keras.models import Sequential, load_model\n",
    "from keras.layers import Dense, Dropout\n",
    "from keras.layers import LSTM\n",
    "from keras.callbacks import ModelCheckpoint, EarlyStopping, ReduceLROnPlateau, CSVLogger\n",
    "from keras import optimizers\n",
    "# from keras.wrappers.scikit_learn import KerasClassifier\n",
    "from sklearn.preprocessing import MinMaxScaler\n",
    "from sklearn.model_selection import train_test_split\n",
    "from sklearn.metrics import r2_score\n",
    "import logging\n",
    "import plotly.graph_objects as go\n",
    "# import talos as ta\n",
    "from google.colab import files\n",
    "\n",
    "\n",
    "##Other os related stuff\n",
    "os.environ['TF_CPP_MIN_LOG_LEVEL'] = '2'\n",
    "logging.getLogger(\"tensorflow\").setLevel(logging.ERROR)\n",
    "os.environ['TZ'] = 'Asia/Tehran'  # to set timezone; needed when running on cloud\n",
    "time.tzset()\n",
    "\n"
   ]
  },
  {
   "cell_type": "markdown",
   "metadata": {
    "id": "N9vmpN65Wt-k"
   },
   "source": [
    "# **3. Data**\n"
   ]
  },
  {
   "cell_type": "markdown",
   "metadata": {
    "id": "F-eeOlNZ0ce9"
   },
   "source": [
    "\n",
    "\n",
    "## > **3.1. Correlated Assets**\n",
    "https://www.portfoliovisualizer.com/asset-correlations\n",
    "https://unicornbay.com/tools/most-less-correlated-assets\n",
    "\n"
   ]
  },
  {
   "cell_type": "markdown",
   "metadata": {
    "id": "iKbkwP-sTgF3"
   },
   "source": [
    "### **3.1.1 Data Preparation**"
   ]
  },
  {
   "cell_type": "code",
   "execution_count": null,
   "metadata": {
    "id": "jqleeJupThvm"
   },
   "outputs": [],
   "source": [
    "def parser(x):\n",
    "    return datetime.datetime.strptime(x,'%Y-%m-%d')"
   ]
  },
  {
   "cell_type": "code",
   "execution_count": null,
   "metadata": {
    "id": "E7BcWbwHRN9I"
   },
   "outputs": [],
   "source": [
    "url = 'https://raw.githubusercontent.com/berserkhmdvhb/stockdata-public/master/ge.us.txt'\n",
    "df_gs = pd.read_csv(url)\n",
    "\n",
    "df_gs.drop(df_gs.columns[[1,2,3,5,6]], axis=1,inplace=True)\n",
    "df_gs.columns = ['Date','GS']\n",
    "df_gs['Date'] = pd.to_datetime(df_gs['Date'], format='%Y-%m-%d')\n"
   ]
  },
  {
   "cell_type": "code",
   "execution_count": null,
   "metadata": {
    "colab": {
     "base_uri": "https://localhost:8080/",
     "height": 261
    },
    "id": "g1y_ZNdGVdmn",
    "outputId": "c2f41859-9b89-409d-cd40-bfee72ccccdc"
   },
   "outputs": [
    {
     "name": "stdout",
     "output_type": "stream",
     "text": [
      "        Date      GS\n",
      "0 1962-01-02  0.6201\n",
      "1 1962-01-03  0.6201\n",
      "2 1962-01-04  0.6122\n",
      "3 1962-01-05  0.5957\n",
      "4 1962-01-08  0.5957\n",
      "            Date     GS\n",
      "14053 2017-11-06  20.13\n",
      "14054 2017-11-07  20.21\n",
      "14055 2017-11-08  20.12\n",
      "14056 2017-11-09  19.99\n",
      "14057 2017-11-10  20.49 \n",
      "\n",
      "\n"
     ]
    }
   ],
   "source": [
    "\n",
    "print(df_gs.head())\n",
    "print(df_gs.tail(),'\\n\\n')\n",
    "\n"
   ]
  },
  {
   "cell_type": "code",
   "execution_count": null,
   "metadata": {
    "colab": {
     "base_uri": "https://localhost:8080/",
     "height": 399
    },
    "id": "J_7pbOtBGx_u",
    "outputId": "607e19bc-6270-4cd9-9214-4dfca3efd97c"
   },
   "outputs": [
    {
     "data": {
      "text/html": [
       "<div>\n",
       "<style scoped>\n",
       "    .dataframe tbody tr th:only-of-type {\n",
       "        vertical-align: middle;\n",
       "    }\n",
       "\n",
       "    .dataframe tbody tr th {\n",
       "        vertical-align: top;\n",
       "    }\n",
       "\n",
       "    .dataframe thead th {\n",
       "        text-align: right;\n",
       "    }\n",
       "</style>\n",
       "<table border=\"1\" class=\"dataframe\">\n",
       "  <thead>\n",
       "    <tr style=\"text-align: right;\">\n",
       "      <th></th>\n",
       "      <th>Date</th>\n",
       "      <th>GS</th>\n",
       "    </tr>\n",
       "  </thead>\n",
       "  <tbody>\n",
       "    <tr>\n",
       "      <th>0</th>\n",
       "      <td>1962-01-02</td>\n",
       "      <td>0.6201</td>\n",
       "    </tr>\n",
       "    <tr>\n",
       "      <th>1</th>\n",
       "      <td>1962-01-03</td>\n",
       "      <td>0.6201</td>\n",
       "    </tr>\n",
       "    <tr>\n",
       "      <th>2</th>\n",
       "      <td>1962-01-04</td>\n",
       "      <td>0.6122</td>\n",
       "    </tr>\n",
       "    <tr>\n",
       "      <th>3</th>\n",
       "      <td>1962-01-05</td>\n",
       "      <td>0.5957</td>\n",
       "    </tr>\n",
       "    <tr>\n",
       "      <th>4</th>\n",
       "      <td>1962-01-08</td>\n",
       "      <td>0.5957</td>\n",
       "    </tr>\n",
       "    <tr>\n",
       "      <th>...</th>\n",
       "      <td>...</td>\n",
       "      <td>...</td>\n",
       "    </tr>\n",
       "    <tr>\n",
       "      <th>14053</th>\n",
       "      <td>2017-11-06</td>\n",
       "      <td>20.1300</td>\n",
       "    </tr>\n",
       "    <tr>\n",
       "      <th>14054</th>\n",
       "      <td>2017-11-07</td>\n",
       "      <td>20.2100</td>\n",
       "    </tr>\n",
       "    <tr>\n",
       "      <th>14055</th>\n",
       "      <td>2017-11-08</td>\n",
       "      <td>20.1200</td>\n",
       "    </tr>\n",
       "    <tr>\n",
       "      <th>14056</th>\n",
       "      <td>2017-11-09</td>\n",
       "      <td>19.9900</td>\n",
       "    </tr>\n",
       "    <tr>\n",
       "      <th>14057</th>\n",
       "      <td>2017-11-10</td>\n",
       "      <td>20.4900</td>\n",
       "    </tr>\n",
       "  </tbody>\n",
       "</table>\n",
       "<p>14058 rows × 2 columns</p>\n",
       "</div>"
      ],
      "text/plain": [
       "            Date       GS\n",
       "0     1962-01-02   0.6201\n",
       "1     1962-01-03   0.6201\n",
       "2     1962-01-04   0.6122\n",
       "3     1962-01-05   0.5957\n",
       "4     1962-01-08   0.5957\n",
       "...          ...      ...\n",
       "14053 2017-11-06  20.1300\n",
       "14054 2017-11-07  20.2100\n",
       "14055 2017-11-08  20.1200\n",
       "14056 2017-11-09  19.9900\n",
       "14057 2017-11-10  20.4900\n",
       "\n",
       "[14058 rows x 2 columns]"
      ]
     },
     "execution_count": 7,
     "metadata": {
      "tags": []
     },
     "output_type": "execute_result"
    }
   ],
   "source": [
    "df_gs.dropna()"
   ]
  },
  {
   "cell_type": "code",
   "execution_count": null,
   "metadata": {
    "colab": {
     "base_uri": "https://localhost:8080/",
     "height": 51
    },
    "id": "i7f4c1GXS9hv",
    "outputId": "b65daff6-fe78-4539-c462-e12dd3eee08a"
   },
   "outputs": [
    {
     "name": "stdout",
     "output_type": "stream",
     "text": [
      "There are 14058 number of days in the dataset of General Electrics. \n",
      "\n"
     ]
    }
   ],
   "source": [
    "print('There are {} number of days in the dataset of General Electrics. \\n'.format(df_gs.shape[0]))"
   ]
  },
  {
   "cell_type": "code",
   "execution_count": null,
   "metadata": {
    "colab": {
     "base_uri": "https://localhost:8080/",
     "height": 34
    },
    "id": "DpxWJNJuYuWa",
    "outputId": "4f39ae17-2f1b-4161-bf95-affeb96e6c6c"
   },
   "outputs": [
    {
     "name": "stdout",
     "output_type": "stream",
     "text": [
      "Train--Test size 11246 2812\n"
     ]
    }
   ],
   "source": [
    "df_train, df_test = train_test_split(df_gs, train_size=0.8, test_size=0.2, shuffle=False)\n",
    "print(\"Train--Test size\", len(df_train), len(df_test))"
   ]
  },
  {
   "cell_type": "code",
   "execution_count": null,
   "metadata": {
    "colab": {
     "base_uri": "https://localhost:8080/",
     "height": 34
    },
    "id": "xsHfFwhqa-2X",
    "outputId": "7ce9a2b8-4ada-49c6-b272-bcba82f0b483"
   },
   "outputs": [
    {
     "data": {
      "text/plain": [
       "Timestamp('2005-09-21 00:00:00')"
      ]
     },
     "execution_count": 10,
     "metadata": {
      "tags": []
     },
     "output_type": "execute_result"
    }
   ],
   "source": [
    "df_gs.Date[11000]"
   ]
  },
  {
   "cell_type": "code",
   "execution_count": null,
   "metadata": {
    "id": "rfrnVsL85_cX"
   },
   "outputs": [],
   "source": [
    "#df_gs.set_index('Date', inplace=True)"
   ]
  },
  {
   "cell_type": "code",
   "execution_count": null,
   "metadata": {
    "id": "q_7uaxCN-mKK"
   },
   "outputs": [],
   "source": [
    "#df_gs_b = df_gs.copy()"
   ]
  },
  {
   "cell_type": "markdown",
   "metadata": {
    "id": "ZPmsx6yLTqB0"
   },
   "source": [
    "### **3.1.2 Data Visualization**"
   ]
  },
  {
   "cell_type": "code",
   "execution_count": null,
   "metadata": {
    "id": "n3rwZ8OkTxWb"
   },
   "outputs": [],
   "source": [
    "##Visualize Correlated Stocks\n",
    "\n",
    "###Visaulise 400 days\n",
    "def plot_stocks(dataset1):\n",
    "    plt.figure(figsize=(18, 5), dpi=100)\n",
    "    shape_0 = dataset1.shape[0]\n",
    "\n",
    "    #x_ = range(3, dataset.shape[0])\n",
    "    #x_ =list(dataset.index)\n",
    "    plt.plot(dataset1['Date'],dataset1.iloc[:, 1],color = 'g', label='General Electric stock')\n",
    "    #plt.plot(dataset2['Date'], dataset2.iloc[:, 1],color = 'r', label='Goldman Sachs stock')\n",
    "    #plt.plot(dataset3['Date'], dataset3.iloc[:, 1],color = 'c', label='Goldman Sachs stock')\n",
    "    #plt.vlines(datetime.date(2005,9, 21), 0, 270, linestyles='--', colors='gray', label='Train/Test data cut-off')\n",
    "    plt.vlines(datetime.date(2005,9,21), 0, 50, linestyles='--', colors='gray', label='Train/Test data cut-off')\n",
    "    plt.xlabel('Date')\n",
    "    plt.ylabel('USD')\n",
    "    plt.title('Figure 2: General Electric stock price')\n",
    "    plt.legend()\n",
    "    plt.savefig('stock.png')\n",
    "    plt.show()"
   ]
  },
  {
   "cell_type": "code",
   "execution_count": null,
   "metadata": {
    "colab": {
     "base_uri": "https://localhost:8080/",
     "height": 460
    },
    "id": "Goh3i5ZUcPjs",
    "outputId": "03f718ea-c7fc-4dec-fd55-ea6a754c3707"
   },
   "outputs": [
    {
     "data": {
      "image/png": "[encoded data removed]",
      "text/plain": [
       "<Figure size 1800x500 with 1 Axes>"
      ]
     },
     "metadata": {
      "needs_background": "light",
      "tags": []
     },
     "output_type": "display_data"
    }
   ],
   "source": [
    "plot_stocks(df_gs)"
   ]
  },
  {
   "cell_type": "code",
   "execution_count": null,
   "metadata": {
    "id": "yf-MeM8rBvOM"
   },
   "outputs": [],
   "source": [
    "#files.download('stock.png')"
   ]
  },
  {
   "cell_type": "markdown",
   "metadata": {
    "id": "9q73x4EJalcj"
   },
   "source": [
    "\n",
    "\n",
    "## **3.2. Technical Indicators**\n",
    "\n"
   ]
  },
  {
   "cell_type": "code",
   "execution_count": null,
   "metadata": {
    "id": "w2byIAihasGZ"
   },
   "outputs": [],
   "source": [
    "## ma: Moving Average\n",
    "## MACD: Moving Average Convergence Divergence\n",
    "## ema: Exponential Moving Average\n",
    "def get_technical_indicators(datasetinput):\n",
    "    length = datasetinput.shape[0]\n",
    "    dataset = datasetinput.copy()\n",
    "    column_names = ['Date','Adj','ma7','ma21','26ema','20sd','upper_band','lower_band', 'ema']\n",
    "    ndataset = pd.DataFrame (columns = column_names)\n",
    "    ndataset['Adj'] = datasetinput.iloc[:, 1]\n",
    "    ndataset['Date'] = datasetinput['Date']\n",
    "    # Create 7 and 21 days Moving Average\n",
    "    ndataset['ma7'] = ndataset.iloc[:, 1].rolling(window=7).mean()\n",
    "    ndataset['ma21'] = ndataset.iloc[:, 1].rolling(window=21).mean()\n",
    "    \n",
    "    ## Create MACD\n",
    "    #s = pd.Series(dataset['GS'])\n",
    "    #ndataset['26ema'] = s.ewm(span=26)\n",
    "    #ndataset['12ema'] = s.ewm(span=12)\n",
    "    #ndataset['MACD'] = (ndataset['12ema']-ndataset['26ema'])\n",
    "    \n",
    "    #dataset['26ema'] = pd.ewma(dataset['price'], span=26)\n",
    "    #dataset['12ema'] = pd.ewma(dataset['price'], span=12)\n",
    "    #dataset['MACD'] = (dataset['12ema']-dataset['26ema'])\n",
    "\n",
    "    ndataset['12ema'] = ndataset.iloc[:, 1].ewm(span=12, adjust=False).mean()\n",
    "    ndataset['26ema'] = ndataset.iloc[:, 1].ewm(span=26, adjust=False).mean()\n",
    "    #ndataset['MACD'] = (ndataset['12ema']- ndataset['26ema'])\n",
    "    #exp3 = ndataset['MACD'].ewm(span=9, adjust=False).mean()\n",
    "\n",
    "    ## Create Bollinger Bands\n",
    "    ### set .std(ddof=0) for population std instead of sample\n",
    "    #dataset['20sd'] = pd.stats.moments.rolling_std(dataset['GS'],20)\n",
    "    #dataset['upper_band'] = dataset['ma21'] + (dataset['20sd']*2)\n",
    "    #dataset['lower_band'] = dataset['ma21'] - (dataset['20sd']*2)\n",
    "    ndataset['20sd'] = ndataset.iloc[:, 1].rolling(window=20).std() \n",
    "    ndataset['upper_band'] = ndataset['ma21'] + (ndataset['20sd'] * 2)\n",
    "    ndataset['lower_band'] = ndataset['ma21'] - (ndataset['20sd'] * 2)\n",
    "\n",
    "    \n",
    "    ## Create Exponential moving average\n",
    "    ndataset['ema'] = ndataset.iloc[:, 1].ewm(com=0.5).mean()\n",
    "    \n",
    "    ## Create Momentum\n",
    "    #ndataset['momentum'] = ndataset.iloc[:, 1]-1\n",
    "    #ndataset['log_momentum'] = np.log(ndataset['momentum'])\n",
    "\n",
    "    ## Fill Missing Values\n",
    "    ndataset['ma7'] = ndataset['ma7'].fillna(ndataset['ma7'].mean())\n",
    "    ndataset['ma21'] = ndataset['ma21'].fillna(ndataset['ma21'].mean())\n",
    "    ndataset['20sd'] = ndataset['20sd'].fillna(ndataset['20sd'].mean())\n",
    "    ndataset['upper_band'] = ndataset['upper_band'].fillna(ndataset['upper_band'].mean())\n",
    "    ndataset['lower_band'] = ndataset['lower_band'].fillna(ndataset['lower_band'].mean())\n",
    "    return ndataset"
   ]
  },
  {
   "cell_type": "code",
   "execution_count": null,
   "metadata": {
    "id": "W3pdnjk0bAPw"
   },
   "outputs": [],
   "source": [
    "dataset_TI_gs = get_technical_indicators(df_gs)\n"
   ]
  },
  {
   "cell_type": "code",
   "execution_count": null,
   "metadata": {
    "id": "9UIXKlKRtpKT"
   },
   "outputs": [],
   "source": [
    "##Visaulise 400 days\n",
    "def plot_technical_indicators(dataset, last_days):\n",
    "    plt.figure(figsize=(16, 10), dpi=100)\n",
    "    shape_0 = dataset.shape[0]\n",
    "    xmacd_ = shape_0-last_days\n",
    "    \n",
    "    dataset = dataset.iloc[-last_days:, :]\n",
    "    x_ = range(3, dataset.shape[0])\n",
    "    x_ =list(dataset.index)\n",
    "    \n",
    "\n",
    "    plt.plot(dataset['ma7'],label='MA 7', color='g',linestyle='--')\n",
    "    plt.plot(dataset.iloc[:, 1],label='Closing Price', color='b')\n",
    "    plt.plot(dataset['ma21'],label='MA 21', color='r',linestyle='--')\n",
    "    plt.plot(dataset['upper_band'],label='Upper Band', color='c')\n",
    "    plt.plot(dataset['lower_band'],label='Lower Band', color='c')\n",
    "    plt.fill_between(x_, dataset['lower_band'], dataset['upper_band'], alpha=0.35)\n",
    "    plt.title('Technical indicators for Goldman Sachs - last {} days.'.format(last_days))\n",
    "    plt.ylabel('USD')\n",
    "    plt.legend()\n",
    "    plt.savefig(\"inds.png\")\n",
    "    plt.show()"
   ]
  },
  {
   "cell_type": "code",
   "execution_count": null,
   "metadata": {
    "colab": {
     "base_uri": "https://localhost:8080/",
     "height": 838
    },
    "id": "06jBVuw0tuUs",
    "outputId": "2263ba49-4bce-4910-a0d2-a6656a27c735"
   },
   "outputs": [
    {
     "data": {
      "image/png": "[encoded data removed]",
      "text/plain": [
       "<Figure size 1600x1000 with 1 Axes>"
      ]
     },
     "metadata": {
      "needs_background": "light",
      "tags": []
     },
     "output_type": "display_data"
    }
   ],
   "source": [
    "plot_technical_indicators(dataset_TI_gs, 400)"
   ]
  },
  {
   "cell_type": "code",
   "execution_count": null,
   "metadata": {
    "id": "7ScShRKDB9f-"
   },
   "outputs": [],
   "source": [
    "#files.download('in')"
   ]
  },
  {
   "cell_type": "code",
   "execution_count": null,
   "metadata": {
    "colab": {
     "base_uri": "https://localhost:8080/",
     "height": 399
    },
    "id": "GNCJRoCBDMde",
    "outputId": "f8edd91d-ffa9-461a-b43b-65853932bd51"
   },
   "outputs": [
    {
     "data": {
      "text/html": [
       "<div>\n",
       "<style scoped>\n",
       "    .dataframe tbody tr th:only-of-type {\n",
       "        vertical-align: middle;\n",
       "    }\n",
       "\n",
       "    .dataframe tbody tr th {\n",
       "        vertical-align: top;\n",
       "    }\n",
       "\n",
       "    .dataframe thead th {\n",
       "        text-align: right;\n",
       "    }\n",
       "</style>\n",
       "<table border=\"1\" class=\"dataframe\">\n",
       "  <thead>\n",
       "    <tr style=\"text-align: right;\">\n",
       "      <th></th>\n",
       "      <th>Date</th>\n",
       "      <th>Adj</th>\n",
       "      <th>ma7</th>\n",
       "      <th>ma21</th>\n",
       "      <th>26ema</th>\n",
       "      <th>20sd</th>\n",
       "      <th>upper_band</th>\n",
       "      <th>lower_band</th>\n",
       "      <th>ema</th>\n",
       "      <th>12ema</th>\n",
       "    </tr>\n",
       "  </thead>\n",
       "  <tbody>\n",
       "    <tr>\n",
       "      <th>0</th>\n",
       "      <td>1962-01-02</td>\n",
       "      <td>0.6201</td>\n",
       "      <td>10.534214</td>\n",
       "      <td>10.534029</td>\n",
       "      <td>0.620100</td>\n",
       "      <td>0.268396</td>\n",
       "      <td>11.070858</td>\n",
       "      <td>9.997200</td>\n",
       "      <td>0.620100</td>\n",
       "      <td>0.620100</td>\n",
       "    </tr>\n",
       "    <tr>\n",
       "      <th>1</th>\n",
       "      <td>1962-01-03</td>\n",
       "      <td>0.6201</td>\n",
       "      <td>10.534214</td>\n",
       "      <td>10.534029</td>\n",
       "      <td>0.620100</td>\n",
       "      <td>0.268396</td>\n",
       "      <td>11.070858</td>\n",
       "      <td>9.997200</td>\n",
       "      <td>0.620100</td>\n",
       "      <td>0.620100</td>\n",
       "    </tr>\n",
       "    <tr>\n",
       "      <th>2</th>\n",
       "      <td>1962-01-04</td>\n",
       "      <td>0.6122</td>\n",
       "      <td>10.534214</td>\n",
       "      <td>10.534029</td>\n",
       "      <td>0.619515</td>\n",
       "      <td>0.268396</td>\n",
       "      <td>11.070858</td>\n",
       "      <td>9.997200</td>\n",
       "      <td>0.614631</td>\n",
       "      <td>0.618885</td>\n",
       "    </tr>\n",
       "    <tr>\n",
       "      <th>3</th>\n",
       "      <td>1962-01-05</td>\n",
       "      <td>0.5957</td>\n",
       "      <td>10.534214</td>\n",
       "      <td>10.534029</td>\n",
       "      <td>0.617751</td>\n",
       "      <td>0.268396</td>\n",
       "      <td>11.070858</td>\n",
       "      <td>9.997200</td>\n",
       "      <td>0.601853</td>\n",
       "      <td>0.615318</td>\n",
       "    </tr>\n",
       "    <tr>\n",
       "      <th>4</th>\n",
       "      <td>1962-01-08</td>\n",
       "      <td>0.5957</td>\n",
       "      <td>10.534214</td>\n",
       "      <td>10.534029</td>\n",
       "      <td>0.616117</td>\n",
       "      <td>0.268396</td>\n",
       "      <td>11.070858</td>\n",
       "      <td>9.997200</td>\n",
       "      <td>0.597734</td>\n",
       "      <td>0.612300</td>\n",
       "    </tr>\n",
       "    <tr>\n",
       "      <th>...</th>\n",
       "      <td>...</td>\n",
       "      <td>...</td>\n",
       "      <td>...</td>\n",
       "      <td>...</td>\n",
       "      <td>...</td>\n",
       "      <td>...</td>\n",
       "      <td>...</td>\n",
       "      <td>...</td>\n",
       "      <td>...</td>\n",
       "      <td>...</td>\n",
       "    </tr>\n",
       "    <tr>\n",
       "      <th>14053</th>\n",
       "      <td>2017-11-06</td>\n",
       "      <td>20.1300</td>\n",
       "      <td>20.227143</td>\n",
       "      <td>21.980476</td>\n",
       "      <td>22.005934</td>\n",
       "      <td>1.424942</td>\n",
       "      <td>24.830360</td>\n",
       "      <td>19.130593</td>\n",
       "      <td>20.117657</td>\n",
       "      <td>20.942840</td>\n",
       "    </tr>\n",
       "    <tr>\n",
       "      <th>14054</th>\n",
       "      <td>2017-11-07</td>\n",
       "      <td>20.2100</td>\n",
       "      <td>20.144286</td>\n",
       "      <td>21.827143</td>\n",
       "      <td>21.872902</td>\n",
       "      <td>1.430081</td>\n",
       "      <td>24.687305</td>\n",
       "      <td>18.966981</td>\n",
       "      <td>20.179219</td>\n",
       "      <td>20.830095</td>\n",
       "    </tr>\n",
       "    <tr>\n",
       "      <th>14055</th>\n",
       "      <td>2017-11-08</td>\n",
       "      <td>20.1200</td>\n",
       "      <td>20.102857</td>\n",
       "      <td>21.672857</td>\n",
       "      <td>21.743057</td>\n",
       "      <td>1.438929</td>\n",
       "      <td>24.550715</td>\n",
       "      <td>18.794999</td>\n",
       "      <td>20.139740</td>\n",
       "      <td>20.720850</td>\n",
       "    </tr>\n",
       "    <tr>\n",
       "      <th>14056</th>\n",
       "      <td>2017-11-09</td>\n",
       "      <td>19.9900</td>\n",
       "      <td>20.078571</td>\n",
       "      <td>21.526190</td>\n",
       "      <td>21.613201</td>\n",
       "      <td>1.439656</td>\n",
       "      <td>24.405503</td>\n",
       "      <td>18.646878</td>\n",
       "      <td>20.039913</td>\n",
       "      <td>20.608411</td>\n",
       "    </tr>\n",
       "    <tr>\n",
       "      <th>14057</th>\n",
       "      <td>2017-11-10</td>\n",
       "      <td>20.4900</td>\n",
       "      <td>20.145714</td>\n",
       "      <td>21.404286</td>\n",
       "      <td>21.530001</td>\n",
       "      <td>1.407691</td>\n",
       "      <td>24.219668</td>\n",
       "      <td>18.588903</td>\n",
       "      <td>20.339971</td>\n",
       "      <td>20.590194</td>\n",
       "    </tr>\n",
       "  </tbody>\n",
       "</table>\n",
       "<p>14058 rows × 10 columns</p>\n",
       "</div>"
      ],
      "text/plain": [
       "            Date      Adj        ma7  ...  lower_band        ema      12ema\n",
       "0     1962-01-02   0.6201  10.534214  ...    9.997200   0.620100   0.620100\n",
       "1     1962-01-03   0.6201  10.534214  ...    9.997200   0.620100   0.620100\n",
       "2     1962-01-04   0.6122  10.534214  ...    9.997200   0.614631   0.618885\n",
       "3     1962-01-05   0.5957  10.534214  ...    9.997200   0.601853   0.615318\n",
       "4     1962-01-08   0.5957  10.534214  ...    9.997200   0.597734   0.612300\n",
       "...          ...      ...        ...  ...         ...        ...        ...\n",
       "14053 2017-11-06  20.1300  20.227143  ...   19.130593  20.117657  20.942840\n",
       "14054 2017-11-07  20.2100  20.144286  ...   18.966981  20.179219  20.830095\n",
       "14055 2017-11-08  20.1200  20.102857  ...   18.794999  20.139740  20.720850\n",
       "14056 2017-11-09  19.9900  20.078571  ...   18.646878  20.039913  20.608411\n",
       "14057 2017-11-10  20.4900  20.145714  ...   18.588903  20.339971  20.590194\n",
       "\n",
       "[14058 rows x 10 columns]"
      ]
     },
     "execution_count": 21,
     "metadata": {
      "tags": []
     },
     "output_type": "execute_result"
    }
   ],
   "source": [
    "dataset_TI_gs"
   ]
  },
  {
   "cell_type": "markdown",
   "metadata": {
    "id": "QFSzeleRubDq"
   },
   "source": [
    "##  ***3.4. Fourier transforms for trend analysis***\n",
    "\n"
   ]
  },
  {
   "cell_type": "code",
   "execution_count": null,
   "metadata": {
    "id": "jemc8SlYdUQh"
   },
   "outputs": [],
   "source": [
    "##Visualize Correlated Stocks\n",
    "\n",
    "###Visaulise 400 days\n",
    "def plot_fouriers(dataset):\n",
    "    close_fft = np.fft.fft(np.asarray(dataset.iloc[:, 1].tolist()))\n",
    "    fft_df = pd.DataFrame({'fft':close_fft})\n",
    "    fft_df['absolute'] = fft_df['fft'].apply(lambda x: np.abs(x))\n",
    "    fft_df['angle'] = fft_df['fft'].apply(lambda x: np.angle(x))\n",
    "    plt.figure(figsize=(18, 5), dpi=100)\n",
    "    fft_list = np.asarray(fft_df['fft'].tolist())\n",
    "    for num_ in [3, 6, 9, 100]:\n",
    "        fft_list_m10= np.copy(fft_list); fft_list_m10[num_:-num_]=0\n",
    "        plt.plot(np.fft.ifft(fft_list_m10), label='Fourier transform with {} components'.format(num_))\n",
    "    plt.plot(dataset.iloc[:, 0],  label='Real')\n",
    "    plt.xlabel('Days')\n",
    "    plt.ylabel('USD')\n",
    "    plt.title('Figure 3: Goldman Sachs (close) stock prices & Fourier transforms')\n",
    "    plt.legend()\n",
    "    plt.show()"
   ]
  },
  {
   "cell_type": "code",
   "execution_count": null,
   "metadata": {
    "id": "4kDYZ3jtR8s8"
   },
   "outputs": [],
   "source": [
    "def fourier_tr(dataset,num_):\n",
    "    close_fft = np.fft.fft(np.asarray(dataset.iloc[:, 1].tolist()))\n",
    "    fft_df = pd.DataFrame({'fft':close_fft})\n",
    "    fft_df['absolute'] = fft_df['fft'].apply(lambda x: np.abs(x))\n",
    "    fft_df['angle'] = fft_df['fft'].apply(lambda x: np.angle(x))\n",
    "    fft_list = np.asarray(fft_df['fft'].tolist())\n",
    "    fft_list_m10= np.copy(fft_list); fft_list_m10[num_:-num_]=0\n",
    "    return np.fft.ifft(fft_list_m10)"
   ]
  },
  {
   "cell_type": "code",
   "execution_count": null,
   "metadata": {
    "id": "aG5lerqIS-rz"
   },
   "outputs": [],
   "source": [
    "##Visualize Correlated Stocks\n",
    "\n",
    "###Visaulise 400 days\n",
    "def plot_fouriers(dataset,n1,n2,n3,n4):\n",
    "    plt.figure(figsize=(18, 5), dpi=100)\n",
    "    for num_ in [n1,n2,n3,n4]:\n",
    "        plt.plot(fourier_tr(dataset,num_), label='Fourier transform with {} components'.format(num_))\n",
    "    plt.plot(dataset.iloc[:, 1],  label='Real')\n",
    "    plt.xlabel('Days')\n",
    "    plt.ylabel('USD')\n",
    "    plt.title('Figure 3: Goldman Sachs (close) stock prices & Fourier transforms')\n",
    "    plt.legend()\n",
    "    plt.savefig(\"four.png\")\n",
    "    plt.show()"
   ]
  },
  {
   "cell_type": "code",
   "execution_count": null,
   "metadata": {
    "colab": {
     "base_uri": "https://localhost:8080/",
     "height": 462
    },
    "id": "8lDdJGbrul3J",
    "outputId": "8c2dcbad-cdb4-4e61-d43b-807270a2dd67"
   },
   "outputs": [
    {
     "data": {
      "image/png": "[encoded data removed]",
      "text/plain": [
       "<Figure size 1800x500 with 1 Axes>"
      ]
     },
     "metadata": {
      "needs_background": "light",
      "tags": []
     },
     "output_type": "display_data"
    }
   ],
   "source": [
    "plot_fouriers(df_gs,3, 6, 9, 100)"
   ]
  },
  {
   "cell_type": "code",
   "execution_count": null,
   "metadata": {
    "id": "wH_MCWWbuoIN"
   },
   "outputs": [],
   "source": [
    "##Wavelet\n",
    "\n",
    "#from collections import deque\n",
    "#items = deque(np.asarray(fft_df['absolute'].tolist()))\n",
    "#items.rotate(int(np.floor(len(fft_df)/2)))\n",
    "#plt.figure(figsize=(10, 7), dpi=80)\n",
    "#plt.stem(items)\n",
    "#plt.title('Figure 4: Components of Fourier transforms')\n",
    "#plt.show()"
   ]
  },
  {
   "cell_type": "code",
   "execution_count": null,
   "metadata": {
    "id": "v2ucPIH6gqYp"
   },
   "outputs": [],
   "source": [
    "##Appending Fourier transforms of 3,6,9 to Features##\n",
    "###GS\n",
    "#dataset_TI_gs['Fourier3'] = fourier_tr(df_gs,3)\n",
    "#dataset_TI_gs['Fourier6'] = fourier_tr(df_gs,6)\n",
    "#dataset_TI_gs['Fourier9'] = fourier_tr(df_gs,9)\n",
    "\n",
    "\n",
    "\n",
    "\n",
    "\n",
    "\n"
   ]
  },
  {
   "cell_type": "markdown",
   "metadata": {
    "id": "FPKLJI3eWIkJ"
   },
   "source": []
  },
  {
   "cell_type": "markdown",
   "metadata": {
    "id": "HG890nvf4G6p"
   },
   "source": [
    "## **3.7. Feature Engineering**"
   ]
  },
  {
   "cell_type": "markdown",
   "metadata": {
    "id": "R5o7IdwK22Eb"
   },
   "source": [
    "### **3.7.0. Aggregate All Features**"
   ]
  },
  {
   "cell_type": "code",
   "execution_count": null,
   "metadata": {
    "id": "jxN40IrVBNNH"
   },
   "outputs": [],
   "source": [
    "dataset_total = dataset_TI_gs.copy()"
   ]
  },
  {
   "cell_type": "markdown",
   "metadata": {
    "id": "y7nxt5DC58fU"
   },
   "source": []
  },
  {
   "cell_type": "code",
   "execution_count": null,
   "metadata": {
    "colab": {
     "base_uri": "https://localhost:8080/",
     "height": 34
    },
    "id": "om7Jwljq4S33",
    "outputId": "9153c31c-fca6-471c-81ef-46acd8cb0e8b"
   },
   "outputs": [
    {
     "name": "stdout",
     "output_type": "stream",
     "text": [
      "Total dataset has 14058 samples, and 10 features.\n"
     ]
    }
   ],
   "source": [
    "print('Total dataset has {} samples, and {} features.'.format(dataset_total.shape[0], \\\n",
    "                                                              dataset_total.shape[1]))"
   ]
  },
  {
   "cell_type": "code",
   "execution_count": null,
   "metadata": {
    "colab": {
     "base_uri": "https://localhost:8080/",
     "height": 399
    },
    "id": "K3RZaCECBVyI",
    "outputId": "d9a6f962-9c02-4495-e1ca-4dab27cc96dc"
   },
   "outputs": [
    {
     "data": {
      "text/html": [
       "<div>\n",
       "<style scoped>\n",
       "    .dataframe tbody tr th:only-of-type {\n",
       "        vertical-align: middle;\n",
       "    }\n",
       "\n",
       "    .dataframe tbody tr th {\n",
       "        vertical-align: top;\n",
       "    }\n",
       "\n",
       "    .dataframe thead th {\n",
       "        text-align: right;\n",
       "    }\n",
       "</style>\n",
       "<table border=\"1\" class=\"dataframe\">\n",
       "  <thead>\n",
       "    <tr style=\"text-align: right;\">\n",
       "      <th></th>\n",
       "      <th>Date</th>\n",
       "      <th>Adj</th>\n",
       "      <th>ma7</th>\n",
       "      <th>ma21</th>\n",
       "      <th>26ema</th>\n",
       "      <th>20sd</th>\n",
       "      <th>upper_band</th>\n",
       "      <th>lower_band</th>\n",
       "      <th>ema</th>\n",
       "      <th>12ema</th>\n",
       "    </tr>\n",
       "  </thead>\n",
       "  <tbody>\n",
       "    <tr>\n",
       "      <th>0</th>\n",
       "      <td>1962-01-02</td>\n",
       "      <td>0.6201</td>\n",
       "      <td>10.534214</td>\n",
       "      <td>10.534029</td>\n",
       "      <td>0.620100</td>\n",
       "      <td>0.268396</td>\n",
       "      <td>11.070858</td>\n",
       "      <td>9.997200</td>\n",
       "      <td>0.620100</td>\n",
       "      <td>0.620100</td>\n",
       "    </tr>\n",
       "    <tr>\n",
       "      <th>1</th>\n",
       "      <td>1962-01-03</td>\n",
       "      <td>0.6201</td>\n",
       "      <td>10.534214</td>\n",
       "      <td>10.534029</td>\n",
       "      <td>0.620100</td>\n",
       "      <td>0.268396</td>\n",
       "      <td>11.070858</td>\n",
       "      <td>9.997200</td>\n",
       "      <td>0.620100</td>\n",
       "      <td>0.620100</td>\n",
       "    </tr>\n",
       "    <tr>\n",
       "      <th>2</th>\n",
       "      <td>1962-01-04</td>\n",
       "      <td>0.6122</td>\n",
       "      <td>10.534214</td>\n",
       "      <td>10.534029</td>\n",
       "      <td>0.619515</td>\n",
       "      <td>0.268396</td>\n",
       "      <td>11.070858</td>\n",
       "      <td>9.997200</td>\n",
       "      <td>0.614631</td>\n",
       "      <td>0.618885</td>\n",
       "    </tr>\n",
       "    <tr>\n",
       "      <th>3</th>\n",
       "      <td>1962-01-05</td>\n",
       "      <td>0.5957</td>\n",
       "      <td>10.534214</td>\n",
       "      <td>10.534029</td>\n",
       "      <td>0.617751</td>\n",
       "      <td>0.268396</td>\n",
       "      <td>11.070858</td>\n",
       "      <td>9.997200</td>\n",
       "      <td>0.601853</td>\n",
       "      <td>0.615318</td>\n",
       "    </tr>\n",
       "    <tr>\n",
       "      <th>4</th>\n",
       "      <td>1962-01-08</td>\n",
       "      <td>0.5957</td>\n",
       "      <td>10.534214</td>\n",
       "      <td>10.534029</td>\n",
       "      <td>0.616117</td>\n",
       "      <td>0.268396</td>\n",
       "      <td>11.070858</td>\n",
       "      <td>9.997200</td>\n",
       "      <td>0.597734</td>\n",
       "      <td>0.612300</td>\n",
       "    </tr>\n",
       "    <tr>\n",
       "      <th>...</th>\n",
       "      <td>...</td>\n",
       "      <td>...</td>\n",
       "      <td>...</td>\n",
       "      <td>...</td>\n",
       "      <td>...</td>\n",
       "      <td>...</td>\n",
       "      <td>...</td>\n",
       "      <td>...</td>\n",
       "      <td>...</td>\n",
       "      <td>...</td>\n",
       "    </tr>\n",
       "    <tr>\n",
       "      <th>14053</th>\n",
       "      <td>2017-11-06</td>\n",
       "      <td>20.1300</td>\n",
       "      <td>20.227143</td>\n",
       "      <td>21.980476</td>\n",
       "      <td>22.005934</td>\n",
       "      <td>1.424942</td>\n",
       "      <td>24.830360</td>\n",
       "      <td>19.130593</td>\n",
       "      <td>20.117657</td>\n",
       "      <td>20.942840</td>\n",
       "    </tr>\n",
       "    <tr>\n",
       "      <th>14054</th>\n",
       "      <td>2017-11-07</td>\n",
       "      <td>20.2100</td>\n",
       "      <td>20.144286</td>\n",
       "      <td>21.827143</td>\n",
       "      <td>21.872902</td>\n",
       "      <td>1.430081</td>\n",
       "      <td>24.687305</td>\n",
       "      <td>18.966981</td>\n",
       "      <td>20.179219</td>\n",
       "      <td>20.830095</td>\n",
       "    </tr>\n",
       "    <tr>\n",
       "      <th>14055</th>\n",
       "      <td>2017-11-08</td>\n",
       "      <td>20.1200</td>\n",
       "      <td>20.102857</td>\n",
       "      <td>21.672857</td>\n",
       "      <td>21.743057</td>\n",
       "      <td>1.438929</td>\n",
       "      <td>24.550715</td>\n",
       "      <td>18.794999</td>\n",
       "      <td>20.139740</td>\n",
       "      <td>20.720850</td>\n",
       "    </tr>\n",
       "    <tr>\n",
       "      <th>14056</th>\n",
       "      <td>2017-11-09</td>\n",
       "      <td>19.9900</td>\n",
       "      <td>20.078571</td>\n",
       "      <td>21.526190</td>\n",
       "      <td>21.613201</td>\n",
       "      <td>1.439656</td>\n",
       "      <td>24.405503</td>\n",
       "      <td>18.646878</td>\n",
       "      <td>20.039913</td>\n",
       "      <td>20.608411</td>\n",
       "    </tr>\n",
       "    <tr>\n",
       "      <th>14057</th>\n",
       "      <td>2017-11-10</td>\n",
       "      <td>20.4900</td>\n",
       "      <td>20.145714</td>\n",
       "      <td>21.404286</td>\n",
       "      <td>21.530001</td>\n",
       "      <td>1.407691</td>\n",
       "      <td>24.219668</td>\n",
       "      <td>18.588903</td>\n",
       "      <td>20.339971</td>\n",
       "      <td>20.590194</td>\n",
       "    </tr>\n",
       "  </tbody>\n",
       "</table>\n",
       "<p>14058 rows × 10 columns</p>\n",
       "</div>"
      ],
      "text/plain": [
       "            Date      Adj        ma7  ...  lower_band        ema      12ema\n",
       "0     1962-01-02   0.6201  10.534214  ...    9.997200   0.620100   0.620100\n",
       "1     1962-01-03   0.6201  10.534214  ...    9.997200   0.620100   0.620100\n",
       "2     1962-01-04   0.6122  10.534214  ...    9.997200   0.614631   0.618885\n",
       "3     1962-01-05   0.5957  10.534214  ...    9.997200   0.601853   0.615318\n",
       "4     1962-01-08   0.5957  10.534214  ...    9.997200   0.597734   0.612300\n",
       "...          ...      ...        ...  ...         ...        ...        ...\n",
       "14053 2017-11-06  20.1300  20.227143  ...   19.130593  20.117657  20.942840\n",
       "14054 2017-11-07  20.2100  20.144286  ...   18.966981  20.179219  20.830095\n",
       "14055 2017-11-08  20.1200  20.102857  ...   18.794999  20.139740  20.720850\n",
       "14056 2017-11-09  19.9900  20.078571  ...   18.646878  20.039913  20.608411\n",
       "14057 2017-11-10  20.4900  20.145714  ...   18.588903  20.339971  20.590194\n",
       "\n",
       "[14058 rows x 10 columns]"
      ]
     },
     "execution_count": 30,
     "metadata": {
      "tags": []
     },
     "output_type": "execute_result"
    }
   ],
   "source": [
    "dataset_total"
   ]
  },
  {
   "cell_type": "code",
   "execution_count": null,
   "metadata": {
    "colab": {
     "base_uri": "https://localhost:8080/",
     "height": 34
    },
    "id": "UDmLgt25PSBQ",
    "outputId": "e750ee9e-af53-4f00-c39c-e646a8aa56c1"
   },
   "outputs": [
    {
     "data": {
      "text/plain": [
       "10"
      ]
     },
     "execution_count": 31,
     "metadata": {
      "tags": []
     },
     "output_type": "execute_result"
    }
   ],
   "source": [
    "len(dataset_total.columns)"
   ]
  },
  {
   "cell_type": "markdown",
   "metadata": {
    "id": "z4wTLRfe-hCu"
   },
   "source": [
    "### **3.7.1. Feature importance with XGBoost**"
   ]
  },
  {
   "cell_type": "code",
   "execution_count": null,
   "metadata": {
    "id": "9QrT-eQ1AXWN"
   },
   "outputs": [],
   "source": [
    "dataset_total.set_index('Date', inplace=True)\n",
    "#dataset_TI_gs.set_index('Date', inplace=True)"
   ]
  },
  {
   "cell_type": "code",
   "execution_count": null,
   "metadata": {
    "id": "6YE1M5cU-lzo"
   },
   "outputs": [],
   "source": [
    "def get_feature_importance_data(data_income):\n",
    "    data = data_income.copy()\n",
    "    y = data['Adj']\n",
    "    X = data.iloc[:, 1:]\n",
    "    \n",
    "    train_samples = int(X.shape[0] * 0.65)\n",
    " \n",
    "    X_train = X.iloc[:train_samples]\n",
    "    X_test = X.iloc[train_samples:]\n",
    "\n",
    "    y_train = y.iloc[:train_samples]\n",
    "    y_test = y.iloc[train_samples:]\n",
    "    \n",
    "    return (X_train, y_train), (X_test, y_test)"
   ]
  },
  {
   "cell_type": "code",
   "execution_count": null,
   "metadata": {
    "id": "AhpQPSy8-5qK"
   },
   "outputs": [],
   "source": [
    "# Get training and test data\n",
    "(X_train_FI, y_train_FI), (X_test_FI, y_test_FI) = get_feature_importance_data(dataset_total)\n",
    "regressor = xgb.XGBRegressor(gamma=0.0,n_estimators=100,base_score=0.9,colsample_bytree=1,learning_rate=0.14)"
   ]
  },
  {
   "cell_type": "code",
   "execution_count": null,
   "metadata": {
    "colab": {
     "base_uri": "https://localhost:8080/",
     "height": 34
    },
    "id": "Wjm3oyo7_Ezq",
    "outputId": "e45f14cf-fbc4-43b6-95de-aea5793e207a"
   },
   "outputs": [
    {
     "name": "stdout",
     "output_type": "stream",
     "text": [
      "[10:42:14] WARNING: /workspace/src/objective/regression_obj.cu:152: reg:linear is now deprecated in favor of reg:squarederror.\n"
     ]
    }
   ],
   "source": [
    "xgbModel = regressor.fit(X_train_FI,y_train_FI, \\\n",
    "                         eval_set = [(X_train_FI, y_train_FI), (X_test_FI, y_test_FI)], \\\n",
    "                         verbose=False)"
   ]
  },
  {
   "cell_type": "code",
   "execution_count": null,
   "metadata": {
    "id": "pg0nRSPl_G_a"
   },
   "outputs": [],
   "source": [
    "eval_result = regressor.evals_result()"
   ]
  },
  {
   "cell_type": "code",
   "execution_count": null,
   "metadata": {
    "id": "KeZ6mBA2_O4x"
   },
   "outputs": [],
   "source": [
    "training_rounds = range(len(eval_result['validation_0']['rmse']))"
   ]
  },
  {
   "cell_type": "code",
   "execution_count": null,
   "metadata": {
    "colab": {
     "base_uri": "https://localhost:8080/",
     "height": 295
    },
    "id": "ou7oEYW0_Qem",
    "outputId": "a300d383-29c7-43c4-dd5c-e0e43b092b78"
   },
   "outputs": [
    {
     "data": {
      "image/png": "[encoded data removed]",
      "text/plain": [
       "<Figure size 432x288 with 1 Axes>"
      ]
     },
     "metadata": {
      "needs_background": "light",
      "tags": []
     },
     "output_type": "display_data"
    }
   ],
   "source": [
    "plt.scatter(x=training_rounds,y=eval_result['validation_0']['rmse'],label='Training Error')\n",
    "plt.scatter(x=training_rounds,y=eval_result['validation_1']['rmse'],label='Validation Error')\n",
    "plt.xlabel('Iterations')\n",
    "plt.ylabel('RMSE')\n",
    "plt.title('Training Vs Validation Error')\n",
    "plt.legend()\n",
    "plt.show()"
   ]
  },
  {
   "cell_type": "code",
   "execution_count": null,
   "metadata": {
    "colab": {
     "base_uri": "https://localhost:8080/",
     "height": 548
    },
    "id": "R1vZ0e0A_SCL",
    "outputId": "9a9c76f6-0f3a-48ea-aee8-9ec9928f17e0"
   },
   "outputs": [
    {
     "data": {
      "image/png": "[encoded data removed]",
      "text/plain": [
       "<Figure size 576x576 with 1 Axes>"
      ]
     },
     "metadata": {
      "needs_background": "light",
      "tags": []
     },
     "output_type": "display_data"
    }
   ],
   "source": [
    "fig = plt.figure(figsize=(8,8))\n",
    "plt.xticks(rotation='vertical')\n",
    "plt.bar([i for i in range(len(xgbModel.feature_importances_))], xgbModel.feature_importances_.tolist(), tick_label=X_test_FI.columns)\n",
    "plt.title('Figure 6: Feature importance of the technical indicators.')\n",
    "plt.show()"
   ]
  },
  {
   "cell_type": "code",
   "execution_count": null,
   "metadata": {
    "colab": {
     "base_uri": "https://localhost:8080/",
     "height": 34
    },
    "id": "B0bByIeR_UJD",
    "outputId": "65f798ab-4020-4b7e-90f4-b66a16d134b5"
   },
   "outputs": [
    {
     "data": {
      "text/plain": [
       "9"
      ]
     },
     "execution_count": 40,
     "metadata": {
      "tags": []
     },
     "output_type": "execute_result"
    }
   ],
   "source": [
    "len(dataset_total.columns)"
   ]
  },
  {
   "cell_type": "markdown",
   "metadata": {
    "id": "qkMUpN-r9DXx"
   },
   "source": [
    "# **4.LSTM**"
   ]
  },
  {
   "cell_type": "code",
   "execution_count": null,
   "metadata": {
    "id": "zzBGezghbNdI"
   },
   "outputs": [],
   "source": [
    "##Hypter Parameters' Range\n",
    "params = {\n",
    "    \"batch_size\": 20,  # 20<16<10, 25 was a bust\n",
    "    \"epochs\": 300,\n",
    "    \"lr\": 0.000010000,\n",
    "    \"time_steps\": 60\n",
    "}\n",
    "\n",
    "iter_changes = \"dropout_layers_0.4_0.4\"\n"
   ]
  },
  {
   "cell_type": "code",
   "execution_count": null,
   "metadata": {
    "colab": {
     "base_uri": "https://localhost:8080/",
     "height": 34
    },
    "id": "xyG4hR3PY3hP",
    "outputId": "330814d3-39e7-4526-aa85-d3d2aff0802a"
   },
   "outputs": [
    {
     "name": "stdout",
     "output_type": "stream",
     "text": [
      "Directory created drive/MLProjectdropout_layers_0.4_0.4\n"
     ]
    }
   ],
   "source": [
    "##Create output path\n",
    "\n",
    "#INPUT_PATH ='/tmp/Jupyter/lstm'+\"/inputs\"\n",
    "OUTPUT_PATH = 'drive/MLProject'+iter_changes\n",
    "TIME_STEPS = params[\"time_steps\"]\n",
    "BATCH_SIZE = params[\"batch_size\"]\n",
    "stime = time.time()\n",
    "\n",
    "\n",
    "\n",
    "  ## check if directory already exists\n",
    "if not os.path.exists(OUTPUT_PATH):\n",
    "    os.makedirs(OUTPUT_PATH)\n",
    "    print(\"Directory created\", OUTPUT_PATH)\n",
    "#else:\n",
    "  #raise Exception(\"Directory already exists. Don't override.\")\n",
    "\n",
    "def print_time(text, stime):\n",
    "    seconds = (time.time()-stime)\n",
    "    print(text, seconds//60,\"minutes : \",np.round(seconds%60),\"seconds\")\n"
   ]
  },
  {
   "cell_type": "code",
   "execution_count": null,
   "metadata": {
    "id": "gPb-SaTQYw4X"
   },
   "outputs": [],
   "source": []
  },
  {
   "cell_type": "code",
   "execution_count": null,
   "metadata": {
    "id": "GkPyseFWNEsf"
   },
   "outputs": [],
   "source": [
    "\n",
    "##Trim dataset based on batch size    \n",
    "    \n",
    "def trim_dataset(mat,batch_size):\n",
    "    \"\"\"\n",
    "    trims dataset to a size that's divisible by BATCH_SIZE\n",
    "    \"\"\"\n",
    "    no_of_rows_drop = mat.shape[0]%batch_size\n",
    "    if no_of_rows_drop > 0:\n",
    "        return mat[:-no_of_rows_drop]\n",
    "    else:\n",
    "        return mat\n",
    "##Build timeseries based on time steps (For example if we have 3 time steps, we want our network to look back on 3 days of data to predict price on 4th day)\n",
    "\n",
    "def build_timeseries(mat, y_col_index):\n",
    "    \"\"\"\n",
    "    Converts ndarray into timeseries format and supervised data format. Takes first TIME_STEPS\n",
    "    number of rows as input and sets the TIME_STEPS+1th data as corresponding output and so on.\n",
    "    :param mat: ndarray which holds the dataset\n",
    "    :param y_col_index: index of column which acts as output\n",
    "    :return: returns two ndarrays-- input and output in format suitable to feed\n",
    "    to LSTM.\n",
    "    \"\"\"\n",
    "    # total number of time-series samples would be len(mat) - TIME_STEPS\n",
    "    dim_0 = mat.shape[0] - TIME_STEPS\n",
    "    dim_1 = mat.shape[1]\n",
    "    x = np.zeros((dim_0, TIME_STEPS, dim_1))\n",
    "    y = np.zeros((dim_0,))\n",
    "    print(\"dim_0\",dim_0)\n",
    "    for i in tqdm_notebook(range(dim_0)):\n",
    "        x[i] = mat[i:TIME_STEPS+i]\n",
    "        y[i] = mat[TIME_STEPS+i, y_col_index]\n",
    "#         if i < 10:\n",
    "#           print(i,\"-->\", x[i,-1,:], y[i])\n",
    "    print(\"length of time-series i/o\",x.shape,y.shape)\n",
    "    return x, y\n",
    "\n"
   ]
  },
  {
   "cell_type": "code",
   "execution_count": null,
   "metadata": {
    "colab": {
     "base_uri": "https://localhost:8080/",
     "height": 399
    },
    "id": "JxyAq-QdBnrX",
    "outputId": "721145df-789e-4cb8-d621-50bf22662a14"
   },
   "outputs": [
    {
     "data": {
      "text/html": [
       "<div>\n",
       "<style scoped>\n",
       "    .dataframe tbody tr th:only-of-type {\n",
       "        vertical-align: middle;\n",
       "    }\n",
       "\n",
       "    .dataframe tbody tr th {\n",
       "        vertical-align: top;\n",
       "    }\n",
       "\n",
       "    .dataframe thead th {\n",
       "        text-align: right;\n",
       "    }\n",
       "</style>\n",
       "<table border=\"1\" class=\"dataframe\">\n",
       "  <thead>\n",
       "    <tr style=\"text-align: right;\">\n",
       "      <th></th>\n",
       "      <th>Date</th>\n",
       "      <th>GS</th>\n",
       "    </tr>\n",
       "  </thead>\n",
       "  <tbody>\n",
       "    <tr>\n",
       "      <th>0</th>\n",
       "      <td>1962-01-02</td>\n",
       "      <td>0.6201</td>\n",
       "    </tr>\n",
       "    <tr>\n",
       "      <th>1</th>\n",
       "      <td>1962-01-03</td>\n",
       "      <td>0.6201</td>\n",
       "    </tr>\n",
       "    <tr>\n",
       "      <th>2</th>\n",
       "      <td>1962-01-04</td>\n",
       "      <td>0.6122</td>\n",
       "    </tr>\n",
       "    <tr>\n",
       "      <th>3</th>\n",
       "      <td>1962-01-05</td>\n",
       "      <td>0.5957</td>\n",
       "    </tr>\n",
       "    <tr>\n",
       "      <th>4</th>\n",
       "      <td>1962-01-08</td>\n",
       "      <td>0.5957</td>\n",
       "    </tr>\n",
       "    <tr>\n",
       "      <th>...</th>\n",
       "      <td>...</td>\n",
       "      <td>...</td>\n",
       "    </tr>\n",
       "    <tr>\n",
       "      <th>11241</th>\n",
       "      <td>2006-09-06</td>\n",
       "      <td>27.3340</td>\n",
       "    </tr>\n",
       "    <tr>\n",
       "      <th>11242</th>\n",
       "      <td>2006-09-07</td>\n",
       "      <td>27.4050</td>\n",
       "    </tr>\n",
       "    <tr>\n",
       "      <th>11243</th>\n",
       "      <td>2006-09-08</td>\n",
       "      <td>27.3820</td>\n",
       "    </tr>\n",
       "    <tr>\n",
       "      <th>11244</th>\n",
       "      <td>2006-09-11</td>\n",
       "      <td>27.7180</td>\n",
       "    </tr>\n",
       "    <tr>\n",
       "      <th>11245</th>\n",
       "      <td>2006-09-12</td>\n",
       "      <td>27.9120</td>\n",
       "    </tr>\n",
       "  </tbody>\n",
       "</table>\n",
       "<p>11246 rows × 2 columns</p>\n",
       "</div>"
      ],
      "text/plain": [
       "            Date       GS\n",
       "0     1962-01-02   0.6201\n",
       "1     1962-01-03   0.6201\n",
       "2     1962-01-04   0.6122\n",
       "3     1962-01-05   0.5957\n",
       "4     1962-01-08   0.5957\n",
       "...          ...      ...\n",
       "11241 2006-09-06  27.3340\n",
       "11242 2006-09-07  27.4050\n",
       "11243 2006-09-08  27.3820\n",
       "11244 2006-09-11  27.7180\n",
       "11245 2006-09-12  27.9120\n",
       "\n",
       "[11246 rows x 2 columns]"
      ]
     },
     "execution_count": 44,
     "metadata": {
      "tags": []
     },
     "output_type": "execute_result"
    }
   ],
   "source": [
    "df_train"
   ]
  },
  {
   "cell_type": "code",
   "execution_count": null,
   "metadata": {
    "colab": {
     "base_uri": "https://localhost:8080/",
     "height": 399
    },
    "id": "Zob6YQWpBoSu",
    "outputId": "860189f5-4f03-4f34-844a-38bf5157490a"
   },
   "outputs": [
    {
     "data": {
      "text/html": [
       "<div>\n",
       "<style scoped>\n",
       "    .dataframe tbody tr th:only-of-type {\n",
       "        vertical-align: middle;\n",
       "    }\n",
       "\n",
       "    .dataframe tbody tr th {\n",
       "        vertical-align: top;\n",
       "    }\n",
       "\n",
       "    .dataframe thead th {\n",
       "        text-align: right;\n",
       "    }\n",
       "</style>\n",
       "<table border=\"1\" class=\"dataframe\">\n",
       "  <thead>\n",
       "    <tr style=\"text-align: right;\">\n",
       "      <th></th>\n",
       "      <th>Date</th>\n",
       "      <th>GS</th>\n",
       "    </tr>\n",
       "  </thead>\n",
       "  <tbody>\n",
       "    <tr>\n",
       "      <th>11246</th>\n",
       "      <td>2006-09-13</td>\n",
       "      <td>28.049</td>\n",
       "    </tr>\n",
       "    <tr>\n",
       "      <th>11247</th>\n",
       "      <td>2006-09-14</td>\n",
       "      <td>28.003</td>\n",
       "    </tr>\n",
       "    <tr>\n",
       "      <th>11248</th>\n",
       "      <td>2006-09-15</td>\n",
       "      <td>28.058</td>\n",
       "    </tr>\n",
       "    <tr>\n",
       "      <th>11249</th>\n",
       "      <td>2006-09-18</td>\n",
       "      <td>28.073</td>\n",
       "    </tr>\n",
       "    <tr>\n",
       "      <th>11250</th>\n",
       "      <td>2006-09-19</td>\n",
       "      <td>28.058</td>\n",
       "    </tr>\n",
       "    <tr>\n",
       "      <th>...</th>\n",
       "      <td>...</td>\n",
       "      <td>...</td>\n",
       "    </tr>\n",
       "    <tr>\n",
       "      <th>14053</th>\n",
       "      <td>2017-11-06</td>\n",
       "      <td>20.130</td>\n",
       "    </tr>\n",
       "    <tr>\n",
       "      <th>14054</th>\n",
       "      <td>2017-11-07</td>\n",
       "      <td>20.210</td>\n",
       "    </tr>\n",
       "    <tr>\n",
       "      <th>14055</th>\n",
       "      <td>2017-11-08</td>\n",
       "      <td>20.120</td>\n",
       "    </tr>\n",
       "    <tr>\n",
       "      <th>14056</th>\n",
       "      <td>2017-11-09</td>\n",
       "      <td>19.990</td>\n",
       "    </tr>\n",
       "    <tr>\n",
       "      <th>14057</th>\n",
       "      <td>2017-11-10</td>\n",
       "      <td>20.490</td>\n",
       "    </tr>\n",
       "  </tbody>\n",
       "</table>\n",
       "<p>2812 rows × 2 columns</p>\n",
       "</div>"
      ],
      "text/plain": [
       "            Date      GS\n",
       "11246 2006-09-13  28.049\n",
       "11247 2006-09-14  28.003\n",
       "11248 2006-09-15  28.058\n",
       "11249 2006-09-18  28.073\n",
       "11250 2006-09-19  28.058\n",
       "...          ...     ...\n",
       "14053 2017-11-06  20.130\n",
       "14054 2017-11-07  20.210\n",
       "14055 2017-11-08  20.120\n",
       "14056 2017-11-09  19.990\n",
       "14057 2017-11-10  20.490\n",
       "\n",
       "[2812 rows x 2 columns]"
      ]
     },
     "execution_count": 45,
     "metadata": {
      "tags": []
     },
     "output_type": "execute_result"
    }
   ],
   "source": [
    "df_test"
   ]
  },
  {
   "cell_type": "code",
   "execution_count": null,
   "metadata": {
    "colab": {
     "base_uri": "https://localhost:8080/",
     "height": 154,
     "referenced_widgets": [
      "aafef2bb163f40afa9821f4f1c398aaa",
      "850bd4ee53ba4dbb92f45b714b2ebbf9",
      "ffff6ad14680417692c00a0c9e717796",
      "74c6b8183e674f1986b38c53601bd8cb",
      "c80cf2ec9b74403ea4e1a25aa440441c",
      "7adf2462e36846d2b1eade53542554aa",
      "95a0d8b924d54c96978f14ea782b0931",
      "9f3155110aaa4dbea206ae027d0c6ba1"
     ]
    },
    "id": "C7KNL2HVCcYf",
    "outputId": "01076758-0839-4b30-9cbc-e7685a51d63a"
   },
   "outputs": [
    {
     "name": "stdout",
     "output_type": "stream",
     "text": [
      "Train--Test size 11246 2812\n",
      "Are any NaNs present in train/test matrices? False False\n",
      "dim_0 11186\n"
     ]
    },
    {
     "data": {
      "application/vnd.jupyter.widget-view+json": {
       "model_id": "aafef2bb163f40afa9821f4f1c398aaa",
       "version_major": 2,
       "version_minor": 0
      },
      "text/plain": [
       "HBox(children=(FloatProgress(value=0.0, max=11186.0), HTML(value='')))"
      ]
     },
     "metadata": {
      "tags": []
     },
     "output_type": "display_data"
    },
    {
     "name": "stdout",
     "output_type": "stream",
     "text": [
      "\n",
      "length of time-series i/o (11186, 60, 9) (11186,)\n",
      "Batch trimmed size (11180, 60, 9) (11180,)\n"
     ]
    }
   ],
   "source": [
    "## split\n",
    "L = []\n",
    "for i in range(9):\n",
    "  L.append(i)\n",
    "##\n",
    "\n",
    "\n",
    "df_train, df_test = train_test_split(dataset_total.iloc[:,L], train_size=0.8, test_size=0.2, shuffle=False)\n",
    "print(\"Train--Test size\", len(df_train), len(df_test))\n",
    "# scale the feature MinMax, build array\n",
    "x = df_train.iloc[:,L].values\n",
    "min_max_scaler = MinMaxScaler()\n",
    "x_train = min_max_scaler.fit_transform(x)\n",
    "x_test = min_max_scaler.transform(df_test.iloc[:,L])\n",
    "\n",
    "#print(\"Deleting unused dataframes of total size(KB)\",(sys.getsizeof(df_ge)+sys.getsizeof(df_train)+sys.getsizeof(df_test))//1024)\n",
    "\n",
    "#del dataset_total\n",
    "#del df_test\n",
    "#del df_train\n",
    "#del x\n",
    "\n",
    "print(\"Are any NaNs present in train/test matrices?\",np.isnan(x_train).any(), np.isnan(x_train).any())\n",
    "x_t, y_t = build_timeseries(x_train, 0)\n",
    "x_t = trim_dataset(x_t, BATCH_SIZE)\n",
    "y_t = trim_dataset(y_t, BATCH_SIZE)\n",
    "print(\"Batch trimmed size\",x_t.shape, y_t.shape)"
   ]
  },
  {
   "cell_type": "code",
   "execution_count": null,
   "metadata": {
    "id": "3UXt8ZXKDKcG"
   },
   "outputs": [],
   "source": []
  },
  {
   "cell_type": "code",
   "execution_count": null,
   "metadata": {
    "colab": {
     "base_uri": "https://localhost:8080/",
     "height": 34
    },
    "id": "vKcuUsAcQkof",
    "outputId": "d91e8d8f-2d1a-4a8e-bd61-bddbfbd96a7a"
   },
   "outputs": [
    {
     "data": {
      "text/plain": [
       "(11246, 9)"
      ]
     },
     "execution_count": 47,
     "metadata": {
      "tags": []
     },
     "output_type": "execute_result"
    }
   ],
   "source": [
    "x_train.shape"
   ]
  },
  {
   "cell_type": "code",
   "execution_count": null,
   "metadata": {
    "colab": {
     "base_uri": "https://localhost:8080/",
     "height": 34
    },
    "id": "nJsaORHxQmI0",
    "outputId": "47fb019d-aa5d-44f7-bd62-aec9b5f49d86"
   },
   "outputs": [
    {
     "data": {
      "text/plain": [
       "(2812, 9)"
      ]
     },
     "execution_count": 48,
     "metadata": {
      "tags": []
     },
     "output_type": "execute_result"
    }
   ],
   "source": [
    "x_test.shape"
   ]
  },
  {
   "cell_type": "code",
   "execution_count": null,
   "metadata": {
    "colab": {
     "base_uri": "https://localhost:8080/",
     "height": 101,
     "referenced_widgets": [
      "0aef8e11a5704413b674e7dcc888e09f",
      "96e8ef29b2bb44fb9b94001e4bc37b56",
      "663d6dc40e4545b1b3553e084fa29091",
      "bdb9a4e2f51c497293a1d8be9bba9d17",
      "5424d3f79c6c440e90e1191dfb03a0f8",
      "44608ad39e9b4cc3a016ec9a83f5ed4f",
      "a6dfc4908d504d8289a7f5d245af39a3",
      "f06418a6432f46ddaf42d0c206982c09"
     ]
    },
    "id": "U-IjSiBJQd34",
    "outputId": "f45a26dc-0248-452a-bf79-c8df2241340a"
   },
   "outputs": [
    {
     "name": "stdout",
     "output_type": "stream",
     "text": [
      "dim_0 2752\n"
     ]
    },
    {
     "data": {
      "application/vnd.jupyter.widget-view+json": {
       "model_id": "0aef8e11a5704413b674e7dcc888e09f",
       "version_major": 2,
       "version_minor": 0
      },
      "text/plain": [
       "HBox(children=(FloatProgress(value=0.0, max=2752.0), HTML(value='')))"
      ]
     },
     "metadata": {
      "tags": []
     },
     "output_type": "display_data"
    },
    {
     "name": "stdout",
     "output_type": "stream",
     "text": [
      "\n",
      "length of time-series i/o (2752, 60, 9) (2752,)\n"
     ]
    }
   ],
   "source": [
    "\n",
    "\n",
    "x_temp, y_temp = build_timeseries(x_test, 0)\n",
    "x_val, x_test_t = np.split(trim_dataset(x_temp, BATCH_SIZE),2)\n",
    "y_val, y_test_t = np.split(trim_dataset(y_temp, BATCH_SIZE),2)"
   ]
  },
  {
   "cell_type": "code",
   "execution_count": null,
   "metadata": {
    "id": "Xllfm96yP_b1"
   },
   "outputs": [],
   "source": [
    "tt = trim_dataset(x_test_t, BATCH_SIZE)\n",
    "ytt = y_test_t \n",
    "y_test_t = trim_dataset(y_test_t, BATCH_SIZE)\n"
   ]
  },
  {
   "cell_type": "code",
   "execution_count": null,
   "metadata": {
    "colab": {
     "base_uri": "https://localhost:8080/",
     "height": 34
    },
    "id": "39O0lLwn8X23",
    "outputId": "b70c2e9f-2f81-4c00-afde-85b56ddc5ece"
   },
   "outputs": [
    {
     "data": {
      "text/plain": [
       "(1370,)"
      ]
     },
     "execution_count": 51,
     "metadata": {
      "tags": []
     },
     "output_type": "execute_result"
    }
   ],
   "source": [
    "ytt.shape"
   ]
  },
  {
   "cell_type": "code",
   "execution_count": null,
   "metadata": {
    "colab": {
     "base_uri": "https://localhost:8080/",
     "height": 34
    },
    "id": "vG56qS2wQ0XY",
    "outputId": "914ce360-0832-4578-c77f-e9a91d4efdad"
   },
   "outputs": [
    {
     "data": {
      "text/plain": [
       "(1360, 60, 9)"
      ]
     },
     "execution_count": 52,
     "metadata": {
      "tags": []
     },
     "output_type": "execute_result"
    }
   ],
   "source": [
    "tt.shape"
   ]
  },
  {
   "cell_type": "code",
   "execution_count": null,
   "metadata": {
    "colab": {
     "base_uri": "https://localhost:8080/",
     "height": 34
    },
    "id": "tV7lx0mr8Ze1",
    "outputId": "3f45ace2-4e72-4e79-d378-c174f4bd900f"
   },
   "outputs": [
    {
     "data": {
      "text/plain": [
       "(1360,)"
      ]
     },
     "execution_count": 53,
     "metadata": {
      "tags": []
     },
     "output_type": "execute_result"
    }
   ],
   "source": [
    "y_test_t.shape"
   ]
  },
  {
   "cell_type": "code",
   "execution_count": null,
   "metadata": {
    "colab": {
     "base_uri": "https://localhost:8080/",
     "height": 154,
     "referenced_widgets": [
      "1db6c64611724f01b447b05345a73edf",
      "dfbd3d9725954b78b4ea5af48d7ee26c",
      "4c3b92e5d07a4b819b5caab62d75d88b",
      "1ab578b6480c4dcfb6202dd093a645b0",
      "5e5fafc070d34087b59000a8e56f064f",
      "84baec16b91f4a2d856e6a5d8990a679",
      "24792664729548dc9934d9c0cfba6ed4",
      "4f849aa2a1b7466ea8f265a8c7e2f311"
     ]
    },
    "id": "6kcLnOhEXEOU",
    "outputId": "5b1c8734-4ded-4210-a4da-70c2e9328a6e"
   },
   "outputs": [
    {
     "name": "stdout",
     "output_type": "stream",
     "text": [
      "Model not found\n",
      "dim_0 2752\n"
     ]
    },
    {
     "data": {
      "application/vnd.jupyter.widget-view+json": {
       "model_id": "1db6c64611724f01b447b05345a73edf",
       "version_major": 2,
       "version_minor": 0
      },
      "text/plain": [
       "HBox(children=(FloatProgress(value=0.0, max=2752.0), HTML(value='')))"
      ]
     },
     "metadata": {
      "tags": []
     },
     "output_type": "display_data"
    },
    {
     "name": "stdout",
     "output_type": "stream",
     "text": [
      "\n",
      "length of time-series i/o (2752, 60, 9) (2752,)\n",
      "Test size (1370, 60, 9) (1370,) (1370, 60, 9) (1370,)\n",
      "Building model...\n"
     ]
    }
   ],
   "source": [
    "\n",
    "\n",
    "def create_model():\n",
    "    lstm_model = Sequential()\n",
    "    # (batch_size, timesteps, data_dim)\n",
    "    lstm_model.add(LSTM(100, batch_input_shape=(BATCH_SIZE, TIME_STEPS, x_t.shape[2]),\n",
    "                        dropout=0.0, recurrent_dropout=0.0, stateful=True, return_sequences=True,\n",
    "                        kernel_initializer='random_uniform'))\n",
    "    lstm_model.add(Dropout(0.4))\n",
    "    lstm_model.add(LSTM(60, dropout=0.0))\n",
    "    lstm_model.add(Dropout(0.4))\n",
    "    lstm_model.add(Dense(20,activation='relu'))\n",
    "    lstm_model.add(Dense(1,activation='sigmoid'))\n",
    "    optimizer = optimizers.RMSprop(lr=params[\"lr\"])\n",
    "    # optimizer = optimizers.SGD(lr=0.000001, decay=1e-6, momentum=0.9, nesterov=True)\n",
    "    lstm_model.compile(loss='mean_squared_error', optimizer=optimizer)\n",
    "    return lstm_model\n",
    "\n",
    "\n",
    "model = None\n",
    "try:\n",
    "    model = pickle.load(open(\"lstm_model\", 'rb'))\n",
    "    print(\"Loaded saved model...\")\n",
    "except FileNotFoundError:\n",
    "    print(\"Model not found\")\n",
    "\n",
    "\n",
    "x_temp, y_temp = build_timeseries(x_test, 0)\n",
    "x_val, x_test_t = np.split(trim_dataset(x_temp, BATCH_SIZE),2)\n",
    "y_val, y_test_t = np.split(trim_dataset(y_temp, BATCH_SIZE),2)\n",
    "\n",
    "print(\"Test size\", x_test_t.shape, y_test_t.shape, x_val.shape, y_val.shape)\n",
    "    \n",
    "is_update_model = True\n",
    "if model is None or is_update_model:\n",
    "    from keras import backend as K\n",
    "    print(\"Building model...\")\n",
    "    #print(\"checking if GPU available\", K.tensorflow_backend._get_available_gpus())\n",
    "    model = create_model()\n",
    "    \n",
    "    es = EarlyStopping(monitor='val_loss', mode='min', verbose=1,\n",
    "                       patience=40, min_delta=0.0001)\n",
    "    \n",
    "    mcp = ModelCheckpoint(os.path.join(OUTPUT_PATH,\n",
    "                          \"best_model.h5\"), monitor='val_loss', verbose=1,\n",
    "                          save_best_only=True, save_weights_only=False, mode='min', period=1)\n",
    "\n",
    "    # Not used here. But leaving it here as a reminder for future\n",
    "    r_lr_plat = ReduceLROnPlateau(monitor='val_loss', factor=0.1, patience=30, \n",
    "                                  verbose=0, mode='auto', min_delta=0.0001, cooldown=0, min_lr=0)\n",
    "    \n",
    "    csv_logger = CSVLogger(os.path.join(OUTPUT_PATH, 'training_log_' + time.ctime().replace(\" \",\"_\") + '.log'), append=True)\n",
    "  "
   ]
  },
  {
   "cell_type": "code",
   "execution_count": null,
   "metadata": {
    "colab": {
     "base_uri": "https://localhost:8080/",
     "height": 1000
    },
    "id": "Bo_ki_OsZkSD",
    "outputId": "14e2b890-7111-417b-b00c-7fdc3b023c71"
   },
   "outputs": [
    {
     "name": "stdout",
     "output_type": "stream",
     "text": [
      "Train on 11180 samples, validate on 1360 samples\n",
      "Epoch 1/300\n",
      " - 40s - loss: 0.1722 - val_loss: 0.0336\n",
      "\n",
      "Epoch 00001: val_loss improved from inf to 0.03363, saving model to drive/MLProjectdropout_layers_0.4_0.4/best_model.h5\n",
      "Epoch 2/300\n",
      " - 39s - loss: 0.1346 - val_loss: 0.0486\n",
      "\n",
      "Epoch 00002: val_loss did not improve from 0.03363\n",
      "Epoch 3/300\n",
      " - 40s - loss: 0.0750 - val_loss: 0.0278\n",
      "\n",
      "Epoch 00003: val_loss improved from 0.03363 to 0.02779, saving model to drive/MLProjectdropout_layers_0.4_0.4/best_model.h5\n",
      "Epoch 4/300\n",
      " - 40s - loss: 0.0429 - val_loss: 0.0202\n",
      "\n",
      "Epoch 00004: val_loss improved from 0.02779 to 0.02017, saving model to drive/MLProjectdropout_layers_0.4_0.4/best_model.h5\n",
      "Epoch 5/300\n",
      " - 40s - loss: 0.0182 - val_loss: 0.0156\n",
      "\n",
      "Epoch 00005: val_loss improved from 0.02017 to 0.01557, saving model to drive/MLProjectdropout_layers_0.4_0.4/best_model.h5\n",
      "Epoch 6/300\n",
      " - 40s - loss: 0.0047 - val_loss: 0.0435\n",
      "\n",
      "Epoch 00006: val_loss did not improve from 0.01557\n",
      "Epoch 7/300\n",
      " - 40s - loss: 0.0032 - val_loss: 0.0446\n",
      "\n",
      "Epoch 00007: val_loss did not improve from 0.01557\n",
      "Epoch 8/300\n",
      " - 40s - loss: 0.0029 - val_loss: 0.0435\n",
      "\n",
      "Epoch 00008: val_loss did not improve from 0.01557\n",
      "Epoch 9/300\n",
      " - 39s - loss: 0.0027 - val_loss: 0.0319\n",
      "\n",
      "Epoch 00009: val_loss did not improve from 0.01557\n",
      "Epoch 10/300\n",
      " - 40s - loss: 0.0025 - val_loss: 0.0116\n",
      "\n",
      "Epoch 00010: val_loss improved from 0.01557 to 0.01160, saving model to drive/MLProjectdropout_layers_0.4_0.4/best_model.h5\n",
      "Epoch 11/300\n",
      " - 40s - loss: 0.0024 - val_loss: 0.0068\n",
      "\n",
      "Epoch 00011: val_loss improved from 0.01160 to 0.00684, saving model to drive/MLProjectdropout_layers_0.4_0.4/best_model.h5\n",
      "Epoch 12/300\n",
      " - 39s - loss: 0.0023 - val_loss: 0.0060\n",
      "\n",
      "Epoch 00012: val_loss improved from 0.00684 to 0.00597, saving model to drive/MLProjectdropout_layers_0.4_0.4/best_model.h5\n",
      "Epoch 13/300\n",
      " - 40s - loss: 0.0022 - val_loss: 0.0061\n",
      "\n",
      "Epoch 00013: val_loss did not improve from 0.00597\n",
      "Epoch 14/300\n",
      " - 40s - loss: 0.0021 - val_loss: 0.0062\n",
      "\n",
      "Epoch 00014: val_loss did not improve from 0.00597\n",
      "Epoch 15/300\n",
      " - 40s - loss: 0.0021 - val_loss: 0.0050\n",
      "\n",
      "Epoch 00015: val_loss improved from 0.00597 to 0.00498, saving model to drive/MLProjectdropout_layers_0.4_0.4/best_model.h5\n",
      "Epoch 16/300\n",
      " - 40s - loss: 0.0020 - val_loss: 0.0047\n",
      "\n",
      "Epoch 00016: val_loss improved from 0.00498 to 0.00470, saving model to drive/MLProjectdropout_layers_0.4_0.4/best_model.h5\n",
      "Epoch 17/300\n",
      " - 39s - loss: 0.0019 - val_loss: 0.0051\n",
      "\n",
      "Epoch 00017: val_loss did not improve from 0.00470\n",
      "Epoch 18/300\n",
      " - 40s - loss: 0.0019 - val_loss: 0.0042\n",
      "\n",
      "Epoch 00018: val_loss improved from 0.00470 to 0.00417, saving model to drive/MLProjectdropout_layers_0.4_0.4/best_model.h5\n",
      "Epoch 19/300\n",
      " - 43s - loss: 0.0018 - val_loss: 0.0037\n",
      "\n",
      "Epoch 00019: val_loss improved from 0.00417 to 0.00365, saving model to drive/MLProjectdropout_layers_0.4_0.4/best_model.h5\n",
      "Epoch 20/300\n",
      " - 40s - loss: 0.0018 - val_loss: 0.0039\n",
      "\n",
      "Epoch 00020: val_loss did not improve from 0.00365\n",
      "Epoch 21/300\n",
      " - 40s - loss: 0.0018 - val_loss: 0.0034\n",
      "\n",
      "Epoch 00021: val_loss improved from 0.00365 to 0.00340, saving model to drive/MLProjectdropout_layers_0.4_0.4/best_model.h5\n",
      "Epoch 22/300\n",
      " - 40s - loss: 0.0017 - val_loss: 0.0031\n",
      "\n",
      "Epoch 00022: val_loss improved from 0.00340 to 0.00307, saving model to drive/MLProjectdropout_layers_0.4_0.4/best_model.h5\n",
      "Epoch 23/300\n",
      " - 40s - loss: 0.0017 - val_loss: 0.0032\n",
      "\n",
      "Epoch 00023: val_loss did not improve from 0.00307\n",
      "Epoch 24/300\n",
      " - 40s - loss: 0.0017 - val_loss: 0.0033\n",
      "\n",
      "Epoch 00024: val_loss did not improve from 0.00307\n",
      "Epoch 25/300\n",
      " - 40s - loss: 0.0016 - val_loss: 0.0028\n",
      "\n",
      "Epoch 00025: val_loss improved from 0.00307 to 0.00285, saving model to drive/MLProjectdropout_layers_0.4_0.4/best_model.h5\n",
      "Epoch 26/300\n",
      " - 40s - loss: 0.0017 - val_loss: 0.0029\n",
      "\n",
      "Epoch 00026: val_loss did not improve from 0.00285\n",
      "Epoch 27/300\n",
      " - 40s - loss: 0.0016 - val_loss: 0.0030\n",
      "\n",
      "Epoch 00027: val_loss did not improve from 0.00285\n",
      "Epoch 28/300\n",
      " - 40s - loss: 0.0016 - val_loss: 0.0026\n",
      "\n",
      "Epoch 00028: val_loss improved from 0.00285 to 0.00264, saving model to drive/MLProjectdropout_layers_0.4_0.4/best_model.h5\n",
      "Epoch 29/300\n",
      " - 39s - loss: 0.0016 - val_loss: 0.0024\n",
      "\n",
      "Epoch 00029: val_loss improved from 0.00264 to 0.00235, saving model to drive/MLProjectdropout_layers_0.4_0.4/best_model.h5\n",
      "Epoch 30/300\n",
      " - 40s - loss: 0.0016 - val_loss: 0.0024\n",
      "\n",
      "Epoch 00030: val_loss did not improve from 0.00235\n",
      "Epoch 31/300\n",
      " - 39s - loss: 0.0015 - val_loss: 0.0022\n",
      "\n",
      "Epoch 00031: val_loss improved from 0.00235 to 0.00224, saving model to drive/MLProjectdropout_layers_0.4_0.4/best_model.h5\n",
      "Epoch 32/300\n",
      " - 40s - loss: 0.0015 - val_loss: 0.0021\n",
      "\n",
      "Epoch 00032: val_loss improved from 0.00224 to 0.00206, saving model to drive/MLProjectdropout_layers_0.4_0.4/best_model.h5\n",
      "Epoch 33/300\n",
      " - 40s - loss: 0.0015 - val_loss: 0.0021\n",
      "\n",
      "Epoch 00033: val_loss did not improve from 0.00206\n",
      "Epoch 34/300\n",
      " - 44s - loss: 0.0015 - val_loss: 0.0025\n",
      "\n",
      "Epoch 00034: val_loss did not improve from 0.00206\n",
      "Epoch 35/300\n",
      " - 40s - loss: 0.0015 - val_loss: 0.0019\n",
      "\n",
      "Epoch 00035: val_loss improved from 0.00206 to 0.00186, saving model to drive/MLProjectdropout_layers_0.4_0.4/best_model.h5\n",
      "Epoch 36/300\n",
      " - 40s - loss: 0.0015 - val_loss: 0.0021\n",
      "\n",
      "Epoch 00036: val_loss did not improve from 0.00186\n",
      "Epoch 37/300\n",
      " - 40s - loss: 0.0014 - val_loss: 0.0019\n",
      "\n",
      "Epoch 00037: val_loss did not improve from 0.00186\n",
      "Epoch 38/300\n",
      " - 39s - loss: 0.0014 - val_loss: 0.0020\n",
      "\n",
      "Epoch 00038: val_loss did not improve from 0.00186\n",
      "Epoch 39/300\n",
      " - 40s - loss: 0.0014 - val_loss: 0.0020\n",
      "\n",
      "Epoch 00039: val_loss did not improve from 0.00186\n",
      "Epoch 40/300\n",
      " - 40s - loss: 0.0014 - val_loss: 0.0018\n",
      "\n",
      "Epoch 00040: val_loss improved from 0.00186 to 0.00181, saving model to drive/MLProjectdropout_layers_0.4_0.4/best_model.h5\n",
      "Epoch 41/300\n",
      " - 40s - loss: 0.0014 - val_loss: 0.0019\n",
      "\n",
      "Epoch 00041: val_loss did not improve from 0.00181\n",
      "Epoch 42/300\n",
      " - 39s - loss: 0.0014 - val_loss: 0.0018\n",
      "\n",
      "Epoch 00042: val_loss improved from 0.00181 to 0.00176, saving model to drive/MLProjectdropout_layers_0.4_0.4/best_model.h5\n",
      "Epoch 43/300\n",
      " - 40s - loss: 0.0014 - val_loss: 0.0017\n",
      "\n",
      "Epoch 00043: val_loss improved from 0.00176 to 0.00171, saving model to drive/MLProjectdropout_layers_0.4_0.4/best_model.h5\n",
      "Epoch 44/300\n",
      " - 40s - loss: 0.0014 - val_loss: 0.0019\n",
      "\n",
      "Epoch 00044: val_loss did not improve from 0.00171\n",
      "Epoch 45/300\n",
      " - 39s - loss: 0.0014 - val_loss: 0.0018\n",
      "\n",
      "Epoch 00045: val_loss did not improve from 0.00171\n",
      "Epoch 46/300\n",
      " - 39s - loss: 0.0014 - val_loss: 0.0019\n",
      "\n",
      "Epoch 00046: val_loss did not improve from 0.00171\n",
      "Epoch 47/300\n",
      " - 39s - loss: 0.0013 - val_loss: 0.0019\n",
      "\n",
      "Epoch 00047: val_loss did not improve from 0.00171\n",
      "Epoch 48/300\n",
      " - 40s - loss: 0.0013 - val_loss: 0.0018\n",
      "\n",
      "Epoch 00048: val_loss did not improve from 0.00171\n",
      "Epoch 49/300\n",
      " - 44s - loss: 0.0014 - val_loss: 0.0017\n",
      "\n",
      "Epoch 00049: val_loss did not improve from 0.00171\n",
      "Epoch 50/300\n",
      " - 39s - loss: 0.0013 - val_loss: 0.0017\n",
      "\n",
      "Epoch 00050: val_loss improved from 0.00171 to 0.00169, saving model to drive/MLProjectdropout_layers_0.4_0.4/best_model.h5\n",
      "Epoch 51/300\n",
      " - 40s - loss: 0.0013 - val_loss: 0.0017\n",
      "\n",
      "Epoch 00051: val_loss improved from 0.00169 to 0.00168, saving model to drive/MLProjectdropout_layers_0.4_0.4/best_model.h5\n",
      "Epoch 52/300\n",
      " - 40s - loss: 0.0013 - val_loss: 0.0016\n",
      "\n",
      "Epoch 00052: val_loss improved from 0.00168 to 0.00159, saving model to drive/MLProjectdropout_layers_0.4_0.4/best_model.h5\n",
      "Epoch 53/300\n",
      " - 39s - loss: 0.0013 - val_loss: 0.0017\n",
      "\n",
      "Epoch 00053: val_loss did not improve from 0.00159\n",
      "Epoch 54/300\n",
      " - 40s - loss: 0.0013 - val_loss: 0.0017\n",
      "\n",
      "Epoch 00054: val_loss did not improve from 0.00159\n",
      "Epoch 55/300\n",
      " - 40s - loss: 0.0013 - val_loss: 0.0017\n",
      "\n",
      "Epoch 00055: val_loss did not improve from 0.00159\n",
      "Epoch 56/300\n",
      " - 39s - loss: 0.0013 - val_loss: 0.0017\n",
      "\n",
      "Epoch 00056: val_loss did not improve from 0.00159\n",
      "Epoch 57/300\n",
      " - 39s - loss: 0.0012 - val_loss: 0.0016\n",
      "\n",
      "Epoch 00057: val_loss did not improve from 0.00159\n",
      "Epoch 58/300\n",
      " - 40s - loss: 0.0013 - val_loss: 0.0016\n",
      "\n",
      "Epoch 00058: val_loss did not improve from 0.00159\n",
      "Epoch 59/300\n",
      " - 40s - loss: 0.0012 - val_loss: 0.0016\n",
      "\n",
      "Epoch 00059: val_loss did not improve from 0.00159\n",
      "Epoch 60/300\n",
      " - 40s - loss: 0.0013 - val_loss: 0.0017\n",
      "\n",
      "Epoch 00060: val_loss did not improve from 0.00159\n",
      "Epoch 61/300\n",
      " - 40s - loss: 0.0013 - val_loss: 0.0016\n",
      "\n",
      "Epoch 00061: val_loss improved from 0.00159 to 0.00156, saving model to drive/MLProjectdropout_layers_0.4_0.4/best_model.h5\n",
      "Epoch 62/300\n",
      " - 39s - loss: 0.0012 - val_loss: 0.0015\n",
      "\n",
      "Epoch 00062: val_loss improved from 0.00156 to 0.00155, saving model to drive/MLProjectdropout_layers_0.4_0.4/best_model.h5\n",
      "Epoch 63/300\n",
      " - 40s - loss: 0.0012 - val_loss: 0.0015\n",
      "\n",
      "Epoch 00063: val_loss improved from 0.00155 to 0.00154, saving model to drive/MLProjectdropout_layers_0.4_0.4/best_model.h5\n",
      "Epoch 64/300\n",
      " - 40s - loss: 0.0012 - val_loss: 0.0015\n",
      "\n",
      "Epoch 00064: val_loss did not improve from 0.00154\n",
      "Epoch 65/300\n",
      " - 40s - loss: 0.0012 - val_loss: 0.0015\n",
      "\n",
      "Epoch 00065: val_loss improved from 0.00154 to 0.00152, saving model to drive/MLProjectdropout_layers_0.4_0.4/best_model.h5\n",
      "Epoch 66/300\n",
      " - 45s - loss: 0.0012 - val_loss: 0.0015\n",
      "\n",
      "Epoch 00066: val_loss improved from 0.00152 to 0.00150, saving model to drive/MLProjectdropout_layers_0.4_0.4/best_model.h5\n",
      "Epoch 67/300\n",
      " - 40s - loss: 0.0012 - val_loss: 0.0015\n",
      "\n",
      "Epoch 00067: val_loss improved from 0.00150 to 0.00148, saving model to drive/MLProjectdropout_layers_0.4_0.4/best_model.h5\n",
      "Epoch 68/300\n",
      " - 40s - loss: 0.0012 - val_loss: 0.0015\n",
      "\n",
      "Epoch 00068: val_loss improved from 0.00148 to 0.00145, saving model to drive/MLProjectdropout_layers_0.4_0.4/best_model.h5\n",
      "Epoch 69/300\n",
      " - 39s - loss: 0.0011 - val_loss: 0.0014\n",
      "\n",
      "Epoch 00069: val_loss improved from 0.00145 to 0.00137, saving model to drive/MLProjectdropout_layers_0.4_0.4/best_model.h5\n",
      "Epoch 70/300\n",
      " - 40s - loss: 0.0012 - val_loss: 0.0014\n",
      "\n",
      "Epoch 00070: val_loss did not improve from 0.00137\n",
      "Epoch 71/300\n",
      " - 40s - loss: 0.0012 - val_loss: 0.0014\n",
      "\n",
      "Epoch 00071: val_loss improved from 0.00137 to 0.00136, saving model to drive/MLProjectdropout_layers_0.4_0.4/best_model.h5\n",
      "Epoch 72/300\n",
      " - 40s - loss: 0.0011 - val_loss: 0.0013\n",
      "\n",
      "Epoch 00072: val_loss improved from 0.00136 to 0.00134, saving model to drive/MLProjectdropout_layers_0.4_0.4/best_model.h5\n",
      "Epoch 73/300\n",
      " - 39s - loss: 0.0011 - val_loss: 0.0013\n",
      "\n",
      "Epoch 00073: val_loss improved from 0.00134 to 0.00132, saving model to drive/MLProjectdropout_layers_0.4_0.4/best_model.h5\n",
      "Epoch 74/300\n",
      " - 40s - loss: 0.0011 - val_loss: 0.0013\n",
      "\n",
      "Epoch 00074: val_loss improved from 0.00132 to 0.00127, saving model to drive/MLProjectdropout_layers_0.4_0.4/best_model.h5\n",
      "Epoch 75/300\n",
      " - 40s - loss: 0.0012 - val_loss: 0.0013\n",
      "\n",
      "Epoch 00075: val_loss improved from 0.00127 to 0.00125, saving model to drive/MLProjectdropout_layers_0.4_0.4/best_model.h5\n",
      "Epoch 76/300\n",
      " - 40s - loss: 0.0011 - val_loss: 0.0012\n",
      "\n",
      "Epoch 00076: val_loss improved from 0.00125 to 0.00120, saving model to drive/MLProjectdropout_layers_0.4_0.4/best_model.h5\n",
      "Epoch 77/300\n",
      " - 39s - loss: 0.0011 - val_loss: 0.0011\n",
      "\n",
      "Epoch 00077: val_loss improved from 0.00120 to 0.00114, saving model to drive/MLProjectdropout_layers_0.4_0.4/best_model.h5\n",
      "Epoch 78/300\n",
      " - 40s - loss: 0.0011 - val_loss: 0.0012\n",
      "\n",
      "Epoch 00078: val_loss did not improve from 0.00114\n",
      "Epoch 79/300\n",
      " - 39s - loss: 0.0011 - val_loss: 0.0011\n",
      "\n",
      "Epoch 00079: val_loss improved from 0.00114 to 0.00112, saving model to drive/MLProjectdropout_layers_0.4_0.4/best_model.h5\n",
      "Epoch 80/300\n",
      " - 40s - loss: 0.0011 - val_loss: 0.0011\n",
      "\n",
      "Epoch 00080: val_loss improved from 0.00112 to 0.00111, saving model to drive/MLProjectdropout_layers_0.4_0.4/best_model.h5\n",
      "Epoch 81/300\n",
      " - 40s - loss: 0.0011 - val_loss: 0.0011\n",
      "\n",
      "Epoch 00081: val_loss did not improve from 0.00111\n",
      "Epoch 82/300\n",
      " - 43s - loss: 0.0011 - val_loss: 0.0011\n",
      "\n",
      "Epoch 00082: val_loss improved from 0.00111 to 0.00107, saving model to drive/MLProjectdropout_layers_0.4_0.4/best_model.h5\n",
      "Epoch 83/300\n",
      " - 39s - loss: 0.0011 - val_loss: 0.0011\n",
      "\n",
      "Epoch 00083: val_loss did not improve from 0.00107\n",
      "Epoch 84/300\n",
      " - 40s - loss: 0.0010 - val_loss: 0.0010\n",
      "\n",
      "Epoch 00084: val_loss improved from 0.00107 to 0.00104, saving model to drive/MLProjectdropout_layers_0.4_0.4/best_model.h5\n",
      "Epoch 85/300\n",
      " - 40s - loss: 0.0010 - val_loss: 0.0010\n",
      "\n",
      "Epoch 00085: val_loss improved from 0.00104 to 0.00101, saving model to drive/MLProjectdropout_layers_0.4_0.4/best_model.h5\n",
      "Epoch 86/300\n",
      " - 40s - loss: 0.0011 - val_loss: 9.9173e-04\n",
      "\n",
      "Epoch 00086: val_loss improved from 0.00101 to 0.00099, saving model to drive/MLProjectdropout_layers_0.4_0.4/best_model.h5\n",
      "Epoch 87/300\n",
      " - 40s - loss: 0.0010 - val_loss: 9.9026e-04\n",
      "\n",
      "Epoch 00087: val_loss improved from 0.00099 to 0.00099, saving model to drive/MLProjectdropout_layers_0.4_0.4/best_model.h5\n",
      "Epoch 88/300\n",
      " - 40s - loss: 0.0010 - val_loss: 9.2295e-04\n",
      "\n",
      "Epoch 00088: val_loss improved from 0.00099 to 0.00092, saving model to drive/MLProjectdropout_layers_0.4_0.4/best_model.h5\n",
      "Epoch 89/300\n",
      " - 40s - loss: 9.8634e-04 - val_loss: 9.1620e-04\n",
      "\n",
      "Epoch 00089: val_loss improved from 0.00092 to 0.00092, saving model to drive/MLProjectdropout_layers_0.4_0.4/best_model.h5\n",
      "Epoch 90/300\n",
      " - 40s - loss: 9.9657e-04 - val_loss: 0.0010\n",
      "\n",
      "Epoch 00090: val_loss did not improve from 0.00092\n",
      "Epoch 91/300\n",
      " - 40s - loss: 9.3580e-04 - val_loss: 8.7339e-04\n",
      "\n",
      "Epoch 00091: val_loss improved from 0.00092 to 0.00087, saving model to drive/MLProjectdropout_layers_0.4_0.4/best_model.h5\n",
      "Epoch 92/300\n",
      " - 40s - loss: 0.0010 - val_loss: 8.7076e-04\n",
      "\n",
      "Epoch 00092: val_loss improved from 0.00087 to 0.00087, saving model to drive/MLProjectdropout_layers_0.4_0.4/best_model.h5\n",
      "Epoch 93/300\n",
      " - 40s - loss: 9.6908e-04 - val_loss: 8.2271e-04\n",
      "\n",
      "Epoch 00093: val_loss improved from 0.00087 to 0.00082, saving model to drive/MLProjectdropout_layers_0.4_0.4/best_model.h5\n",
      "Epoch 94/300\n",
      " - 40s - loss: 9.4864e-04 - val_loss: 8.5167e-04\n",
      "\n",
      "Epoch 00094: val_loss did not improve from 0.00082\n",
      "Epoch 95/300\n",
      " - 39s - loss: 9.1597e-04 - val_loss: 8.1324e-04\n",
      "\n",
      "Epoch 00095: val_loss improved from 0.00082 to 0.00081, saving model to drive/MLProjectdropout_layers_0.4_0.4/best_model.h5\n",
      "Epoch 96/300\n",
      " - 39s - loss: 9.2949e-04 - val_loss: 8.7353e-04\n",
      "\n",
      "Epoch 00096: val_loss did not improve from 0.00081\n",
      "Epoch 97/300\n",
      " - 44s - loss: 9.2552e-04 - val_loss: 8.7199e-04\n",
      "\n",
      "Epoch 00097: val_loss did not improve from 0.00081\n",
      "Epoch 98/300\n",
      " - 40s - loss: 9.0671e-04 - val_loss: 8.2066e-04\n",
      "\n",
      "Epoch 00098: val_loss did not improve from 0.00081\n",
      "Epoch 99/300\n",
      " - 39s - loss: 8.9327e-04 - val_loss: 7.9161e-04\n",
      "\n",
      "Epoch 00099: val_loss improved from 0.00081 to 0.00079, saving model to drive/MLProjectdropout_layers_0.4_0.4/best_model.h5\n",
      "Epoch 100/300\n",
      " - 40s - loss: 9.4218e-04 - val_loss: 8.2489e-04\n",
      "\n",
      "Epoch 00100: val_loss did not improve from 0.00079\n",
      "Epoch 101/300\n",
      " - 40s - loss: 9.2591e-04 - val_loss: 7.5493e-04\n",
      "\n",
      "Epoch 00101: val_loss improved from 0.00079 to 0.00075, saving model to drive/MLProjectdropout_layers_0.4_0.4/best_model.h5\n",
      "Epoch 102/300\n",
      " - 40s - loss: 9.0143e-04 - val_loss: 7.7155e-04\n",
      "\n",
      "Epoch 00102: val_loss did not improve from 0.00075\n",
      "Epoch 103/300\n",
      " - 39s - loss: 8.7181e-04 - val_loss: 7.4157e-04\n",
      "\n",
      "Epoch 00103: val_loss improved from 0.00075 to 0.00074, saving model to drive/MLProjectdropout_layers_0.4_0.4/best_model.h5\n",
      "Epoch 104/300\n",
      " - 40s - loss: 8.9503e-04 - val_loss: 7.4741e-04\n",
      "\n",
      "Epoch 00104: val_loss did not improve from 0.00074\n",
      "Epoch 105/300\n",
      " - 39s - loss: 8.7604e-04 - val_loss: 6.9610e-04\n",
      "\n",
      "Epoch 00105: val_loss improved from 0.00074 to 0.00070, saving model to drive/MLProjectdropout_layers_0.4_0.4/best_model.h5\n",
      "Epoch 106/300\n",
      " - 40s - loss: 8.7946e-04 - val_loss: 7.3340e-04\n",
      "\n",
      "Epoch 00106: val_loss did not improve from 0.00070\n",
      "Epoch 107/300\n",
      " - 39s - loss: 8.5666e-04 - val_loss: 7.8673e-04\n",
      "\n",
      "Epoch 00107: val_loss did not improve from 0.00070\n",
      "Epoch 108/300\n",
      " - 40s - loss: 8.6405e-04 - val_loss: 7.3485e-04\n",
      "\n",
      "Epoch 00108: val_loss did not improve from 0.00070\n",
      "Epoch 109/300\n",
      " - 40s - loss: 7.8896e-04 - val_loss: 6.8997e-04\n",
      "\n",
      "Epoch 00109: val_loss improved from 0.00070 to 0.00069, saving model to drive/MLProjectdropout_layers_0.4_0.4/best_model.h5\n",
      "Epoch 110/300\n",
      " - 40s - loss: 8.5034e-04 - val_loss: 6.9453e-04\n",
      "\n",
      "Epoch 00110: val_loss did not improve from 0.00069\n",
      "Epoch 111/300\n",
      " - 40s - loss: 8.3528e-04 - val_loss: 7.2549e-04\n",
      "\n",
      "Epoch 00111: val_loss did not improve from 0.00069\n",
      "Epoch 112/300\n",
      " - 44s - loss: 8.5442e-04 - val_loss: 6.5776e-04\n",
      "\n",
      "Epoch 00112: val_loss improved from 0.00069 to 0.00066, saving model to drive/MLProjectdropout_layers_0.4_0.4/best_model.h5\n",
      "Epoch 113/300\n",
      " - 40s - loss: 8.4914e-04 - val_loss: 7.0138e-04\n",
      "\n",
      "Epoch 00113: val_loss did not improve from 0.00066\n",
      "Epoch 114/300\n",
      " - 40s - loss: 8.0290e-04 - val_loss: 7.4651e-04\n",
      "\n",
      "Epoch 00114: val_loss did not improve from 0.00066\n",
      "Epoch 115/300\n",
      " - 39s - loss: 8.0937e-04 - val_loss: 7.5973e-04\n",
      "\n",
      "Epoch 00115: val_loss did not improve from 0.00066\n",
      "Epoch 116/300\n",
      " - 40s - loss: 8.0545e-04 - val_loss: 6.7451e-04\n",
      "\n",
      "Epoch 00116: val_loss did not improve from 0.00066\n",
      "Epoch 117/300\n",
      " - 40s - loss: 7.8681e-04 - val_loss: 6.8785e-04\n",
      "\n",
      "Epoch 00117: val_loss did not improve from 0.00066\n",
      "Epoch 118/300\n",
      " - 40s - loss: 7.8201e-04 - val_loss: 7.7334e-04\n",
      "\n",
      "Epoch 00118: val_loss did not improve from 0.00066\n",
      "Epoch 119/300\n",
      " - 40s - loss: 7.8315e-04 - val_loss: 6.5322e-04\n",
      "\n",
      "Epoch 00119: val_loss improved from 0.00066 to 0.00065, saving model to drive/MLProjectdropout_layers_0.4_0.4/best_model.h5\n",
      "Epoch 120/300\n",
      " - 40s - loss: 7.7525e-04 - val_loss: 6.7497e-04\n",
      "\n",
      "Epoch 00120: val_loss did not improve from 0.00065\n",
      "Epoch 121/300\n",
      " - 40s - loss: 7.7247e-04 - val_loss: 6.6890e-04\n",
      "\n",
      "Epoch 00121: val_loss did not improve from 0.00065\n",
      "Epoch 122/300\n",
      " - 40s - loss: 7.4840e-04 - val_loss: 7.1001e-04\n",
      "\n",
      "Epoch 00122: val_loss did not improve from 0.00065\n",
      "Epoch 123/300\n",
      " - 40s - loss: 7.9423e-04 - val_loss: 6.3142e-04\n",
      "\n",
      "Epoch 00123: val_loss improved from 0.00065 to 0.00063, saving model to drive/MLProjectdropout_layers_0.4_0.4/best_model.h5\n",
      "Epoch 124/300\n",
      " - 40s - loss: 7.6437e-04 - val_loss: 6.8205e-04\n",
      "\n",
      "Epoch 00124: val_loss did not improve from 0.00063\n",
      "Epoch 125/300\n",
      " - 40s - loss: 7.5100e-04 - val_loss: 6.5426e-04\n",
      "\n",
      "Epoch 00125: val_loss did not improve from 0.00063\n",
      "Epoch 126/300\n",
      " - 40s - loss: 7.8431e-04 - val_loss: 6.4416e-04\n",
      "\n",
      "Epoch 00126: val_loss did not improve from 0.00063\n",
      "Epoch 127/300\n",
      " - 44s - loss: 7.4021e-04 - val_loss: 7.3921e-04\n",
      "\n",
      "Epoch 00127: val_loss did not improve from 0.00063\n",
      "Epoch 128/300\n",
      " - 40s - loss: 7.5150e-04 - val_loss: 6.3664e-04\n",
      "\n",
      "Epoch 00128: val_loss did not improve from 0.00063\n",
      "Epoch 129/300\n",
      " - 40s - loss: 7.2993e-04 - val_loss: 6.5430e-04\n",
      "\n",
      "Epoch 00129: val_loss did not improve from 0.00063\n",
      "Epoch 130/300\n",
      " - 40s - loss: 7.2679e-04 - val_loss: 6.2948e-04\n",
      "\n",
      "Epoch 00130: val_loss improved from 0.00063 to 0.00063, saving model to drive/MLProjectdropout_layers_0.4_0.4/best_model.h5\n",
      "Epoch 131/300\n",
      " - 39s - loss: 7.4765e-04 - val_loss: 6.4782e-04\n",
      "\n",
      "Epoch 00131: val_loss did not improve from 0.00063\n",
      "Epoch 132/300\n",
      " - 40s - loss: 7.4374e-04 - val_loss: 6.8287e-04\n",
      "\n",
      "Epoch 00132: val_loss did not improve from 0.00063\n",
      "Epoch 133/300\n",
      " - 40s - loss: 7.2580e-04 - val_loss: 6.7253e-04\n",
      "\n",
      "Epoch 00133: val_loss did not improve from 0.00063\n",
      "Epoch 134/300\n",
      " - 40s - loss: 7.1651e-04 - val_loss: 6.4360e-04\n",
      "\n",
      "Epoch 00134: val_loss did not improve from 0.00063\n",
      "Epoch 135/300\n",
      " - 40s - loss: 7.2550e-04 - val_loss: 6.0715e-04\n",
      "\n",
      "Epoch 00135: val_loss improved from 0.00063 to 0.00061, saving model to drive/MLProjectdropout_layers_0.4_0.4/best_model.h5\n",
      "Epoch 136/300\n",
      " - 40s - loss: 7.1555e-04 - val_loss: 6.9465e-04\n",
      "\n",
      "Epoch 00136: val_loss did not improve from 0.00061\n",
      "Epoch 137/300\n",
      " - 40s - loss: 7.3471e-04 - val_loss: 6.7662e-04\n",
      "\n",
      "Epoch 00137: val_loss did not improve from 0.00061\n",
      "Epoch 138/300\n",
      " - 39s - loss: 7.2941e-04 - val_loss: 6.2793e-04\n",
      "\n",
      "Epoch 00138: val_loss did not improve from 0.00061\n",
      "Epoch 139/300\n",
      " - 40s - loss: 7.0248e-04 - val_loss: 6.4488e-04\n",
      "\n",
      "Epoch 00139: val_loss did not improve from 0.00061\n",
      "Epoch 140/300\n",
      " - 39s - loss: 7.0631e-04 - val_loss: 6.6416e-04\n",
      "\n",
      "Epoch 00140: val_loss did not improve from 0.00061\n",
      "Epoch 141/300\n",
      " - 40s - loss: 7.0054e-04 - val_loss: 6.5546e-04\n",
      "\n",
      "Epoch 00141: val_loss did not improve from 0.00061\n",
      "Epoch 142/300\n",
      " - 40s - loss: 7.1513e-04 - val_loss: 6.2555e-04\n",
      "\n",
      "Epoch 00142: val_loss did not improve from 0.00061\n",
      "Epoch 143/300\n",
      " - 44s - loss: 7.0805e-04 - val_loss: 6.4128e-04\n",
      "\n",
      "Epoch 00143: val_loss did not improve from 0.00061\n",
      "Epoch 144/300\n",
      " - 39s - loss: 6.8388e-04 - val_loss: 6.4931e-04\n",
      "\n",
      "Epoch 00144: val_loss did not improve from 0.00061\n",
      "Epoch 145/300\n",
      " - 39s - loss: 6.7936e-04 - val_loss: 6.4770e-04\n",
      "\n",
      "Epoch 00145: val_loss did not improve from 0.00061\n",
      "Epoch 146/300\n",
      " - 40s - loss: 6.8261e-04 - val_loss: 6.9538e-04\n",
      "\n",
      "Epoch 00146: val_loss did not improve from 0.00061\n",
      "Epoch 147/300\n",
      " - 39s - loss: 6.7245e-04 - val_loss: 6.4310e-04\n",
      "\n",
      "Epoch 00147: val_loss did not improve from 0.00061\n",
      "Epoch 148/300\n",
      " - 40s - loss: 6.6897e-04 - val_loss: 6.5621e-04\n",
      "\n",
      "Epoch 00148: val_loss did not improve from 0.00061\n",
      "Epoch 149/300\n",
      " - 40s - loss: 7.0045e-04 - val_loss: 6.4195e-04\n",
      "\n",
      "Epoch 00149: val_loss did not improve from 0.00061\n",
      "Epoch 150/300\n",
      " - 40s - loss: 6.9121e-04 - val_loss: 6.3211e-04\n",
      "\n",
      "Epoch 00150: val_loss did not improve from 0.00061\n",
      "Epoch 151/300\n",
      " - 40s - loss: 6.8612e-04 - val_loss: 6.5603e-04\n",
      "\n",
      "Epoch 00151: val_loss did not improve from 0.00061\n",
      "Epoch 152/300\n",
      " - 39s - loss: 6.9455e-04 - val_loss: 6.5574e-04\n",
      "\n",
      "Epoch 00152: val_loss did not improve from 0.00061\n",
      "Epoch 153/300\n",
      " - 39s - loss: 6.7589e-04 - val_loss: 6.2976e-04\n",
      "\n",
      "Epoch 00153: val_loss did not improve from 0.00061\n",
      "Epoch 154/300\n",
      " - 40s - loss: 6.7069e-04 - val_loss: 6.2843e-04\n",
      "\n",
      "Epoch 00154: val_loss did not improve from 0.00061\n",
      "Epoch 155/300\n",
      " - 40s - loss: 6.5729e-04 - val_loss: 6.5549e-04\n",
      "\n",
      "Epoch 00155: val_loss did not improve from 0.00061\n",
      "Epoch 156/300\n",
      " - 40s - loss: 6.7059e-04 - val_loss: 6.3705e-04\n",
      "\n",
      "Epoch 00156: val_loss did not improve from 0.00061\n",
      "Epoch 157/300\n",
      " - 40s - loss: 6.5682e-04 - val_loss: 6.2412e-04\n",
      "\n",
      "Epoch 00157: val_loss did not improve from 0.00061\n",
      "Epoch 158/300\n",
      " - 45s - loss: 6.5905e-04 - val_loss: 6.9864e-04\n",
      "\n",
      "Epoch 00158: val_loss did not improve from 0.00061\n",
      "Epoch 159/300\n",
      " - 40s - loss: 6.6944e-04 - val_loss: 6.5418e-04\n",
      "\n",
      "Epoch 00159: val_loss did not improve from 0.00061\n",
      "Epoch 00159: early stopping\n",
      "saving model...\n"
     ]
    }
   ],
   "source": [
    "  \n",
    "history = model.fit(x_t, y_t, epochs=params[\"epochs\"], verbose=2, batch_size=BATCH_SIZE,\n",
    "                    shuffle=False, validation_data=(trim_dataset(x_val, BATCH_SIZE),\n",
    "                    trim_dataset(y_val, BATCH_SIZE)), callbacks=[es, mcp, csv_logger])\n",
    "\n",
    "print(\"saving model...\")\n",
    "pickle.dump(model, open(\"lstm_model\", \"wb\"))\n"
   ]
  },
  {
   "cell_type": "code",
   "execution_count": null,
   "metadata": {
    "id": "qblKE-uscZkC"
   },
   "outputs": [],
   "source": []
  },
  {
   "cell_type": "code",
   "execution_count": null,
   "metadata": {
    "id": "RZy98f8hcZq7"
   },
   "outputs": [],
   "source": []
  },
  {
   "cell_type": "code",
   "execution_count": null,
   "metadata": {
    "colab": {
     "base_uri": "https://localhost:8080/",
     "height": 156
    },
    "id": "epAASX-vUjWB",
    "outputId": "0ccd130d-851b-4c5b-b33b-92290b496894"
   },
   "outputs": [
    {
     "name": "stdout",
     "output_type": "stream",
     "text": [
      "MSE is 0.000367582129400338 (1360,) (1360,)\n",
      "R2 is 0.9460689353392759 (1360,) (1360,)\n",
      "[0.3447226  0.34414828 0.3436111  0.34313503 0.34268153 0.34227395\n",
      " 0.3419503  0.3416975  0.34152412 0.34135985 0.34119132 0.340932\n",
      " 0.34051782 0.33999085 0.33944365]\n",
      "[0.32378063 0.32499919 0.32800358 0.32905407 0.32905407 0.33031465\n",
      " 0.32943225 0.33205846 0.32659593 0.32747834 0.31770881 0.31092267\n",
      " 0.31258244 0.32378063 0.32592362]\n"
     ]
    }
   ],
   "source": [
    "\n",
    "# model.evaluate(x_test_t, y_test_t, batch_size=BATCH_SIZE\n",
    "y_pred = model.predict(trim_dataset(x_test_t, BATCH_SIZE), batch_size=BATCH_SIZE)\n",
    "y_pred = y_pred.flatten()\n",
    "y_test_t = trim_dataset(y_test_t, BATCH_SIZE)\n",
    "MSEE = mean_squared_error(y_test_t, y_pred)\n",
    "r2score = r2_score(y_test_t, y_pred)\n",
    "print(\"MSE is\", MSEE, y_pred.shape, y_test_t.shape)\n",
    "print(\"R2 is\", r2score, y_pred.shape, y_test_t.shape)\n",
    "\n",
    "print(y_pred[0:15])\n",
    "print(y_test_t[0:15])\n"
   ]
  },
  {
   "cell_type": "code",
   "execution_count": null,
   "metadata": {
    "colab": {
     "base_uri": "https://localhost:8080/",
     "height": 104
    },
    "id": "nhWRTrkYWMIV",
    "outputId": "de74afca-534a-4b61-c152-095c02ef219a"
   },
   "outputs": [
    {
     "name": "stdout",
     "output_type": "stream",
     "text": [
      "[16.866776 16.83944  16.813871 16.791212 16.769627 16.750227 16.734823\n",
      " 16.72279  16.714539 16.706718 16.698698 16.686356 16.666641 16.64156\n",
      " 16.615513]\n",
      "[15.87  15.928 16.071 16.121 16.121 16.181 16.139 16.264 16.004 16.046\n",
      " 15.581 15.258 15.337 15.87  15.972]\n"
     ]
    }
   ],
   "source": [
    "\n",
    "# convert the predicted value to range of real data\n",
    "y_pred_org = (y_pred * min_max_scaler.data_range_[0]) + min_max_scaler.data_min_[0]\n",
    "# min_max_scaler.inverse_transform(y_pred)\n",
    "y_test_t_org = (y_test_t * min_max_scaler.data_range_[0]) + min_max_scaler.data_min_[0]\n",
    "# min_max_scaler.inverse_transform(y_test_t)\n",
    "print(y_pred_org[0:15])\n",
    "print(y_test_t_org[0:15])\n"
   ]
  },
  {
   "cell_type": "code",
   "execution_count": null,
   "metadata": {
    "colab": {
     "base_uri": "https://localhost:8080/",
     "height": 295
    },
    "id": "XD8paO_tUyKW",
    "outputId": "1a96c0cd-6991-4eaf-a6f2-cdbce2251384"
   },
   "outputs": [
    {
     "data": {
      "image/png": "[encoded data removed]",
      "text/plain": [
       "<Figure size 432x288 with 1 Axes>"
      ]
     },
     "metadata": {
      "needs_background": "light",
      "tags": []
     },
     "output_type": "display_data"
    }
   ],
   "source": [
    "\n",
    "# Visualize the training data\n",
    "from matplotlib import pyplot as plt\n",
    "plt.figure()\n",
    "plt.plot(history.history['loss'])\n",
    "plt.plot(history.history['val_loss'])\n",
    "plt.title('Model loss')\n",
    "plt.ylabel('Loss')\n",
    "plt.xlabel('Epoch')\n",
    "plt.legend(['Train', 'Test'], loc='upper left')\n",
    "plt.savefig('train-val-loss.png')\n",
    "plt.show()\n",
    "\n"
   ]
  },
  {
   "cell_type": "code",
   "execution_count": null,
   "metadata": {
    "colab": {
     "base_uri": "https://localhost:8080/",
     "height": 33
    },
    "id": "Ss6aug9a2eDF",
    "outputId": "c33059a6-3925-4d1b-b918-6c3f4dae6c9e"
   },
   "outputs": [
    {
     "data": {
      "application/javascript": [
       "\n",
       "    async function download(id, filename, size) {\n",
       "      if (!google.colab.kernel.accessAllowed) {\n",
       "        return;\n",
       "      }\n",
       "      const div = document.createElement('div');\n",
       "      const label = document.createElement('label');\n",
       "      label.textContent = `Downloading \"${filename}\": `;\n",
       "      div.appendChild(label);\n",
       "      const progress = document.createElement('progress');\n",
       "      progress.max = size;\n",
       "      div.appendChild(progress);\n",
       "      document.body.appendChild(div);\n",
       "\n",
       "      const buffers = [];\n",
       "      let downloaded = 0;\n",
       "\n",
       "      const channel = await google.colab.kernel.comms.open(id);\n",
       "      // Send a message to notify the kernel that we're ready.\n",
       "      channel.send({})\n",
       "\n",
       "      for await (const message of channel.messages) {\n",
       "        // Send a message to notify the kernel that we're ready.\n",
       "        channel.send({})\n",
       "        if (message.buffers) {\n",
       "          for (const buffer of message.buffers) {\n",
       "            buffers.push(buffer);\n",
       "            downloaded += buffer.byteLength;\n",
       "            progress.value = downloaded;\n",
       "          }\n",
       "        }\n",
       "      }\n",
       "      const blob = new Blob(buffers, {type: 'application/binary'});\n",
       "      const a = document.createElement('a');\n",
       "      a.href = window.URL.createObjectURL(blob);\n",
       "      a.download = filename;\n",
       "      div.appendChild(a);\n",
       "      a.click();\n",
       "      div.remove();\n",
       "    }\n",
       "  "
      ],
      "text/plain": [
       "<IPython.core.display.Javascript object>"
      ]
     },
     "metadata": {
      "tags": []
     },
     "output_type": "display_data"
    },
    {
     "data": {
      "application/javascript": [
       "download(\"download_6eddd209-4c24-434c-b545-2d1650012fb4\", \"train-val-loss.png\", 14598)"
      ],
      "text/plain": [
       "<IPython.core.display.Javascript object>"
      ]
     },
     "metadata": {
      "tags": []
     },
     "output_type": "display_data"
    }
   ],
   "source": [
    "files.download('train-val-loss.png')"
   ]
  },
  {
   "cell_type": "code",
   "execution_count": null,
   "metadata": {
    "colab": {
     "base_uri": "https://localhost:8080/",
     "height": 244
    },
    "id": "3ZwAguRMZ10p",
    "outputId": "727de164-ce71-4f75-f8eb-26da044b2d7c"
   },
   "outputs": [
    {
     "name": "stdout",
     "output_type": "stream",
     "text": [
      "<keras.engine.sequential.Sequential object at 0x7f16ae70d550>\n",
      "Error is 0.00031741450683999236 (1360,) (1360,)\n",
      "[0.33918744 0.33849895 0.33784246 0.3372411  0.33670467 0.33624023\n",
      " 0.335854   0.33552814 0.33527407 0.335034   0.3347891  0.33446914\n",
      " 0.3340369  0.33350578 0.33296442]\n",
      "[0.32378063 0.32499919 0.32800358 0.32905407 0.32905407 0.33031465\n",
      " 0.32943225 0.33205846 0.32659593 0.32747834 0.31770881 0.31092267\n",
      " 0.31258244 0.32378063 0.32592362]\n",
      "[16.60332  16.570549 16.539303 16.51068  16.485146 16.463041 16.444656\n",
      " 16.429146 16.417053 16.405628 16.39397  16.378742 16.358168 16.332888\n",
      " 16.307121]\n",
      "[15.87  15.928 16.071 16.121 16.121 16.181 16.139 16.264 16.004 16.046\n",
      " 15.581 15.258 15.337 15.87  15.972]\n"
     ]
    }
   ],
   "source": [
    "\n",
    "# load the saved best model from above\n",
    "saved_model = load_model(os.path.join(OUTPUT_PATH, 'best_model.h5')) # , \"lstm_best_7-3-19_12AM\",\n",
    "print(saved_model)\n",
    "\n",
    "y_pred = saved_model.predict(trim_dataset(x_test_t, BATCH_SIZE), batch_size=BATCH_SIZE)\n",
    "y_pred = y_pred.flatten()\n",
    "y_test_t = trim_dataset(y_test_t, BATCH_SIZE)\n",
    "error = mean_squared_error(y_test_t, y_pred)\n",
    "print(\"Error is\", error, y_pred.shape, y_test_t.shape)\n",
    "print(y_pred[0:15])\n",
    "print(y_test_t[0:15])\n",
    "y_pred_org = (y_pred * min_max_scaler.data_range_[0]) + min_max_scaler.data_min_[0] # min_max_scaler.inverse_transform(y_pred)\n",
    "y_test_t_org = (y_test_t * min_max_scaler.data_range_[0]) + min_max_scaler.data_min_[0] # min_max_scaler.inverse_transform(y_test_t)\n",
    "print(y_pred_org[0:15])\n",
    "print(y_test_t_org[0:15])\n"
   ]
  },
  {
   "cell_type": "code",
   "execution_count": null,
   "metadata": {
    "colab": {
     "base_uri": "https://localhost:8080/",
     "height": 313
    },
    "id": "OsYEZ-CHZ3wz",
    "outputId": "ce5458a6-cb14-43f5-d791-864ab43cf227"
   },
   "outputs": [
    {
     "data": {
      "image/png": "[encoded data removed]",
      "text/plain": [
       "<Figure size 432x288 with 1 Axes>"
      ]
     },
     "metadata": {
      "needs_background": "light",
      "tags": []
     },
     "output_type": "display_data"
    },
    {
     "name": "stdout",
     "output_type": "stream",
     "text": [
      "program completed  106.0 minutes :  6.0 seconds\n"
     ]
    }
   ],
   "source": [
    "\n",
    "# Visualize the prediction\n",
    "from matplotlib import pyplot as plt\n",
    "plt.figure()\n",
    "plt.plot(y_pred_org)\n",
    "plt.plot(y_test_t_org)\n",
    "plt.title('Prediction vs Real Stock Price')\n",
    "plt.ylabel('Price')\n",
    "plt.xlabel('Days')\n",
    "plt.legend(['Prediction', 'Real'], loc='upper left')\n",
    "plt.savefig('result-pred.png')\n",
    "plt.show()\n",
    "\n",
    "print_time(\"program completed \", stime)"
   ]
  },
  {
   "cell_type": "code",
   "execution_count": null,
   "metadata": {
    "colab": {
     "base_uri": "https://localhost:8080/",
     "height": 17
    },
    "id": "AxzmazyyaLKV",
    "outputId": "dec3e3e2-e59e-44a7-930e-fe4266588335"
   },
   "outputs": [
    {
     "data": {
      "application/javascript": [
       "\n",
       "    async function download(id, filename, size) {\n",
       "      if (!google.colab.kernel.accessAllowed) {\n",
       "        return;\n",
       "      }\n",
       "      const div = document.createElement('div');\n",
       "      const label = document.createElement('label');\n",
       "      label.textContent = `Downloading \"${filename}\": `;\n",
       "      div.appendChild(label);\n",
       "      const progress = document.createElement('progress');\n",
       "      progress.max = size;\n",
       "      div.appendChild(progress);\n",
       "      document.body.appendChild(div);\n",
       "\n",
       "      const buffers = [];\n",
       "      let downloaded = 0;\n",
       "\n",
       "      const channel = await google.colab.kernel.comms.open(id);\n",
       "      // Send a message to notify the kernel that we're ready.\n",
       "      channel.send({})\n",
       "\n",
       "      for await (const message of channel.messages) {\n",
       "        // Send a message to notify the kernel that we're ready.\n",
       "        channel.send({})\n",
       "        if (message.buffers) {\n",
       "          for (const buffer of message.buffers) {\n",
       "            buffers.push(buffer);\n",
       "            downloaded += buffer.byteLength;\n",
       "            progress.value = downloaded;\n",
       "          }\n",
       "        }\n",
       "      }\n",
       "      const blob = new Blob(buffers, {type: 'application/binary'});\n",
       "      const a = document.createElement('a');\n",
       "      a.href = window.URL.createObjectURL(blob);\n",
       "      a.download = filename;\n",
       "      div.appendChild(a);\n",
       "      a.click();\n",
       "      div.remove();\n",
       "    }\n",
       "  "
      ],
      "text/plain": [
       "<IPython.core.display.Javascript object>"
      ]
     },
     "metadata": {
      "tags": []
     },
     "output_type": "display_data"
    },
    {
     "data": {
      "application/javascript": [
       "download(\"download_c779bd81-f6b2-4b8a-a99b-13bb6096ceb7\", \"result-pred.png\", 26397)"
      ],
      "text/plain": [
       "<IPython.core.display.Javascript object>"
      ]
     },
     "metadata": {
      "tags": []
     },
     "output_type": "display_data"
    }
   ],
   "source": [
    "files.download('result-pred.png')"
   ]
  },
  {
   "cell_type": "code",
   "execution_count": null,
   "metadata": {
    "id": "u8MoONx7RrP7"
   },
   "outputs": [],
   "source": []
  },
  {
   "cell_type": "code",
   "execution_count": null,
   "metadata": {
    "colab": {
     "base_uri": "https://localhost:8080/",
     "height": 51
    },
    "id": "ph6eV_jmSTVb",
    "outputId": "13eb92e9-cae1-46a2-8750-1aa3aac19fa2"
   },
   "outputs": [
    {
     "data": {
      "text/plain": [
       "array([21.03233 , 21.118015, 21.202024, ..., 24.196299, 24.21963 ,\n",
       "       24.235266], dtype=float32)"
      ]
     },
     "execution_count": 63,
     "metadata": {
      "tags": []
     },
     "output_type": "execute_result"
    }
   ],
   "source": [
    "y_pred_org[300:3500]"
   ]
  },
  {
   "cell_type": "code",
   "execution_count": null,
   "metadata": {
    "colab": {
     "base_uri": "https://localhost:8080/",
     "height": 34
    },
    "id": "sKK_3-nrSheK",
    "outputId": "8ae6eb31-8342-4253-8521-7f11f18357a5"
   },
   "outputs": [
    {
     "data": {
      "text/plain": [
       "array([21.25 , 21.154, 21.37 , ..., 23.43 , 23.36 , 23.07 ])"
      ]
     },
     "execution_count": 64,
     "metadata": {
      "tags": []
     },
     "output_type": "execute_result"
    }
   ],
   "source": [
    "y_test_t_org[300:3500]"
   ]
  },
  {
   "cell_type": "code",
   "execution_count": null,
   "metadata": {
    "colab": {
     "base_uri": "https://localhost:8080/",
     "height": 542
    },
    "id": "mnZDGis9yQpW",
    "outputId": "69ff49b6-71d5-4a37-e69f-607fa75c1152"
   },
   "outputs": [
    {
     "data": {
      "text/html": [
       "<html>\n",
       "<head><meta charset=\"utf-8\" /></head>\n",
       "<body>\n",
       "    <div>\n",
       "            <script src=\"https://cdnjs.cloudflare.com/ajax/libs/mathjax/2.7.5/MathJax.js?config=TeX-AMS-MML_SVG\"></script><script type=\"text/javascript\">if (window.MathJax) {MathJax.Hub.Config({SVG: {font: \"STIX-Web\"}});}</script>\n",
       "                <script type=\"text/javascript\">window.PlotlyConfig = {MathJaxConfig: 'local'};</script>\n",
       "        <script src=\"https://cdn.plot.ly/plotly-latest.min.js\"></script>    \n",
       "            <div id=\"8eccdc68-26fb-4b09-8cc0-9df5cf59cd17\" class=\"plotly-graph-div\" style=\"height:525px; width:100%;\"></div>\n",
       "            <script type=\"text/javascript\">\n",
       "                \n",
       "                    window.PLOTLYENV=window.PLOTLYENV || {};\n",
       "                    \n",
       "                if (document.getElementById(\"8eccdc68-26fb-4b09-8cc0-9df5cf59cd17\")) {\n",
       "                    Plotly.newPlot(\n",
       "                        '8eccdc68-26fb-4b09-8cc0-9df5cf59cd17',\n",
       "                        [{\"mode\": \"lines\", \"name\": \"Real\", \"type\": \"scatter\", \"y\": [15.869999999999997, 15.927999999999997, 16.070999999999994, 16.121, 16.121, 16.180999999999997, 16.139, 16.264, 16.003999999999998, 16.045999999999996, 15.581, 15.258, 15.337, 15.869999999999997, 15.972000000000001, 16.141, 16.063, 16.377, 16.285, 16.575999999999997, 16.809999999999995, 16.598999999999997, 16.809999999999995, 16.894999999999996, 16.555999999999994, 16.792999999999996, 16.548, 16.785, 17.065, 17.124, 17.664999999999996, 17.369999999999997, 17.316999999999997, 17.232999999999997, 16.954999999999995, 16.987999999999996, 16.631999999999998, 16.683, 16.478999999999996, 16.761, 16.605999999999995, 16.716999999999995, 16.819, 16.785, 16.843999999999998, 17.030999999999995, 16.927, 16.954999999999995, 17.427999999999997, 17.736, 17.634, 17.589999999999996, 17.571999999999996, 17.397999999999996, 17.77, 17.777999999999995, 17.902, 17.808999999999997, 17.854999999999997, 17.887999999999998, 17.791, 17.752999999999997, 17.77, 17.845999999999997, 17.798999999999996, 17.743999999999996, 17.671999999999997, 17.616999999999997, 17.498, 17.634, 17.671999999999997, 17.644, 17.652, 17.498, 17.554999999999996, 17.388999999999996, 17.505999999999997, 18.064999999999998, 18.299999999999997, 18.207999999999995, 18.299999999999997, 18.557, 18.667, 18.743999999999996, 18.692999999999994, 18.854, 19.014, 19.159999999999997, 19.246, 19.098999999999997, 19.057999999999996, 18.878, 19.415999999999997, 19.397999999999996, 19.484999999999996, 19.466999999999995, 19.567999999999998, 19.604999999999997, 19.749999999999996, 19.577999999999996, 19.321999999999996, 19.159999999999997, 19.227, 19.201999999999998, 19.339, 19.339, 19.567999999999998, 19.484999999999996, 18.817999999999998, 18.535999999999994, 18.176999999999996, 18.159999999999997, 18.159999999999997, 18.032, 17.99, 18.228999999999996, 18.200999999999997, 18.286999999999995, 18.441999999999997, 18.048999999999996, 17.845, 17.937999999999995, 17.845, 17.664999999999996, 17.091999999999995, 17.134999999999998, 17.211999999999996, 17.65, 17.614999999999995, 17.664999999999996, 17.971999999999998, 17.99, 17.826999999999998, 18.057, 18.048999999999996, 18.048999999999996, 17.784000000000002, 17.816999999999997, 18.135999999999996, 18.255999999999997, 18.33, 18.270999999999997, 18.374000000000002, 18.604, 18.468999999999998, 18.468999999999998, 18.733, 18.526, 17.945999999999994, 17.981999999999996, 17.836, 17.784000000000002, 17.743, 17.67, 17.458999999999996, 17.927999999999997, 18.228999999999996, 18.023999999999997, 18.108999999999998, 18.048999999999996, 17.854999999999997, 17.896, 18.083, 18.048999999999996, 18.041, 18.108999999999998, 18.041, 18.191999999999997, 18.826999999999998, 18.800999999999995, 18.740999999999996, 18.836, 19.040999999999997, 19.219999999999995, 19.219999999999995, 18.989, 19.030999999999995, 19.321999999999996, 19.057999999999996, 19.255, 19.168999999999997, 19.201999999999998, 19.219999999999995, 19.176999999999996, 19.287999999999997, 19.98, 19.996999999999996, 19.894, 20.284999999999997, 19.996999999999996, 20.030999999999995, 20.142999999999997, 19.641999999999996, 19.851999999999997, 20.126999999999995, 19.996999999999996, 19.971, 20.038999999999998, 20.314999999999998, 20.383999999999997, 20.391999999999996, 20.472999999999995, 20.342, 20.159999999999997, 20.23, 20.398999999999997, 20.185999999999996, 20.022000000000002, 20.082, 20.201999999999998, 20.057999999999996, 20.126999999999995, 20.012999999999995, 19.909999999999997, 19.892999999999997, 19.909999999999997, 19.876999999999995, 20.1, 19.807, 19.876999999999995, 19.748, 19.909999999999997, 19.86, 20.305999999999997, 20.314999999999998, 20.201999999999998, 19.641999999999996, 19.892999999999997, 19.601999999999997, 19.522999999999996, 18.730999999999998, 18.385999999999996, 18.515999999999995, 18.909999999999997, 18.902, 19.126999999999995, 19.179, 19.194999999999997, 19.074999999999996, 19.221999999999998, 19.436999999999998, 19.444, 19.531999999999996, 19.816999999999997, 19.619, 19.721999999999998, 19.677999999999997, 19.816999999999997, 20.012999999999995, 20.038999999999998, 20.201999999999998, 20.295999999999996, 20.375999999999994, 20.548, 20.375999999999994, 20.263999999999996, 20.323999999999998, 20.362000000000002, 20.323999999999998, 20.083, 20.362000000000002, 20.375999999999994, 20.082, 20.133999999999997, 20.548, 20.480999999999995, 20.305999999999997, 20.239999999999995, 20.391999999999996, 20.254999999999995, 20.472999999999995, 20.953, 20.649999999999995, 20.182, 20.275999999999996, 19.903999999999996, 20.061, 20.182, 20.245999999999995, 20.128999999999998, 20.261999999999997, 19.878999999999998, 19.886999999999997, 20.171999999999997, 20.245999999999995, 20.502999999999997, 20.433999999999997, 20.780999999999995, 20.624999999999996, 20.510999999999996, 20.339999999999996, 20.433999999999997, 20.510999999999996, 21.460999999999995, 21.579999999999995, 21.451999999999995, 21.369999999999997, 21.432, 21.398, 21.258, 21.249999999999996, 21.153999999999996, 21.369999999999997, 21.441999999999993, 21.284999999999997, 21.103, 21.128999999999998, 21.119999999999997, 21.049999999999997, 21.067999999999998, 21.005999999999997, 20.895999999999997, 20.833, 20.790999999999997, 20.703, 20.592, 20.495, 20.641999999999996, 20.641999999999996, 20.495, 20.124000000000002, 20.138999999999996, 20.061, 20.086999999999996, 20.013999999999996, 20.112000000000002, 20.101999999999997, 20.101999999999997, 20.302999999999997, 20.721999999999994, 20.910999999999998, 20.703, 20.644, 20.954999999999995, 21.221999999999994, 21.579999999999995, 21.396999999999995, 21.001999999999995, 21.239999999999995, 21.273999999999997, 21.194999999999997, 21.212999999999997, 21.037, 20.898, 21.142999999999997, 21.282999999999998, 21.083, 21.037, 20.941, 20.704999999999995, 20.616999999999994, 21.212999999999997, 21.345999999999997, 21.326999999999998, 21.159999999999997, 21.308, 21.588, 22.349999999999998, 22.865999999999996, 22.761999999999993, 22.478999999999996, 22.690999999999995, 22.639999999999997, 22.823, 22.926999999999996, 23.069000000000003, 22.865999999999996, 23.214999999999996, 23.118, 23.107999999999997, 23.531, 23.269, 23.660999999999994, 23.624999999999996, 23.660999999999994, 23.749999999999996, 23.609999999999996, 23.793999999999997, 23.810999999999996, 23.645, 23.583999999999996, 23.539, 23.688999999999997, 23.381999999999994, 23.425, 23.469999999999995, 23.321999999999996, 23.321999999999996, 23.231999999999996, 23.302999999999997, 23.134999999999998, 23.565999999999995, 23.784, 23.740999999999996, 23.249, 23.214999999999996, 23.478999999999996, 23.602999999999998, 23.645, 23.976999999999993, 24.090999999999998, 24.125999999999998, 24.163, 24.348, 24.541999999999994, 24.541999999999994, 24.591999999999995, 24.715999999999994, 24.250999999999998, 24.232999999999997, 24.039999999999996, 24.065999999999995, 23.994999999999997, 24.002, 23.772, 23.570999999999994, 23.781999999999993, 24.107999999999997, 23.985, 23.438, 23.184, 22.919, 22.769, 22.001999999999995, 22.107999999999997, 22.451999999999995, 22.300999999999995, 22.483999999999998, 22.160999999999998, 21.471999999999994, 21.668, 21.621999999999996, 22.001999999999995, 22.214999999999996, 22.090999999999994, 22.426, 22.388999999999996, 22.435999999999996, 22.699, 22.618, 22.398999999999997, 22.344999999999995, 22.185, 22.494999999999997, 22.475999999999996, 22.503999999999998, 22.682, 22.656999999999993, 22.344999999999995, 22.816999999999993, 23.066999999999993, 23.322999999999997, 23.241999999999997, 23.164999999999996, 23.039, 22.913999999999998, 22.541999999999994, 22.338, 22.619999999999997, 22.816999999999993, 22.484999999999996, 22.475999999999996, 22.593000000000004, 22.601999999999993, 22.860999999999997, 22.789, 22.959999999999997, 23.019999999999996, 23.03, 23.010999999999996, 23.164999999999996, 23.330999999999996, 23.145, 22.993, 22.904, 23.083999999999996, 22.754999999999995, 22.619999999999997, 22.868999999999996, 22.968999999999998, 23.232999999999997, 23.624, 23.651, 23.644, 23.501999999999995, 23.537, 23.660999999999994, 23.822, 23.804, 23.92, 23.813, 23.731999999999996, 23.644, 23.298000000000002, 23.600999999999996, 23.518, 23.501999999999995, 23.883, 23.945999999999998, 23.804, 23.660999999999994, 23.723999999999997, 23.669999999999998, 23.395999999999997, 23.563999999999997, 23.581999999999994, 23.581999999999994, 23.633999999999997, 23.715999999999994, 23.785999999999994, 23.831, 23.866999999999994, 23.831, 23.615999999999996, 23.813, 24.179, 24.409000000000002, 24.381999999999994, 24.15, 23.980999999999998, 24.054000000000002, 23.858, 23.901999999999994, 23.92, 24.151999999999994, 24.189, 23.929999999999996, 23.839, 23.695999999999994, 23.578999999999997, 23.704999999999995, 23.569999999999997, 23.676999999999996, 23.866999999999994, 24.089999999999996, 23.991999999999994, 23.649999999999995, 23.606999999999996, 23.497999999999998, 23.811999999999994, 23.909999999999997, 23.866999999999994, 24.234, 23.866999999999994, 23.729999999999997, 23.300999999999995, 23.335999999999995, 23.235999999999997, 23.264999999999997, 23.128999999999998, 22.951999999999995, 22.826999999999995, 22.993999999999996, 22.556999999999995, 22.734999999999996, 22.664999999999996, 22.441, 22.816999999999993, 22.868999999999996, 23.011999999999993, 23.128999999999998, 22.969999999999995, 23.168, 23.210999999999995, 22.993999999999996, 23.380999999999997, 23.363, 23.640999999999995, 23.704999999999995, 23.453, 23.497999999999998, 23.326999999999995, 23.434, 23.326999999999995, 23.300999999999995, 23.184999999999995, 23.274, 23.284, 23.409, 23.390999999999995, 23.227999999999998, 23.274, 23.335999999999995, 23.203, 23.245999999999995, 23.506999999999998, 23.560999999999996, 23.705999999999996, 23.776999999999994, 23.589, 23.533, 23.451999999999995, 23.106999999999996, 23.180999999999994, 22.990999999999996, 23.171999999999993, 22.755999999999997, 22.718999999999998, 22.973000000000003, 22.809999999999995, 22.441, 22.836999999999996, 22.413, 21.950999999999997, 21.661999999999995, 21.796999999999997, 21.960999999999995, 21.934, 22.450999999999997, 22.638999999999996, 23.016999999999996, 22.783, 23.008, 23.190999999999995, 23.081999999999994, 23.407999999999998, 23.208000000000002, 23.216999999999995, 23.343999999999998, 23.243, 23.243, 23.352999999999998, 23.841999999999995, 23.885, 23.940999999999995, 23.859999999999996, 23.985999999999997, 23.894999999999996, 23.931999999999995, 24.068, 24.429999999999996, 24.348, 24.284999999999997, 24.410999999999994, 24.42, 24.293999999999997, 24.304, 23.959999999999997, 23.533, 23.560999999999996, 23.859999999999996, 23.598, 23.524, 23.233999999999998, 23.133999999999997, 22.854999999999997, 22.980999999999995, 22.510999999999996, 22.239999999999995, 22.150999999999996, 22.302999999999997, 22.953, 23.389999999999997, 23.473, 23.625999999999994, 23.581999999999994, 23.535999999999994, 23.464, 23.344999999999995, 23.070999999999994, 22.878999999999998, 22.459999999999997, 21.973999999999997, 21.983999999999998, 22.247999999999998, 21.938999999999997, 21.892999999999997, 21.782999999999998, 21.709999999999997, 21.528, 21.537, 21.773999999999997, 21.947, 22.166999999999998, 22.349999999999998, 22.450999999999997, 22.258, 21.766, 21.983999999999998, 21.809999999999995, 22.101999999999993, 22.340999999999994, 22.058, 22.365999999999996, 22.384999999999998, 22.493999999999996, 22.569000000000003, 22.611999999999995, 22.723000000000003, 22.961999999999996, 22.978999999999996, 23.052999999999997, 23.043999999999997, 23.226999999999997, 23.190999999999995, 23.392999999999997, 23.870999999999995, 23.853999999999996, 23.945999999999998, 24.056999999999995, 23.826999999999995, 23.642, 23.789, 23.420999999999996, 23.621999999999996, 23.190999999999995, 23.208999999999996, 23.052999999999997, 23.070999999999994, 23.449, 23.319999999999997, 23.621999999999996, 23.337999999999997, 23.403, 23.468, 23.283, 22.951999999999995, 22.849999999999998, 22.904, 23.144, 22.857999999999997, 22.886, 22.977999999999998, 23.200999999999997, 23.052999999999997, 23.043999999999997, 23.706999999999994, 26.269000000000002, 25.455999999999996, 25.548999999999996, 25.298999999999996, 25.136, 25.105999999999998, 24.894999999999996, 24.526999999999994, 24.793999999999997, 24.738999999999997, 24.690999999999995, 24.766999999999996, 24.985999999999997, 24.959999999999997, 24.949999999999996, 25.163999999999998, 25.125999999999998, 24.802999999999997, 24.701, 24.914999999999996, 25.206999999999994, 24.802999999999997, 24.905, 25.069999999999997, 25.255999999999997, 25.125999999999998, 25.163999999999998, 25.196999999999996, 25.465999999999998, 25.539999999999996, 25.505, 25.355999999999995, 25.355999999999995, 25.455999999999996, 25.125999999999998, 25.136, 25.179, 25.366, 25.115999999999996, 25.145, 25.095999999999997, 25.179, 25.455999999999996, 25.346, 25.235999999999997, 25.069999999999997, 25.078, 25.125999999999998, 25.431999999999995, 25.31, 25.477999999999998, 25.598999999999997, 25.328999999999997, 25.125999999999998, 25.173, 24.754999999999995, 24.686999999999994, 24.773000000000003, 24.883, 24.446999999999996, 24.593999999999998, 24.056999999999995, 24.178, 24.409999999999997, 24.593999999999998, 24.773000000000003, 24.875, 25.125999999999998, 25.31, 25.216999999999995, 24.947999999999997, 24.744999999999997, 24.399999999999995, 23.927999999999997, 24.113000000000003, 24.250999999999998, 24.399999999999995, 24.269999999999996, 24.250999999999998, 24.039, 24.065999999999995, 24.250999999999998, 24.186999999999994, 23.964999999999996, 24.381, 23.888, 24.029, 23.964999999999996, 24.234, 24.353999999999996, 24.223999999999997, 23.908, 23.406999999999993, 22.848999999999997, 22.179999999999996, 21.621999999999996, 22.309999999999995, 23.238, 23.377, 23.063000000000002, 22.188999999999997, 22.830999999999996, 22.773999999999997, 22.299999999999997, 23.193, 22.811999999999994, 22.933000000000003, 23.183000000000003, 23.014999999999997, 23.508, 24.093, 23.766, 23.249, 23.522, 23.540999999999997, 23.569999999999997, 23.353999999999996, 23.361999999999995, 22.790999999999997, 23.034999999999997, 23.644, 23.615999999999996, 23.877999999999997, 25.145, 25.583000000000002, 26.035, 26.278000000000002, 26.316999999999993, 26.334999999999997, 26.127999999999997, 25.875, 26.278000000000002, 27.169999999999998, 27.177, 26.980999999999998, 27.048, 27.731999999999996, 27.665999999999997, 27.703, 27.619999999999997, 27.553, 27.506999999999994, 27.113000000000003, 27.561999999999994, 27.741999999999994, 27.692999999999998, 27.786999999999995, 28.05, 27.89, 28.238, 28.752999999999997, 28.274999999999995, 28.386999999999993, 28.462999999999997, 28.425999999999995, 28.611999999999995, 28.376999999999995, 28.743, 28.677999999999997, 28.743, 28.462999999999997, 28.462999999999997, 28.069, 28.284000000000002, 28.096999999999994, 28.153, 28.583999999999996, 28.473000000000003, 28.302999999999997, 28.565999999999995, 28.733999999999998, 28.369, 28.369, 28.425999999999995, 29.046, 28.854999999999997, 28.6, 28.713, 28.798999999999996, 29.233, 29.118999999999996, 29.185, 29.544999999999998, 29.325999999999997, 29.421999999999993, 29.005999999999997, 29.035999999999994, 28.571999999999996, 27.364, 26.872, 26.993999999999996, 27.051999999999996, 26.673, 27.446999999999996, 26.909, 26.909, 26.447999999999997, 27.003999999999998, 26.673, 26.482999999999997, 26.739, 26.447999999999997, 26.645999999999997, 27.485999999999997, 27.051999999999996, 26.673, 27.078, 27.560999999999996, 26.955999999999996, 26.605999999999995, 26.71, 26.728999999999996, 25.926999999999996, 26.692999999999998, 27.26, 27.712, 27.467, 27.409999999999997, 27.776999999999997, 27.598999999999997, 27.354, 27.828999999999997, 27.991999999999994, 27.745, 28.447999999999997, 28.733999999999998, 28.773, 28.999999999999996, 28.837999999999997, 28.619999999999997, 28.609999999999996, 28.505, 28.885999999999996, 28.817999999999998, 28.827999999999996, 28.724, 29.475999999999996, 29.438999999999997, 29.6, 29.571999999999996, 29.579999999999995, 29.618999999999996, 29.979999999999997, 29.971999999999998, 30.304999999999996, 30.266999999999996, 30.399999999999995, 29.733, 29.494999999999997, 29.42, 29.163999999999998, 29.313999999999997, 29.238, 29.333, 29.494999999999997, 29.534, 29.544, 29.571999999999996, 29.657999999999998, 29.657999999999998, 29.494999999999997, 29.285999999999998, 29.209, 29.42, 29.446999999999996, 29.42, 29.276999999999997, 29.409999999999997, 29.163999999999998, 28.628999999999998, 28.458000000000002, 28.676, 28.438000000000002, 29.02, 28.885999999999996, 28.648999999999997, 28.219999999999995, 28.524999999999995, 28.285999999999998, 28.189999999999998, 27.953000000000003, 28.144, 28.076, 28.42, 28.648999999999997, 28.579999999999995, 28.676, 28.781999999999996, 28.668999999999997, 28.609999999999996, 28.505, 28.676, 28.695, 28.857999999999997, 28.791999999999998, 28.6, 28.400999999999996, 28.980999999999998, 29.124000000000002, 29.393, 29.354999999999997, 29.574999999999996, 29.68, 29.526999999999994, 29.92, 28.605999999999995, 28.116999999999997, 28.721, 29.305999999999997, 30.198999999999998, 30.209, 30.169999999999998, 30.449, 30.525, 30.889, 30.899, 30.946999999999996, 31.043, 31.300999999999995, 31.540999999999997, 31.570999999999994, 31.589, 31.445999999999994, 31.263999999999996, 30.754999999999995, 30.351, 30.188999999999997, 30.005999999999997, 29.976999999999993, 29.872, 29.881, 29.785999999999998, 29.863, 29.900999999999993, 30.005999999999997, 29.996, 30.026, 29.996, 30.016, 29.968999999999998, 29.968999999999998, 29.92, 30.016, 30.150999999999996, 29.976999999999993, 30.044999999999998, 29.959999999999997, 29.949999999999996, 29.94, 29.959999999999997, 30.083999999999996, 30.093, 29.968999999999998, 29.929999999999996, 30.016, 29.785999999999998, 29.794999999999995, 29.775999999999996, 28.894, 29.249, 28.634999999999998, 28.490999999999996, 28.761999999999997, 28.694, 28.453000000000003, 28.683999999999997, 28.858999999999998, 29.043, 28.896999999999995, 28.559, 28.886999999999993, 28.906999999999996, 28.549, 28.635999999999996, 28.656, 28.52, 28.52, 28.296999999999997, 28.113999999999997, 27.899999999999995, 27.959999999999997, 27.939999999999998, 27.813999999999997, 27.929999999999996, 27.890999999999995, 28.017, 28.094999999999995, 28.104999999999997, 28.017, 27.959999999999997, 27.698, 27.909999999999997, 27.677999999999997, 28.249999999999996, 28.133000000000003, 27.92, 27.543, 27.340999999999994, 27.496, 28.337, 28.442999999999994, 28.645999999999997, 29.399999999999995, 29.689999999999998, 29.496, 29.727999999999998, 29.718999999999998, 29.766999999999996, 29.650999999999996, 29.845, 30.144, 30.298999999999996, 30.394999999999992, 30.221, 30.017999999999997, 29.738, 30.346999999999994, 30.298999999999996, 30.076999999999995, 30.133999999999997, 30.550999999999995, 30.480999999999998, 30.724, 30.801999999999996, 30.685999999999996, 30.454999999999995, 30.221, 30.694999999999997, 30.86, 31.177999999999997, 31.063, 30.993999999999996, 31.052999999999997, 31.073, 30.876999999999992, 30.886999999999993, 30.779999999999994, 30.868, 30.876999999999992, 30.701999999999995, 30.789999999999996, 30.644, 30.556999999999995, 30.653999999999996, 30.574999999999996, 30.546999999999993, 30.458999999999996, 30.42, 30.379999999999992, 29.738, 28.977999999999998, 29.221999999999994, 29.581999999999994, 29.532999999999998, 29.231999999999996, 29.182, 28.929999999999996, 28.92, 28.909999999999997, 28.929999999999996, 28.89, 28.793000000000003, 28.666999999999998, 28.822, 28.949, 29.260999999999996, 29.493999999999996, 29.563, 29.659999999999997, 29.581999999999994, 29.727999999999998, 29.543, 29.474999999999998, 29.641, 29.396, 29.269000000000002, 29.641, 29.641, 29.573, 29.454999999999995, 29.316999999999993, 29.258999999999997, 29.120999999999995, 29.73, 29.316999999999993, 29.002999999999997, 29.218999999999998, 29.209, 29.336999999999996, 29.198999999999998, 28.855999999999995, 28.993, 29.080999999999996, 29.179, 28.905, 29.080999999999996, 29.141, 29.326999999999998, 29.258999999999997, 29.336999999999996, 29.474999999999998, 29.425, 29.385999999999996, 29.444999999999997, 29.464999999999996, 29.493999999999996, 29.228999999999996, 29.023, 29.100999999999996, 29.296999999999997, 29.454999999999995, 29.719999999999995, 29.012999999999998, 29.012999999999998, 28.914999999999996, 28.727999999999998, 28.552, 28.462999999999997, 28.414, 28.462999999999997, 28.698, 28.669999999999998, 28.689, 28.541999999999994, 28.403999999999996, 28.177999999999997, 28.345, 27.756999999999994, 27.668, 27.529999999999998, 26.911999999999995, 26.979999999999997, 27.539999999999996, 27.668, 27.765999999999995, 27.323999999999998, 26.99, 26.950999999999997, 26.863, 26.881999999999994, 27.215999999999994, 27.373, 27.471999999999998, 27.421999999999997, 27.175999999999995, 27.088, 27.431999999999995, 28.414, 27.933, 28.168999999999997, 28.653999999999996, 28.713, 28.514999999999997, 27.851999999999993, 27.505, 27.276999999999997, 27.296999999999997, 27.337, 26.940999999999995, 26.811999999999998, 26.752999999999997, 26.743000000000002, 27.177999999999997, 27.078999999999997, 26.05, 25.890999999999995, 25.781999999999993, 26.118999999999996, 26.316999999999993, 26.524999999999995, 26.514999999999997, 26.554999999999996, 26.624000000000002, 26.673, 26.425999999999995, 25.653999999999996, 25.177999999999997, 25.188, 25.337, 25.535, 25.276999999999997, 25.357, 25.188, 25.267999999999997, 25.505, 25.524999999999995, 25.375999999999994, 25.307, 25.455999999999996, 25.05, 24.950999999999997, 25.108999999999998, 24.890999999999995, 24.851999999999993, 24.505, 24.307, 24.247999999999998, 24.356999999999996, 24.148999999999997, 24.059999999999995, 24.247999999999998, 24.228, 24.198, 24.039999999999996, 24.307, 24.890999999999995, 24.515, 24.673, 23.781999999999993, 23.583999999999996, 23.484999999999996, 23.673, 23.870999999999995, 24.02, 23.929999999999996, 24.459999999999997, 24.199999999999996, 24.319999999999997, 24.749999999999996, 24.87, 25.109999999999996, 24.929999999999996, 24.37, 24.239999999999995, 24.18, 24.569999999999997, 24.799999999999997, 24.479999999999997, 24.539999999999996, 24.39, 23.429999999999996, 23.359999999999996, 23.07]}, {\"mode\": \"lines\", \"name\": \"Prediction\", \"type\": \"scatter\", \"y\": [16.60331916809082, 16.57054901123047, 16.539302825927734, 16.510679244995117, 16.485145568847656, 16.463041305541992, 16.444656372070312, 16.42914581298828, 16.41705322265625, 16.405628204345703, 16.393970489501953, 16.378742218017578, 16.35816764831543, 16.332887649536133, 16.30712127685547, 16.282745361328125, 16.261791229248047, 16.244291305541992, 16.233219146728516, 16.228126525878906, 16.164026260375977, 16.17873764038086, 16.201414108276367, 16.233016967773438, 16.273883819580078, 16.32013702392578, 16.377056121826172, 16.4432430267334, 16.51309585571289, 16.588254928588867, 16.668092727661133, 16.75681495666504, 16.849870681762695, 16.93507194519043, 17.01464080810547, 17.089813232421875, 17.15940284729004, 17.219310760498047, 17.269060134887695, 17.307579040527344, 17.33616828918457, 17.355581283569336, 17.36761474609375, 17.3724365234375, 17.372360229492188, 17.368993759155273, 17.364511489868164, 17.35910987854004, 17.3530330657959, 17.35079002380371, 17.355993270874023, 17.367443084716797, 17.385242462158203, 17.408740997314453, 17.435739517211914, 17.46875762939453, 17.507539749145508, 17.552221298217773, 17.60065460205078, 17.652021408081055, 17.705615997314453, 17.759260177612305, 17.811246871948242, 17.860620498657227, 17.9052791595459, 17.942201614379883, 17.97458839416504, 18.00135612487793, 18.021425247192383, 18.034143447875977, 18.041357040405273, 18.044252395629883, 18.04360008239746, 18.04039192199707, 18.03457260131836, 18.026594161987305, 18.016584396362305, 18.005338668823242, 17.997648239135742, 17.996047973632812, 18.000761032104492, 18.012672424316406, 18.033344268798828, 18.06391143798828, 18.104507446289062, 18.153432846069336, 18.210805892944336, 18.276229858398438, 18.3542537689209, 18.44056510925293, 18.537080764770508, 18.64834213256836, 18.757837295532227, 18.86799430847168, 18.97721290588379, 19.084030151367188, 19.186359405517578, 19.282560348510742, 19.372459411621094, 19.457355499267578, 19.53595542907715, 19.604812622070312, 19.66208267211914, 19.70827293395996, 19.74346160888672, 19.77030372619629, 19.788576126098633, 19.80069351196289, 19.80765151977539, 19.806367874145508, 19.7961483001709, 19.77571678161621, 19.7464656829834, 19.709129333496094, 19.664039611816406, 19.612733840942383, 19.55775260925293, 19.498666763305664, 19.436246871948242, 19.371614456176758, 19.302579879760742, 19.228116989135742, 19.14960479736328, 19.066991806030273, 18.979764938354492, 18.884319305419922, 18.781166076660156, 18.67034149169922, 18.554887771606445, 18.443843841552734, 18.342544555664062, 18.244319915771484, 18.1512393951416, 18.063800811767578, 17.984649658203125, 17.914714813232422, 17.85769271850586, 17.809341430664062, 17.767860412597656, 17.734371185302734, 17.70831298828125, 17.690624237060547, 17.682964324951172, 17.6856746673584, 17.700305938720703, 17.72453498840332, 17.75459861755371, 17.790334701538086, 17.831016540527344, 17.871606826782227, 17.910512924194336, 17.94594955444336, 17.977182388305664, 18.004348754882812, 18.02638053894043, 18.042524337768555, 18.055774688720703, 18.068801879882812, 18.080814361572266, 18.09256362915039, 18.10357666015625, 18.112655639648438, 18.12032699584961, 18.12771224975586, 18.134056091308594, 18.13987922668457, 18.14478302001953, 18.14748764038086, 18.148880004882812, 18.155336380004883, 18.168216705322266, 18.18778419494629, 18.21486473083496, 18.250831604003906, 18.296642303466797, 18.351390838623047, 18.411884307861328, 18.476909637451172, 18.560253143310547, 18.646177291870117, 18.734094619750977, 18.821575164794922, 18.907039642333984, 18.989126205444336, 19.06631851196289, 19.137845993041992, 19.21000862121582, 19.283340454101562, 19.356613159179688, 19.433244705200195, 19.511613845825195, 19.591630935668945, 19.67330551147461, 19.751392364501953, 19.828927993774414, 19.904762268066406, 19.977048873901367, 20.044212341308594, 20.106420516967773, 20.166242599487305, 20.224416732788086, 20.281124114990234, 20.33643341064453, 20.388734817504883, 20.435483932495117, 20.475473403930664, 20.510297775268555, 20.539562225341797, 20.5618896484375, 20.576982498168945, 20.58755111694336, 20.59300994873047, 20.594501495361328, 20.591449737548828, 20.58312225341797, 20.570158004760742, 20.55436134338379, 20.536012649536133, 20.516977310180664, 20.4958553314209, 20.47325325012207, 20.448501586914062, 20.42281150817871, 20.396366119384766, 20.373401641845703, 20.354637145996094, 20.33891487121582, 20.32207679748535, 20.30596923828125, 20.28925323486328, 20.270620346069336, 20.245899200439453, 20.213459014892578, 20.174896240234375, 20.133413314819336, 20.088958740234375, 20.043094635009766, 19.99660873413086, 19.949848175048828, 19.902254104614258, 19.855361938476562, 19.81102752685547, 19.76944923400879, 19.731441497802734, 19.698183059692383, 19.667675018310547, 19.640867233276367, 19.617431640625, 19.597816467285156, 19.58589744567871, 19.58130645751953, 19.585662841796875, 19.598987579345703, 19.620725631713867, 19.653289794921875, 19.69424057006836, 19.74063491821289, 19.79163932800293, 19.84623908996582, 19.902509689331055, 19.956459045410156, 20.00895118713379, 20.05961799621582, 20.105133056640625, 20.145368576049805, 20.18417739868164, 20.22144317626953, 20.255064010620117, 20.28403663635254, 20.30986976623535, 20.332164764404297, 20.35310173034668, 20.378780364990234, 20.407123565673828, 20.43388557434082, 20.459575653076172, 20.481243133544922, 20.499605178833008, 20.51573944091797, 20.529617309570312, 20.54059410095215, 20.549325942993164, 20.55365562438965, 20.553985595703125, 20.553030014038086, 20.551074981689453, 20.550704956054688, 20.551671981811523, 20.55794906616211, 20.568178176879883, 20.581607818603516, 20.59552764892578, 20.60898780822754, 20.6229248046875, 20.64789581298828, 20.686214447021484, 20.73719024658203, 20.79863166809082, 20.869749069213867, 20.948638916015625, 21.032329559326172, 21.11801528930664, 21.202024459838867, 21.283462524414062, 21.36161231994629, 21.433666229248047, 21.49736785888672, 21.55232810974121, 21.598358154296875, 21.635547637939453, 21.66384506225586, 21.682510375976562, 21.690574645996094, 21.687973022460938, 21.675382614135742, 21.65379524230957, 21.624391555786133, 21.588212966918945, 21.54730987548828, 21.502805709838867, 21.45479393005371, 21.40236473083496, 21.34657859802246, 21.28707504272461, 21.2247371673584, 21.16000747680664, 21.093717575073242, 21.02595329284668, 20.957275390625, 20.88994026184082, 20.82764434814453, 20.773439407348633, 20.726621627807617, 20.685792922973633, 20.653512954711914, 20.63374137878418, 20.630714416503906, 20.64335823059082, 20.666595458984375, 20.700639724731445, 20.74433708190918, 20.795406341552734, 20.851247787475586, 20.90839195251465, 20.963661193847656, 21.017114639282227, 21.068897247314453, 21.115999221801758, 21.156970977783203, 21.189674377441406, 21.212797164916992, 21.226755142211914, 21.237316131591797, 21.24666404724121, 21.256704330444336, 21.265945434570312, 21.274850845336914, 21.28725242614746, 21.313325881958008, 21.360321044921875, 21.428279876708984, 21.513545989990234, 21.615520477294922, 21.73171615600586, 21.860654830932617, 21.999711990356445, 22.147031784057617, 22.297977447509766, 22.452411651611328, 22.606632232666016, 22.745933532714844, 22.870269775390625, 22.98765754699707, 23.100223541259766, 23.207002639770508, 23.310853958129883, 23.409399032592773, 23.496809005737305, 23.57475471496582, 23.644752502441406, 23.7058162689209, 23.758480072021484, 23.802593231201172, 23.839534759521484, 23.86745834350586, 23.887001037597656, 23.899343490600586, 23.903953552246094, 23.901552200317383, 23.892961502075195, 23.879629135131836, 23.861621856689453, 23.842866897583008, 23.825925827026367, 23.81209945678711, 23.79836654663086, 23.784465789794922, 23.771970748901367, 23.76121711730957, 23.752925872802734, 23.750194549560547, 23.75444221496582, 23.76641082763672, 23.786067962646484, 23.814970016479492, 23.85453987121582, 23.904077529907227, 23.962486267089844, 24.011865615844727, 24.063304901123047, 24.1153507232666, 24.166990280151367, 24.22414779663086, 24.275794982910156, 24.3212890625, 24.358381271362305, 24.385168075561523, 24.40312385559082, 24.415809631347656, 24.423181533813477, 24.4217472076416, 24.410778045654297, 24.390546798706055, 24.361515045166016, 24.320812225341797, 24.270038604736328, 24.218873977661133, 24.168424606323242, 24.113298416137695, 24.052513122558594, 23.96480941772461, 23.86636734008789, 23.760059356689453, 23.649789810180664, 23.535930633544922, 23.41939926147461, 23.303972244262695, 23.189659118652344, 23.07650375366211, 22.966184616088867, 22.85879898071289, 22.75728988647461, 22.661245346069336, 22.56757354736328, 22.480051040649414, 22.400060653686523, 22.32867431640625, 22.268075942993164, 22.218616485595703, 22.17557144165039, 22.13652992248535, 22.112123489379883, 22.10498046875, 22.114032745361328, 22.13750457763672, 22.172245025634766, 22.215635299682617, 22.26324462890625, 22.311464309692383, 22.36042022705078, 22.4111270904541, 22.457332611083984, 22.496501922607422, 22.532608032226562, 22.565750122070312, 22.598299026489258, 22.629812240600586, 22.66150665283203, 22.694318771362305, 22.727773666381836, 22.761760711669922, 22.79718780517578, 22.835189819335938, 22.87407684326172, 22.91202735900879, 22.947620391845703, 22.981945037841797, 23.012880325317383, 23.038692474365234, 23.061687469482422, 23.082317352294922, 23.102710723876953, 23.126935958862305, 23.156126022338867, 23.190134048461914, 23.228012084960938, 23.26966094970703, 23.315166473388672, 23.365671157836914, 23.420150756835938, 23.47844123840332, 23.539216995239258, 23.600563049316406, 23.66017723083496, 23.714853286743164, 23.765382766723633, 23.810882568359375, 23.850257873535156, 23.88517189025879, 23.916093826293945, 23.94173812866211, 23.961275100708008, 23.975914001464844, 23.986265182495117, 23.99176025390625, 23.99375343322754, 23.992856979370117, 23.98969841003418, 23.984882354736328, 23.979290008544922, 23.97406578063965, 23.9702091217041, 23.968425750732422, 23.96849250793457, 23.96847915649414, 23.969331741333008, 23.974775314331055, 23.987428665161133, 24.007339477539062, 24.030746459960938, 24.051158905029297, 24.073246002197266, 24.095348358154297, 24.117063522338867, 24.137767791748047, 24.1595458984375, 24.183998107910156, 24.206113815307617, 24.224760055541992, 24.238828659057617, 24.24778938293457, 24.252838134765625, 24.253490447998047, 24.2504940032959, 24.245664596557617, 24.240787506103516, 24.235685348510742, 24.227663040161133, 24.216388702392578, 24.201969146728516, 24.18675422668457, 24.173614501953125, 24.16219711303711, 24.153425216674805, 24.14568328857422, 24.137731552124023, 24.12746810913086, 24.115312576293945, 24.100969314575195, 24.084732055664062, 24.066226959228516, 24.039438247680664, 24.00813102722168, 23.974624633789062, 23.9366397857666, 23.8956356048584, 23.851356506347656, 23.803184509277344, 23.75416374206543, 23.70520782470703, 23.656911849975586, 23.61028289794922, 23.563552856445312, 23.516897201538086, 23.471071243286133, 23.4244327545166, 23.381061553955078, 23.34165382385254, 23.30983543395996, 23.28730583190918, 23.27233123779297, 23.264923095703125, 23.263195037841797, 23.26703643798828, 23.274513244628906, 23.284494400024414, 23.29527473449707, 23.305850982666016, 23.31541633605957, 23.324661254882812, 23.333572387695312, 23.341344833374023, 23.348037719726562, 23.354557037353516, 23.36016273498535, 23.36530303955078, 23.371685028076172, 23.38022232055664, 23.392175674438477, 23.408395767211914, 23.427656173706055, 23.449064254760742, 23.4715518951416, 23.492155075073242, 23.51106071472168, 23.526809692382812, 23.540119171142578, 23.548398971557617, 23.551748275756836, 23.551971435546875, 23.548866271972656, 23.54059600830078, 23.52987289428711, 23.514812469482422, 23.49294662475586, 23.463529586791992, 23.427364349365234, 23.386211395263672, 23.339778900146484, 23.29111671447754, 23.24179458618164, 23.19506072998047, 23.149738311767578, 23.1086483001709, 23.073469161987305, 23.044591903686523, 23.024555206298828, 23.012325286865234, 23.00768280029297, 23.010887145996094, 23.020780563354492, 23.036426544189453, 23.05735969543457, 23.087677001953125, 23.126985549926758, 23.173648834228516, 23.225555419921875, 23.28169822692871, 23.339597702026367, 23.39811897277832, 23.457294464111328, 23.520395278930664, 23.586496353149414, 23.654232025146484, 23.72284507751465, 23.79296875, 23.86264419555664, 23.929885864257812, 23.979957580566406, 24.023422241210938, 24.059789657592773, 24.09010124206543, 24.11309242248535, 24.128664016723633, 24.1363468170166, 24.136714935302734, 24.129985809326172, 24.11758041381836, 24.09860610961914, 24.072542190551758, 24.039615631103516, 23.996625900268555, 23.944686889648438, 23.893966674804688, 23.845157623291016, 23.79920768737793, 23.75616455078125, 23.715129852294922, 23.676382064819336, 23.639604568481445, 23.601627349853516, 23.560840606689453, 23.51506996154785, 23.46077537536621, 23.39900016784668, 23.332592010498047, 23.26113510131836, 23.185277938842773, 23.105716705322266, 23.023466110229492, 22.938663482666016, 22.855422973632812, 22.776203155517578, 22.699857711791992, 22.627941131591797, 22.560863494873047, 22.49911880493164, 22.44017791748047, 22.379648208618164, 22.317949295043945, 22.253700256347656, 22.189146041870117, 22.11676025390625, 22.04739761352539, 21.984804153442383, 21.930648803710938, 21.887361526489258, 21.85663414001465, 21.838836669921875, 21.834823608398438, 21.84630012512207, 21.8726806640625, 21.912921905517578, 21.965778350830078, 22.031768798828125, 22.10911750793457, 22.19798469543457, 22.3017635345459, 22.41843605041504, 22.54628562927246, 22.666473388671875, 22.790475845336914, 22.91403579711914, 23.035842895507812, 23.15052032470703, 23.2602481842041, 23.36287498474121, 23.45207977294922, 23.526050567626953, 23.58526611328125, 23.633346557617188, 23.670425415039062, 23.70048713684082, 23.72287368774414, 23.73868751525879, 23.74974250793457, 23.755659103393555, 23.754560470581055, 23.746837615966797, 23.732975006103516, 23.714468002319336, 23.690256118774414, 23.661012649536133, 23.62757110595703, 23.592952728271484, 23.556949615478516, 23.520662307739258, 23.490503311157227, 23.497692108154297, 23.537988662719727, 23.61041831970215, 23.708555221557617, 23.827787399291992, 23.94070816040039, 24.047481536865234, 24.156850814819336, 24.272668838500977, 24.401931762695312, 24.5239315032959, 24.63724136352539, 24.741512298583984, 24.835983276367188, 24.919662475585938, 24.992950439453125, 25.055721282958984, 25.10540008544922, 25.140308380126953, 25.1613826751709, 25.16806411743164, 25.1626033782959, 25.146535873413086, 25.12306022644043, 25.095989227294922, 25.066635131835938, 25.037450790405273, 25.00991439819336, 24.987133026123047, 24.97149085998535, 24.962820053100586, 24.960046768188477, 24.96266746520996, 24.97096061706543, 24.98219108581543, 24.995563507080078, 25.010391235351562, 25.028017044067383, 25.045618057250977, 25.06262969970703, 25.078317642211914, 25.09320640563965, 25.109155654907227, 25.125083923339844, 25.140363693237305, 25.153722763061523, 25.165403366088867, 25.17596435546875, 25.18708038330078, 25.197917938232422, 25.20972442626953, 25.223773956298828, 25.238298416137695, 25.25132942199707, 25.263505935668945, 25.272066116333008, 25.276885986328125, 25.278244018554688, 25.277421951293945, 25.272552490234375, 25.267702102661133, 25.256685256958008, 25.240894317626953, 25.2220401763916, 25.201683044433594, 25.18134307861328, 25.16177749633789, 25.144607543945312, 25.131744384765625, 25.122756958007812, 25.11513900756836, 25.10661506652832, 25.094741821289062, 25.076135635375977, 25.051664352416992, 25.02297019958496, 24.991241455078125, 24.955896377563477, 24.917348861694336, 24.87571144104004, 24.83180809020996, 24.787656784057617, 24.743595123291016, 24.69890785217285, 24.656856536865234, 24.614442825317383, 24.57272720336914, 24.53095054626465, 24.490497589111328, 24.451478958129883, 24.412715911865234, 24.371728897094727, 24.32830810546875, 24.285932540893555, 24.23725128173828, 24.181640625, 24.12326431274414, 24.057552337646484, 23.99363136291504, 23.932098388671875, 23.866926193237305, 23.801973342895508, 23.737802505493164, 23.67131233215332, 23.606725692749023, 23.54206657409668, 23.478084564208984, 23.417211532592773, 23.35776138305664, 23.302412033081055, 23.257164001464844, 23.22027015686035, 23.187368392944336, 23.160640716552734, 23.140277862548828, 23.124666213989258, 23.11174964904785, 23.101390838623047, 23.089550018310547, 23.077730178833008, 23.0704402923584, 23.067197799682617, 23.071102142333984, 23.09477424621582, 23.144744873046875, 23.227130889892578, 23.343461990356445, 23.491798400878906, 23.668638229370117, 23.85181999206543, 24.005813598632812, 24.169384002685547, 24.356258392333984, 24.57929229736328, 24.80726432800293, 25.036739349365234, 25.268943786621094, 25.500328063964844, 25.727846145629883, 25.946409225463867, 26.154590606689453, 26.35006332397461, 26.523469924926758, 26.675615310668945, 26.80909538269043, 26.924373626708984, 27.024316787719727, 27.11262321472168, 27.190298080444336, 27.26110076904297, 27.329540252685547, 27.39259910583496, 27.45139503479004, 27.508068084716797, 27.561649322509766, 27.608089447021484, 27.653175354003906, 27.699560165405273, 27.746902465820312, 27.795333862304688, 27.842592239379883, 27.889068603515625, 27.931520462036133, 27.969200134277344, 28.001739501953125, 28.028554916381836, 28.052169799804688, 28.072540283203125, 28.08884620666504, 28.103120803833008, 28.117090225219727, 28.12937355041504, 28.139421463012695, 28.148399353027344, 28.160221099853516, 28.174097061157227, 28.188766479492188, 28.204296112060547, 28.220962524414062, 28.241844177246094, 28.266977310180664, 28.29604148864746, 28.33135414123535, 28.372005462646484, 28.417604446411133, 28.464740753173828, 28.511966705322266, 28.55599594116211, 28.59073829650879, 28.61368751525879, 28.626052856445312, 28.629602432250977, 28.62371253967285, 28.612098693847656, 28.5920352935791, 28.564695358276367, 28.529314041137695, 28.488588333129883, 28.441370010375977, 28.386547088623047, 28.32582664489746, 28.25767707824707, 28.182104110717773, 28.104896545410156, 28.0233211517334, 27.9351749420166, 27.841642379760742, 27.745962142944336, 27.636152267456055, 27.514307022094727, 27.39072036743164, 27.267192840576172, 27.142261505126953, 27.02151107788086, 26.910879135131836, 26.815439224243164, 26.734846115112305, 26.669021606445312, 26.620664596557617, 26.58866310119629, 26.569772720336914, 26.56615447998047, 26.577117919921875, 26.599756240844727, 26.638296127319336, 26.693830490112305, 26.76565933227539, 26.85342025756836, 26.95403480529785, 27.06350326538086, 27.1787052154541, 27.29575538635254, 27.41399574279785, 27.530059814453125, 27.62824249267578, 27.71918296813965, 27.80942153930664, 27.898906707763672, 27.988262176513672, 28.077686309814453, 28.166027069091797, 28.252647399902344, 28.339641571044922, 28.426206588745117, 28.513500213623047, 28.60120964050293, 28.6903018951416, 28.776334762573242, 28.857322692871094, 28.932594299316406, 29.000200271606445, 29.060134887695312, 29.11178970336914, 29.155956268310547, 29.1928653717041, 29.2232723236084, 29.24724769592285, 29.266698837280273, 29.28215789794922, 29.294612884521484, 29.30420684814453, 29.309917449951172, 29.311464309692383, 29.31097984313965, 29.307209014892578, 29.30013084411621, 29.288450241088867, 29.27385139465332, 29.25562858581543, 29.232595443725586, 29.20542335510254, 29.17593002319336, 29.143714904785156, 29.112720489501953, 29.08283233642578, 29.053268432617188, 29.021465301513672, 28.989177703857422, 28.955718994140625, 28.92034149169922, 28.881967544555664, 28.842144012451172, 28.800804138183594, 28.759485244750977, 28.720346450805664, 28.682825088500977, 28.647432327270508, 28.61420249938965, 28.582210540771484, 28.551164627075195, 28.52083396911621, 28.492252349853516, 28.465978622436523, 28.44278335571289, 28.42285919189453, 28.405153274536133, 28.38902473449707, 28.377004623413086, 28.37078285217285, 28.37184715270996, 28.379613876342773, 28.39501953125, 28.418710708618164, 28.44895362854004, 28.487882614135742, 28.52756118774414, 28.56391716003418, 28.598373413085938, 28.633684158325195, 28.674673080444336, 28.721572875976562, 28.773611068725586, 28.832059860229492, 28.89725112915039, 28.970829010009766, 29.051982879638672, 29.13959503173828, 29.232263565063477, 29.330358505249023, 29.433908462524414, 29.542158126831055, 29.653589248657227, 29.766193389892578, 29.87774658203125, 29.983675003051758, 30.0809383392334, 30.165552139282227, 30.235231399536133, 30.289352416992188, 30.327953338623047, 30.35298728942871, 30.365739822387695, 30.367929458618164, 30.36182403564453, 30.348892211914062, 30.330644607543945, 30.308408737182617, 30.282995223999023, 30.254650115966797, 30.22328758239746, 30.18891716003418, 30.15108871459961, 30.109790802001953, 30.065332412719727, 30.017038345336914, 29.96609878540039, 29.913589477539062, 29.860370635986328, 29.80724334716797, 29.75522232055664, 29.705795288085938, 29.659944534301758, 29.61737823486328, 29.578266143798828, 29.543195724487305, 29.511350631713867, 29.482799530029297, 29.458038330078125, 29.4337215423584, 29.4118595123291, 29.38981056213379, 29.367521286010742, 29.34615707397461, 29.325172424316406, 29.30354118347168, 29.28075408935547, 29.257949829101562, 29.236257553100586, 29.214881896972656, 29.192270278930664, 29.16900634765625, 29.14500617980957, 29.118488311767578, 29.089374542236328, 29.057518005371094, 29.021923065185547, 28.982345581054688, 28.93758773803711, 28.887554168701172, 28.832429885864258, 28.773836135864258, 28.712989807128906, 28.650447845458984, 28.587844848632812, 28.525768280029297, 28.465160369873047, 28.4067440032959, 28.350900650024414, 28.297618865966797, 28.247112274169922, 28.197751998901367, 28.150358200073242, 28.10405921936035, 28.061555862426758, 28.02235984802246, 27.985063552856445, 27.947559356689453, 27.90924835205078, 27.870832443237305, 27.837604522705078, 27.81083869934082, 27.792150497436523, 27.78700065612793, 27.79822540283203, 27.824932098388672, 27.868003845214844, 27.92608070373535, 27.997791290283203, 28.0803165435791, 28.172119140625, 28.27271270751953, 28.380735397338867, 28.494524002075195, 28.610929489135742, 28.727197647094727, 28.839670181274414, 28.9495792388916, 29.05457878112793, 29.151247024536133, 29.238374710083008, 29.31756591796875, 29.388395309448242, 29.452360153198242, 29.51104164123535, 29.565052032470703, 29.613780975341797, 29.6566219329834, 29.696331024169922, 29.734390258789062, 29.772851943969727, 29.811931610107422, 29.85131072998047, 29.891361236572266, 29.932565689086914, 29.973628997802734, 30.013877868652344, 30.051921844482422, 30.088163375854492, 30.12291717529297, 30.15433692932129, 30.182723999023438, 30.20771598815918, 30.228496551513672, 30.24593734741211, 30.26021957397461, 30.271574020385742, 30.27967643737793, 30.284236907958984, 30.285749435424805, 30.28192901611328, 30.270689010620117, 30.25417709350586, 30.234516143798828, 30.212265014648438, 30.186120986938477, 30.15598487854004, 30.120939254760742, 30.081636428833008, 30.03865623474121, 29.99285316467285, 29.943599700927734, 29.890878677368164, 29.834901809692383, 29.776281356811523, 29.715373992919922, 29.6540470123291, 29.59352684020996, 29.534015655517578, 29.475786209106445, 29.419321060180664, 29.36623191833496, 29.31653594970703, 29.270370483398438, 29.228979110717773, 29.191267013549805, 29.156293869018555, 29.126386642456055, 29.101106643676758, 29.079776763916016, 29.06195831298828, 29.04673194885254, 29.03299331665039, 29.02005958557129, 29.010522842407227, 29.001890182495117, 28.992431640625, 28.983192443847656, 28.974853515625, 28.96799087524414, 28.962093353271484, 28.95488739013672, 28.947227478027344, 28.93988800048828, 28.933195114135742, 28.92591094970703, 28.918792724609375, 28.911985397338867, 28.90665054321289, 28.902305603027344, 28.899211883544922, 28.898479461669922, 28.899930953979492, 28.903522491455078, 28.90880584716797, 28.91611099243164, 28.925230026245117, 28.934377670288086, 28.942514419555664, 28.94975471496582, 28.9570369720459, 28.965389251708984, 28.976306915283203, 28.98610496520996, 28.994306564331055, 29.00042724609375, 29.00372314453125, 29.003774642944336, 29.000486373901367, 28.99393653869629, 28.98465347290039, 28.973800659179688, 28.96150016784668, 28.947921752929688, 28.93252944946289, 28.91451644897461, 28.892934799194336, 28.86895751953125, 28.84021759033203, 28.806659698486328, 28.76822853088379, 28.7229061126709, 28.67070960998535, 28.61549186706543, 28.558324813842773, 28.50004768371582, 28.438920974731445, 28.374101638793945, 28.306047439575195, 28.235227584838867, 28.162328720092773, 28.08924102783203, 28.016990661621094, 27.945924758911133, 27.876352310180664, 27.806392669677734, 27.736003875732422, 27.66699981689453, 27.59854507446289, 27.536375045776367, 27.484895706176758, 27.448450088500977, 27.428619384765625, 27.423797607421875, 27.428651809692383, 27.43851661682129, 27.45055389404297, 27.462940216064453, 27.474414825439453, 27.48128318786621, 27.482084274291992, 27.476633071899414, 27.46539878845215, 27.45176124572754, 27.435840606689453, 27.412391662597656, 27.381093978881836, 27.342256546020508, 27.297454833984375, 27.249895095825195, 27.20050811767578, 27.148120880126953, 27.09261131286621, 27.033077239990234, 26.970977783203125, 26.905216217041016, 26.83204460144043, 26.749771118164062, 26.659875869750977, 26.565210342407227, 26.468425750732422, 26.36916160583496, 26.269691467285156, 26.170557022094727, 26.071044921875, 25.97421646118164, 25.880970001220703, 25.791593551635742, 25.706100463867188, 25.62612533569336, 25.54923439025879, 25.474613189697266, 25.40300750732422, 25.332748413085938, 25.261903762817383, 25.187707901000977, 25.1096248626709, 25.02886390686035, 24.947904586791992, 24.866865158081055, 24.78632164001465, 24.708688735961914, 24.634355545043945, 24.5639705657959, 24.50190544128418, 24.449108123779297, 24.40289878845215, 24.36148452758789, 24.326065063476562, 24.290334701538086, 24.253726959228516, 24.216123580932617, 24.178104400634766, 24.14047622680664, 24.094385147094727, 24.049335479736328, 24.00989532470703, 23.97532844543457, 23.947010040283203, 23.928970336914062, 23.923107147216797, 23.93171501159668, 23.953218460083008, 23.981929779052734, 24.014612197875977, 24.046167373657227, 24.072681427001953, 24.102916717529297, 24.13404655456543, 24.165864944458008, 24.196298599243164, 24.219629287719727, 24.235265731811523]}],\n",
       "                        {\"template\": {\"data\": {\"bar\": [{\"error_x\": {\"color\": \"#2a3f5f\"}, \"error_y\": {\"color\": \"#2a3f5f\"}, \"marker\": {\"line\": {\"color\": \"#E5ECF6\", \"width\": 0.5}}, \"type\": \"bar\"}], \"barpolar\": [{\"marker\": {\"line\": {\"color\": \"#E5ECF6\", \"width\": 0.5}}, \"type\": \"barpolar\"}], \"carpet\": [{\"aaxis\": {\"endlinecolor\": \"#2a3f5f\", \"gridcolor\": \"white\", \"linecolor\": \"white\", \"minorgridcolor\": \"white\", \"startlinecolor\": \"#2a3f5f\"}, \"baxis\": {\"endlinecolor\": \"#2a3f5f\", \"gridcolor\": \"white\", \"linecolor\": \"white\", \"minorgridcolor\": \"white\", \"startlinecolor\": \"#2a3f5f\"}, \"type\": \"carpet\"}], \"choropleth\": [{\"colorbar\": {\"outlinewidth\": 0, \"ticks\": \"\"}, \"type\": \"choropleth\"}], \"contour\": [{\"colorbar\": {\"outlinewidth\": 0, \"ticks\": \"\"}, \"colorscale\": [[0.0, \"#0d0887\"], [0.1111111111111111, \"#46039f\"], [0.2222222222222222, \"#7201a8\"], [0.3333333333333333, \"#9c179e\"], [0.4444444444444444, \"#bd3786\"], [0.5555555555555556, \"#d8576b\"], [0.6666666666666666, \"#ed7953\"], [0.7777777777777778, \"#fb9f3a\"], [0.8888888888888888, \"#fdca26\"], [1.0, \"#f0f921\"]], \"type\": \"contour\"}], \"contourcarpet\": [{\"colorbar\": {\"outlinewidth\": 0, \"ticks\": \"\"}, \"type\": \"contourcarpet\"}], \"heatmap\": [{\"colorbar\": {\"outlinewidth\": 0, \"ticks\": \"\"}, \"colorscale\": [[0.0, \"#0d0887\"], [0.1111111111111111, \"#46039f\"], [0.2222222222222222, \"#7201a8\"], [0.3333333333333333, \"#9c179e\"], [0.4444444444444444, \"#bd3786\"], [0.5555555555555556, \"#d8576b\"], [0.6666666666666666, \"#ed7953\"], [0.7777777777777778, \"#fb9f3a\"], [0.8888888888888888, \"#fdca26\"], [1.0, \"#f0f921\"]], \"type\": \"heatmap\"}], \"heatmapgl\": [{\"colorbar\": {\"outlinewidth\": 0, \"ticks\": \"\"}, \"colorscale\": [[0.0, \"#0d0887\"], [0.1111111111111111, \"#46039f\"], [0.2222222222222222, \"#7201a8\"], [0.3333333333333333, \"#9c179e\"], [0.4444444444444444, \"#bd3786\"], [0.5555555555555556, \"#d8576b\"], [0.6666666666666666, \"#ed7953\"], [0.7777777777777778, \"#fb9f3a\"], [0.8888888888888888, \"#fdca26\"], [1.0, \"#f0f921\"]], \"type\": \"heatmapgl\"}], \"histogram\": [{\"marker\": {\"colorbar\": {\"outlinewidth\": 0, \"ticks\": \"\"}}, \"type\": \"histogram\"}], \"histogram2d\": [{\"colorbar\": {\"outlinewidth\": 0, \"ticks\": \"\"}, \"colorscale\": [[0.0, \"#0d0887\"], [0.1111111111111111, \"#46039f\"], [0.2222222222222222, \"#7201a8\"], [0.3333333333333333, \"#9c179e\"], [0.4444444444444444, \"#bd3786\"], [0.5555555555555556, \"#d8576b\"], [0.6666666666666666, \"#ed7953\"], [0.7777777777777778, \"#fb9f3a\"], [0.8888888888888888, \"#fdca26\"], [1.0, \"#f0f921\"]], \"type\": \"histogram2d\"}], \"histogram2dcontour\": [{\"colorbar\": {\"outlinewidth\": 0, \"ticks\": \"\"}, \"colorscale\": [[0.0, \"#0d0887\"], [0.1111111111111111, \"#46039f\"], [0.2222222222222222, \"#7201a8\"], [0.3333333333333333, \"#9c179e\"], [0.4444444444444444, \"#bd3786\"], [0.5555555555555556, \"#d8576b\"], [0.6666666666666666, \"#ed7953\"], [0.7777777777777778, \"#fb9f3a\"], [0.8888888888888888, \"#fdca26\"], [1.0, \"#f0f921\"]], \"type\": \"histogram2dcontour\"}], \"mesh3d\": [{\"colorbar\": {\"outlinewidth\": 0, \"ticks\": \"\"}, \"type\": \"mesh3d\"}], \"parcoords\": [{\"line\": {\"colorbar\": {\"outlinewidth\": 0, \"ticks\": \"\"}}, \"type\": \"parcoords\"}], \"pie\": [{\"automargin\": true, \"type\": \"pie\"}], \"scatter\": [{\"marker\": {\"colorbar\": {\"outlinewidth\": 0, \"ticks\": \"\"}}, \"type\": \"scatter\"}], \"scatter3d\": [{\"line\": {\"colorbar\": {\"outlinewidth\": 0, \"ticks\": \"\"}}, \"marker\": {\"colorbar\": {\"outlinewidth\": 0, \"ticks\": \"\"}}, \"type\": \"scatter3d\"}], \"scattercarpet\": [{\"marker\": {\"colorbar\": {\"outlinewidth\": 0, \"ticks\": \"\"}}, \"type\": \"scattercarpet\"}], \"scattergeo\": [{\"marker\": {\"colorbar\": {\"outlinewidth\": 0, \"ticks\": \"\"}}, \"type\": \"scattergeo\"}], \"scattergl\": [{\"marker\": {\"colorbar\": {\"outlinewidth\": 0, \"ticks\": \"\"}}, \"type\": \"scattergl\"}], \"scattermapbox\": [{\"marker\": {\"colorbar\": {\"outlinewidth\": 0, \"ticks\": \"\"}}, \"type\": \"scattermapbox\"}], \"scatterpolar\": [{\"marker\": {\"colorbar\": {\"outlinewidth\": 0, \"ticks\": \"\"}}, \"type\": \"scatterpolar\"}], \"scatterpolargl\": [{\"marker\": {\"colorbar\": {\"outlinewidth\": 0, \"ticks\": \"\"}}, \"type\": \"scatterpolargl\"}], \"scatterternary\": [{\"marker\": {\"colorbar\": {\"outlinewidth\": 0, \"ticks\": \"\"}}, \"type\": \"scatterternary\"}], \"surface\": [{\"colorbar\": {\"outlinewidth\": 0, \"ticks\": \"\"}, \"colorscale\": [[0.0, \"#0d0887\"], [0.1111111111111111, \"#46039f\"], [0.2222222222222222, \"#7201a8\"], [0.3333333333333333, \"#9c179e\"], [0.4444444444444444, \"#bd3786\"], [0.5555555555555556, \"#d8576b\"], [0.6666666666666666, \"#ed7953\"], [0.7777777777777778, \"#fb9f3a\"], [0.8888888888888888, \"#fdca26\"], [1.0, \"#f0f921\"]], \"type\": \"surface\"}], \"table\": [{\"cells\": {\"fill\": {\"color\": \"#EBF0F8\"}, \"line\": {\"color\": \"white\"}}, \"header\": {\"fill\": {\"color\": \"#C8D4E3\"}, \"line\": {\"color\": \"white\"}}, \"type\": \"table\"}]}, \"layout\": {\"annotationdefaults\": {\"arrowcolor\": \"#2a3f5f\", \"arrowhead\": 0, \"arrowwidth\": 1}, \"coloraxis\": {\"colorbar\": {\"outlinewidth\": 0, \"ticks\": \"\"}}, \"colorscale\": {\"diverging\": [[0, \"#8e0152\"], [0.1, \"#c51b7d\"], [0.2, \"#de77ae\"], [0.3, \"#f1b6da\"], [0.4, \"#fde0ef\"], [0.5, \"#f7f7f7\"], [0.6, \"#e6f5d0\"], [0.7, \"#b8e186\"], [0.8, \"#7fbc41\"], [0.9, \"#4d9221\"], [1, \"#276419\"]], \"sequential\": [[0.0, \"#0d0887\"], [0.1111111111111111, \"#46039f\"], [0.2222222222222222, \"#7201a8\"], [0.3333333333333333, \"#9c179e\"], [0.4444444444444444, \"#bd3786\"], [0.5555555555555556, \"#d8576b\"], [0.6666666666666666, \"#ed7953\"], [0.7777777777777778, \"#fb9f3a\"], [0.8888888888888888, \"#fdca26\"], [1.0, \"#f0f921\"]], \"sequentialminus\": [[0.0, \"#0d0887\"], [0.1111111111111111, \"#46039f\"], [0.2222222222222222, \"#7201a8\"], [0.3333333333333333, \"#9c179e\"], [0.4444444444444444, \"#bd3786\"], [0.5555555555555556, \"#d8576b\"], [0.6666666666666666, \"#ed7953\"], [0.7777777777777778, \"#fb9f3a\"], [0.8888888888888888, \"#fdca26\"], [1.0, \"#f0f921\"]]}, \"colorway\": [\"#636efa\", \"#EF553B\", \"#00cc96\", \"#ab63fa\", \"#FFA15A\", \"#19d3f3\", \"#FF6692\", \"#B6E880\", \"#FF97FF\", \"#FECB52\"], \"font\": {\"color\": \"#2a3f5f\"}, \"geo\": {\"bgcolor\": \"white\", \"lakecolor\": \"white\", \"landcolor\": \"#E5ECF6\", \"showlakes\": true, \"showland\": true, \"subunitcolor\": \"white\"}, \"hoverlabel\": {\"align\": \"left\"}, \"hovermode\": \"closest\", \"mapbox\": {\"style\": \"light\"}, \"paper_bgcolor\": \"white\", \"plot_bgcolor\": \"#E5ECF6\", \"polar\": {\"angularaxis\": {\"gridcolor\": \"white\", \"linecolor\": \"white\", \"ticks\": \"\"}, \"bgcolor\": \"#E5ECF6\", \"radialaxis\": {\"gridcolor\": \"white\", \"linecolor\": \"white\", \"ticks\": \"\"}}, \"scene\": {\"xaxis\": {\"backgroundcolor\": \"#E5ECF6\", \"gridcolor\": \"white\", \"gridwidth\": 2, \"linecolor\": \"white\", \"showbackground\": true, \"ticks\": \"\", \"zerolinecolor\": \"white\"}, \"yaxis\": {\"backgroundcolor\": \"#E5ECF6\", \"gridcolor\": \"white\", \"gridwidth\": 2, \"linecolor\": \"white\", \"showbackground\": true, \"ticks\": \"\", \"zerolinecolor\": \"white\"}, \"zaxis\": {\"backgroundcolor\": \"#E5ECF6\", \"gridcolor\": \"white\", \"gridwidth\": 2, \"linecolor\": \"white\", \"showbackground\": true, \"ticks\": \"\", \"zerolinecolor\": \"white\"}}, \"shapedefaults\": {\"line\": {\"color\": \"#2a3f5f\"}}, \"ternary\": {\"aaxis\": {\"gridcolor\": \"white\", \"linecolor\": \"white\", \"ticks\": \"\"}, \"baxis\": {\"gridcolor\": \"white\", \"linecolor\": \"white\", \"ticks\": \"\"}, \"bgcolor\": \"#E5ECF6\", \"caxis\": {\"gridcolor\": \"white\", \"linecolor\": \"white\", \"ticks\": \"\"}}, \"title\": {\"x\": 0.05}, \"xaxis\": {\"automargin\": true, \"gridcolor\": \"white\", \"linecolor\": \"white\", \"ticks\": \"\", \"title\": {\"standoff\": 15}, \"zerolinecolor\": \"white\", \"zerolinewidth\": 2}, \"yaxis\": {\"automargin\": true, \"gridcolor\": \"white\", \"linecolor\": \"white\", \"ticks\": \"\", \"title\": {\"standoff\": 15}, \"zerolinecolor\": \"white\", \"zerolinewidth\": 2}}}},\n",
       "                        {\"responsive\": true}\n",
       "                    ).then(function(){\n",
       "                            \n",
       "var gd = document.getElementById('8eccdc68-26fb-4b09-8cc0-9df5cf59cd17');\n",
       "var x = new MutationObserver(function (mutations, observer) {{\n",
       "        var display = window.getComputedStyle(gd).display;\n",
       "        if (!display || display === 'none') {{\n",
       "            console.log([gd, 'removed!']);\n",
       "            Plotly.purge(gd);\n",
       "            observer.disconnect();\n",
       "        }}\n",
       "}});\n",
       "\n",
       "// Listen for the removal of the full notebook cells\n",
       "var notebookContainer = gd.closest('#notebook-container');\n",
       "if (notebookContainer) {{\n",
       "    x.observe(notebookContainer, {childList: true});\n",
       "}}\n",
       "\n",
       "// Listen for the clearing of the current output cell\n",
       "var outputEl = gd.closest('.output');\n",
       "if (outputEl) {{\n",
       "    x.observe(outputEl, {childList: true});\n",
       "}}\n",
       "\n",
       "                        })\n",
       "                };\n",
       "                \n",
       "            </script>\n",
       "        </div>\n",
       "</body>\n",
       "</html>"
      ]
     },
     "metadata": {
      "tags": []
     },
     "output_type": "display_data"
    }
   ],
   "source": [
    "#fig = px.line(df_gs, y=y_test_t_org,text='Real')\n",
    "fig = go.Figure()\n",
    "fig.add_scatter(y=y_test_t_org, mode='lines',name='Real')\n",
    "fig.add_scatter(y=y_pred_org, mode='lines',name='Prediction')\n",
    "\n",
    "fig.show()\n",
    "\n",
    "\n",
    "\n",
    "# Show plot "
   ]
  },
  {
   "cell_type": "code",
   "execution_count": null,
   "metadata": {
    "id": "ujkdemz7cbCx"
   },
   "outputs": [],
   "source": [
    "#probe-pred = model.predict(x_t, batch_size=BATCH_SIZE)\n",
    "y_pred = model.predict(x_t, batch_size=BATCH_SIZE)\n",
    "#probe-pred = probe-pred.flatten()\n",
    "\n",
    "\n"
   ]
  },
  {
   "cell_type": "code",
   "execution_count": null,
   "metadata": {
    "colab": {
     "base_uri": "https://localhost:8080/",
     "height": 139
    },
    "id": "mhQEXiJ_1tVW",
    "outputId": "4774ea3f-93f7-4552-c0da-6efdc6cc7d97"
   },
   "outputs": [
    {
     "data": {
      "text/plain": [
       "array([[0.04156494],\n",
       "       [0.04125232],\n",
       "       [0.04095227],\n",
       "       ...,\n",
       "       [0.55594116],\n",
       "       [0.55739844],\n",
       "       [0.55885273]], dtype=float32)"
      ]
     },
     "execution_count": 70,
     "metadata": {
      "tags": []
     },
     "output_type": "execute_result"
    }
   ],
   "source": [
    "y_pred"
   ]
  },
  {
   "cell_type": "code",
   "execution_count": null,
   "metadata": {
    "colab": {
     "base_uri": "https://localhost:8080/",
     "height": 313
    },
    "id": "ng8VDYXtcjWl",
    "outputId": "0eee533c-2f31-4b5e-e438-ee32cc6e4116"
   },
   "outputs": [
    {
     "data": {
      "image/png": "[encoded data removed]",
      "text/plain": [
       "<Figure size 432x288 with 1 Axes>"
      ]
     },
     "metadata": {
      "needs_background": "light",
      "tags": []
     },
     "output_type": "display_data"
    },
    {
     "name": "stdout",
     "output_type": "stream",
     "text": [
      "program completed  108.0 minutes :  6.0 seconds\n"
     ]
    }
   ],
   "source": [
    "\n",
    "# Visualize the prediction\n",
    "from matplotlib import pyplot as plt\n",
    "plt.figure()\n",
    "plt.plot(y_pred)\n",
    "plt.plot(y_t)\n",
    "plt.title('Prediction vs Real Stock Price')\n",
    "plt.ylabel('Price')\n",
    "plt.xlabel('Days')\n",
    "plt.legend(['Prediction', 'Real'], loc='upper left')\n",
    "plt.savefig('result-pred.png')\n",
    "plt.show()\n",
    "\n",
    "print_time(\"program completed \", stime)"
   ]
  },
  {
   "cell_type": "code",
   "execution_count": null,
   "metadata": {
    "id": "hjSyDw261ubB"
   },
   "outputs": [],
   "source": []
  }
 ],
 "metadata": {
  "colab": {
   "collapsed_sections": [
    "wZUG6xGnDeEj"
   ],
   "name": "LSTM-GE-close-defense3-probe.ipynb",
   "provenance": []
  },
  "kernelspec": {
   "display_name": "Python 3",
   "language": "python",
   "name": "python3"
  },
  "language_info": {
   "codemirror_mode": {
    "name": "ipython",
    "version": 3
   },
   "file_extension": ".py",
   "mimetype": "text/x-python",
   "name": "python",
   "nbconvert_exporter": "python",
   "pygments_lexer": "ipython3",
   "version": "3.8.5"
  },
  "widgets": {
   "application/vnd.jupyter.widget-state+json": {
    "0aef8e11a5704413b674e7dcc888e09f": {
     "model_module": "@jupyter-widgets/controls",
     "model_name": "HBoxModel",
     "state": {
      "_dom_classes": [],
      "_model_module": "@jupyter-widgets/controls",
      "_model_module_version": "1.5.0",
      "_model_name": "HBoxModel",
      "_view_count": null,
      "_view_module": "@jupyter-widgets/controls",
      "_view_module_version": "1.5.0",
      "_view_name": "HBoxView",
      "box_style": "",
      "children": [
       "IPY_MODEL_663d6dc40e4545b1b3553e084fa29091",
       "IPY_MODEL_bdb9a4e2f51c497293a1d8be9bba9d17"
      ],
      "layout": "IPY_MODEL_96e8ef29b2bb44fb9b94001e4bc37b56"
     }
    },
    "1ab578b6480c4dcfb6202dd093a645b0": {
     "model_module": "@jupyter-widgets/controls",
     "model_name": "HTMLModel",
     "state": {
      "_dom_classes": [],
      "_model_module": "@jupyter-widgets/controls",
      "_model_module_version": "1.5.0",
      "_model_name": "HTMLModel",
      "_view_count": null,
      "_view_module": "@jupyter-widgets/controls",
      "_view_module_version": "1.5.0",
      "_view_name": "HTMLView",
      "description": "",
      "description_tooltip": null,
      "layout": "IPY_MODEL_4f849aa2a1b7466ea8f265a8c7e2f311",
      "placeholder": "​",
      "style": "IPY_MODEL_24792664729548dc9934d9c0cfba6ed4",
      "value": " 2752/2752 [00:00&lt;00:00, 61415.44it/s]"
     }
    },
    "1db6c64611724f01b447b05345a73edf": {
     "model_module": "@jupyter-widgets/controls",
     "model_name": "HBoxModel",
     "state": {
      "_dom_classes": [],
      "_model_module": "@jupyter-widgets/controls",
      "_model_module_version": "1.5.0",
      "_model_name": "HBoxModel",
      "_view_count": null,
      "_view_module": "@jupyter-widgets/controls",
      "_view_module_version": "1.5.0",
      "_view_name": "HBoxView",
      "box_style": "",
      "children": [
       "IPY_MODEL_4c3b92e5d07a4b819b5caab62d75d88b",
       "IPY_MODEL_1ab578b6480c4dcfb6202dd093a645b0"
      ],
      "layout": "IPY_MODEL_dfbd3d9725954b78b4ea5af48d7ee26c"
     }
    },
    "24792664729548dc9934d9c0cfba6ed4": {
     "model_module": "@jupyter-widgets/controls",
     "model_name": "DescriptionStyleModel",
     "state": {
      "_model_module": "@jupyter-widgets/controls",
      "_model_module_version": "1.5.0",
      "_model_name": "DescriptionStyleModel",
      "_view_count": null,
      "_view_module": "@jupyter-widgets/base",
      "_view_module_version": "1.2.0",
      "_view_name": "StyleView",
      "description_width": ""
     }
    },
    "44608ad39e9b4cc3a016ec9a83f5ed4f": {
     "model_module": "@jupyter-widgets/base",
     "model_name": "LayoutModel",
     "state": {
      "_model_module": "@jupyter-widgets/base",
      "_model_module_version": "1.2.0",
      "_model_name": "LayoutModel",
      "_view_count": null,
      "_view_module": "@jupyter-widgets/base",
      "_view_module_version": "1.2.0",
      "_view_name": "LayoutView",
      "align_content": null,
      "align_items": null,
      "align_self": null,
      "border": null,
      "bottom": null,
      "display": null,
      "flex": null,
      "flex_flow": null,
      "grid_area": null,
      "grid_auto_columns": null,
      "grid_auto_flow": null,
      "grid_auto_rows": null,
      "grid_column": null,
      "grid_gap": null,
      "grid_row": null,
      "grid_template_areas": null,
      "grid_template_columns": null,
      "grid_template_rows": null,
      "height": null,
      "justify_content": null,
      "justify_items": null,
      "left": null,
      "margin": null,
      "max_height": null,
      "max_width": null,
      "min_height": null,
      "min_width": null,
      "object_fit": null,
      "object_position": null,
      "order": null,
      "overflow": null,
      "overflow_x": null,
      "overflow_y": null,
      "padding": null,
      "right": null,
      "top": null,
      "visibility": null,
      "width": null
     }
    },
    "4c3b92e5d07a4b819b5caab62d75d88b": {
     "model_module": "@jupyter-widgets/controls",
     "model_name": "FloatProgressModel",
     "state": {
      "_dom_classes": [],
      "_model_module": "@jupyter-widgets/controls",
      "_model_module_version": "1.5.0",
      "_model_name": "FloatProgressModel",
      "_view_count": null,
      "_view_module": "@jupyter-widgets/controls",
      "_view_module_version": "1.5.0",
      "_view_name": "ProgressView",
      "bar_style": "success",
      "description": "100%",
      "description_tooltip": null,
      "layout": "IPY_MODEL_84baec16b91f4a2d856e6a5d8990a679",
      "max": 2752,
      "min": 0,
      "orientation": "horizontal",
      "style": "IPY_MODEL_5e5fafc070d34087b59000a8e56f064f",
      "value": 2752
     }
    },
    "4f849aa2a1b7466ea8f265a8c7e2f311": {
     "model_module": "@jupyter-widgets/base",
     "model_name": "LayoutModel",
     "state": {
      "_model_module": "@jupyter-widgets/base",
      "_model_module_version": "1.2.0",
      "_model_name": "LayoutModel",
      "_view_count": null,
      "_view_module": "@jupyter-widgets/base",
      "_view_module_version": "1.2.0",
      "_view_name": "LayoutView",
      "align_content": null,
      "align_items": null,
      "align_self": null,
      "border": null,
      "bottom": null,
      "display": null,
      "flex": null,
      "flex_flow": null,
      "grid_area": null,
      "grid_auto_columns": null,
      "grid_auto_flow": null,
      "grid_auto_rows": null,
      "grid_column": null,
      "grid_gap": null,
      "grid_row": null,
      "grid_template_areas": null,
      "grid_template_columns": null,
      "grid_template_rows": null,
      "height": null,
      "justify_content": null,
      "justify_items": null,
      "left": null,
      "margin": null,
      "max_height": null,
      "max_width": null,
      "min_height": null,
      "min_width": null,
      "object_fit": null,
      "object_position": null,
      "order": null,
      "overflow": null,
      "overflow_x": null,
      "overflow_y": null,
      "padding": null,
      "right": null,
      "top": null,
      "visibility": null,
      "width": null
     }
    },
    "5424d3f79c6c440e90e1191dfb03a0f8": {
     "model_module": "@jupyter-widgets/controls",
     "model_name": "ProgressStyleModel",
     "state": {
      "_model_module": "@jupyter-widgets/controls",
      "_model_module_version": "1.5.0",
      "_model_name": "ProgressStyleModel",
      "_view_count": null,
      "_view_module": "@jupyter-widgets/base",
      "_view_module_version": "1.2.0",
      "_view_name": "StyleView",
      "bar_color": null,
      "description_width": "initial"
     }
    },
    "5e5fafc070d34087b59000a8e56f064f": {
     "model_module": "@jupyter-widgets/controls",
     "model_name": "ProgressStyleModel",
     "state": {
      "_model_module": "@jupyter-widgets/controls",
      "_model_module_version": "1.5.0",
      "_model_name": "ProgressStyleModel",
      "_view_count": null,
      "_view_module": "@jupyter-widgets/base",
      "_view_module_version": "1.2.0",
      "_view_name": "StyleView",
      "bar_color": null,
      "description_width": "initial"
     }
    },
    "663d6dc40e4545b1b3553e084fa29091": {
     "model_module": "@jupyter-widgets/controls",
     "model_name": "FloatProgressModel",
     "state": {
      "_dom_classes": [],
      "_model_module": "@jupyter-widgets/controls",
      "_model_module_version": "1.5.0",
      "_model_name": "FloatProgressModel",
      "_view_count": null,
      "_view_module": "@jupyter-widgets/controls",
      "_view_module_version": "1.5.0",
      "_view_name": "ProgressView",
      "bar_style": "success",
      "description": "100%",
      "description_tooltip": null,
      "layout": "IPY_MODEL_44608ad39e9b4cc3a016ec9a83f5ed4f",
      "max": 2752,
      "min": 0,
      "orientation": "horizontal",
      "style": "IPY_MODEL_5424d3f79c6c440e90e1191dfb03a0f8",
      "value": 2752
     }
    },
    "74c6b8183e674f1986b38c53601bd8cb": {
     "model_module": "@jupyter-widgets/controls",
     "model_name": "HTMLModel",
     "state": {
      "_dom_classes": [],
      "_model_module": "@jupyter-widgets/controls",
      "_model_module_version": "1.5.0",
      "_model_name": "HTMLModel",
      "_view_count": null,
      "_view_module": "@jupyter-widgets/controls",
      "_view_module_version": "1.5.0",
      "_view_name": "HTMLView",
      "description": "",
      "description_tooltip": null,
      "layout": "IPY_MODEL_9f3155110aaa4dbea206ae027d0c6ba1",
      "placeholder": "​",
      "style": "IPY_MODEL_95a0d8b924d54c96978f14ea782b0931",
      "value": " 11186/11186 [00:00&lt;00:00, 163282.69it/s]"
     }
    },
    "7adf2462e36846d2b1eade53542554aa": {
     "model_module": "@jupyter-widgets/base",
     "model_name": "LayoutModel",
     "state": {
      "_model_module": "@jupyter-widgets/base",
      "_model_module_version": "1.2.0",
      "_model_name": "LayoutModel",
      "_view_count": null,
      "_view_module": "@jupyter-widgets/base",
      "_view_module_version": "1.2.0",
      "_view_name": "LayoutView",
      "align_content": null,
      "align_items": null,
      "align_self": null,
      "border": null,
      "bottom": null,
      "display": null,
      "flex": null,
      "flex_flow": null,
      "grid_area": null,
      "grid_auto_columns": null,
      "grid_auto_flow": null,
      "grid_auto_rows": null,
      "grid_column": null,
      "grid_gap": null,
      "grid_row": null,
      "grid_template_areas": null,
      "grid_template_columns": null,
      "grid_template_rows": null,
      "height": null,
      "justify_content": null,
      "justify_items": null,
      "left": null,
      "margin": null,
      "max_height": null,
      "max_width": null,
      "min_height": null,
      "min_width": null,
      "object_fit": null,
      "object_position": null,
      "order": null,
      "overflow": null,
      "overflow_x": null,
      "overflow_y": null,
      "padding": null,
      "right": null,
      "top": null,
      "visibility": null,
      "width": null
     }
    },
    "84baec16b91f4a2d856e6a5d8990a679": {
     "model_module": "@jupyter-widgets/base",
     "model_name": "LayoutModel",
     "state": {
      "_model_module": "@jupyter-widgets/base",
      "_model_module_version": "1.2.0",
      "_model_name": "LayoutModel",
      "_view_count": null,
      "_view_module": "@jupyter-widgets/base",
      "_view_module_version": "1.2.0",
      "_view_name": "LayoutView",
      "align_content": null,
      "align_items": null,
      "align_self": null,
      "border": null,
      "bottom": null,
      "display": null,
      "flex": null,
      "flex_flow": null,
      "grid_area": null,
      "grid_auto_columns": null,
      "grid_auto_flow": null,
      "grid_auto_rows": null,
      "grid_column": null,
      "grid_gap": null,
      "grid_row": null,
      "grid_template_areas": null,
      "grid_template_columns": null,
      "grid_template_rows": null,
      "height": null,
      "justify_content": null,
      "justify_items": null,
      "left": null,
      "margin": null,
      "max_height": null,
      "max_width": null,
      "min_height": null,
      "min_width": null,
      "object_fit": null,
      "object_position": null,
      "order": null,
      "overflow": null,
      "overflow_x": null,
      "overflow_y": null,
      "padding": null,
      "right": null,
      "top": null,
      "visibility": null,
      "width": null
     }
    },
    "850bd4ee53ba4dbb92f45b714b2ebbf9": {
     "model_module": "@jupyter-widgets/base",
     "model_name": "LayoutModel",
     "state": {
      "_model_module": "@jupyter-widgets/base",
      "_model_module_version": "1.2.0",
      "_model_name": "LayoutModel",
      "_view_count": null,
      "_view_module": "@jupyter-widgets/base",
      "_view_module_version": "1.2.0",
      "_view_name": "LayoutView",
      "align_content": null,
      "align_items": null,
      "align_self": null,
      "border": null,
      "bottom": null,
      "display": null,
      "flex": null,
      "flex_flow": null,
      "grid_area": null,
      "grid_auto_columns": null,
      "grid_auto_flow": null,
      "grid_auto_rows": null,
      "grid_column": null,
      "grid_gap": null,
      "grid_row": null,
      "grid_template_areas": null,
      "grid_template_columns": null,
      "grid_template_rows": null,
      "height": null,
      "justify_content": null,
      "justify_items": null,
      "left": null,
      "margin": null,
      "max_height": null,
      "max_width": null,
      "min_height": null,
      "min_width": null,
      "object_fit": null,
      "object_position": null,
      "order": null,
      "overflow": null,
      "overflow_x": null,
      "overflow_y": null,
      "padding": null,
      "right": null,
      "top": null,
      "visibility": null,
      "width": null
     }
    },
    "95a0d8b924d54c96978f14ea782b0931": {
     "model_module": "@jupyter-widgets/controls",
     "model_name": "DescriptionStyleModel",
     "state": {
      "_model_module": "@jupyter-widgets/controls",
      "_model_module_version": "1.5.0",
      "_model_name": "DescriptionStyleModel",
      "_view_count": null,
      "_view_module": "@jupyter-widgets/base",
      "_view_module_version": "1.2.0",
      "_view_name": "StyleView",
      "description_width": ""
     }
    },
    "96e8ef29b2bb44fb9b94001e4bc37b56": {
     "model_module": "@jupyter-widgets/base",
     "model_name": "LayoutModel",
     "state": {
      "_model_module": "@jupyter-widgets/base",
      "_model_module_version": "1.2.0",
      "_model_name": "LayoutModel",
      "_view_count": null,
      "_view_module": "@jupyter-widgets/base",
      "_view_module_version": "1.2.0",
      "_view_name": "LayoutView",
      "align_content": null,
      "align_items": null,
      "align_self": null,
      "border": null,
      "bottom": null,
      "display": null,
      "flex": null,
      "flex_flow": null,
      "grid_area": null,
      "grid_auto_columns": null,
      "grid_auto_flow": null,
      "grid_auto_rows": null,
      "grid_column": null,
      "grid_gap": null,
      "grid_row": null,
      "grid_template_areas": null,
      "grid_template_columns": null,
      "grid_template_rows": null,
      "height": null,
      "justify_content": null,
      "justify_items": null,
      "left": null,
      "margin": null,
      "max_height": null,
      "max_width": null,
      "min_height": null,
      "min_width": null,
      "object_fit": null,
      "object_position": null,
      "order": null,
      "overflow": null,
      "overflow_x": null,
      "overflow_y": null,
      "padding": null,
      "right": null,
      "top": null,
      "visibility": null,
      "width": null
     }
    },
    "9f3155110aaa4dbea206ae027d0c6ba1": {
     "model_module": "@jupyter-widgets/base",
     "model_name": "LayoutModel",
     "state": {
      "_model_module": "@jupyter-widgets/base",
      "_model_module_version": "1.2.0",
      "_model_name": "LayoutModel",
      "_view_count": null,
      "_view_module": "@jupyter-widgets/base",
      "_view_module_version": "1.2.0",
      "_view_name": "LayoutView",
      "align_content": null,
      "align_items": null,
      "align_self": null,
      "border": null,
      "bottom": null,
      "display": null,
      "flex": null,
      "flex_flow": null,
      "grid_area": null,
      "grid_auto_columns": null,
      "grid_auto_flow": null,
      "grid_auto_rows": null,
      "grid_column": null,
      "grid_gap": null,
      "grid_row": null,
      "grid_template_areas": null,
      "grid_template_columns": null,
      "grid_template_rows": null,
      "height": null,
      "justify_content": null,
      "justify_items": null,
      "left": null,
      "margin": null,
      "max_height": null,
      "max_width": null,
      "min_height": null,
      "min_width": null,
      "object_fit": null,
      "object_position": null,
      "order": null,
      "overflow": null,
      "overflow_x": null,
      "overflow_y": null,
      "padding": null,
      "right": null,
      "top": null,
      "visibility": null,
      "width": null
     }
    },
    "a6dfc4908d504d8289a7f5d245af39a3": {
     "model_module": "@jupyter-widgets/controls",
     "model_name": "DescriptionStyleModel",
     "state": {
      "_model_module": "@jupyter-widgets/controls",
      "_model_module_version": "1.5.0",
      "_model_name": "DescriptionStyleModel",
      "_view_count": null,
      "_view_module": "@jupyter-widgets/base",
      "_view_module_version": "1.2.0",
      "_view_name": "StyleView",
      "description_width": ""
     }
    },
    "aafef2bb163f40afa9821f4f1c398aaa": {
     "model_module": "@jupyter-widgets/controls",
     "model_name": "HBoxModel",
     "state": {
      "_dom_classes": [],
      "_model_module": "@jupyter-widgets/controls",
      "_model_module_version": "1.5.0",
      "_model_name": "HBoxModel",
      "_view_count": null,
      "_view_module": "@jupyter-widgets/controls",
      "_view_module_version": "1.5.0",
      "_view_name": "HBoxView",
      "box_style": "",
      "children": [
       "IPY_MODEL_ffff6ad14680417692c00a0c9e717796",
       "IPY_MODEL_74c6b8183e674f1986b38c53601bd8cb"
      ],
      "layout": "IPY_MODEL_850bd4ee53ba4dbb92f45b714b2ebbf9"
     }
    },
    "bdb9a4e2f51c497293a1d8be9bba9d17": {
     "model_module": "@jupyter-widgets/controls",
     "model_name": "HTMLModel",
     "state": {
      "_dom_classes": [],
      "_model_module": "@jupyter-widgets/controls",
      "_model_module_version": "1.5.0",
      "_model_name": "HTMLModel",
      "_view_count": null,
      "_view_module": "@jupyter-widgets/controls",
      "_view_module_version": "1.5.0",
      "_view_name": "HTMLView",
      "description": "",
      "description_tooltip": null,
      "layout": "IPY_MODEL_f06418a6432f46ddaf42d0c206982c09",
      "placeholder": "​",
      "style": "IPY_MODEL_a6dfc4908d504d8289a7f5d245af39a3",
      "value": " 2752/2752 [00:00&lt;00:00, 18148.65it/s]"
     }
    },
    "c80cf2ec9b74403ea4e1a25aa440441c": {
     "model_module": "@jupyter-widgets/controls",
     "model_name": "ProgressStyleModel",
     "state": {
      "_model_module": "@jupyter-widgets/controls",
      "_model_module_version": "1.5.0",
      "_model_name": "ProgressStyleModel",
      "_view_count": null,
      "_view_module": "@jupyter-widgets/base",
      "_view_module_version": "1.2.0",
      "_view_name": "StyleView",
      "bar_color": null,
      "description_width": "initial"
     }
    },
    "dfbd3d9725954b78b4ea5af48d7ee26c": {
     "model_module": "@jupyter-widgets/base",
     "model_name": "LayoutModel",
     "state": {
      "_model_module": "@jupyter-widgets/base",
      "_model_module_version": "1.2.0",
      "_model_name": "LayoutModel",
      "_view_count": null,
      "_view_module": "@jupyter-widgets/base",
      "_view_module_version": "1.2.0",
      "_view_name": "LayoutView",
      "align_content": null,
      "align_items": null,
      "align_self": null,
      "border": null,
      "bottom": null,
      "display": null,
      "flex": null,
      "flex_flow": null,
      "grid_area": null,
      "grid_auto_columns": null,
      "grid_auto_flow": null,
      "grid_auto_rows": null,
      "grid_column": null,
      "grid_gap": null,
      "grid_row": null,
      "grid_template_areas": null,
      "grid_template_columns": null,
      "grid_template_rows": null,
      "height": null,
      "justify_content": null,
      "justify_items": null,
      "left": null,
      "margin": null,
      "max_height": null,
      "max_width": null,
      "min_height": null,
      "min_width": null,
      "object_fit": null,
      "object_position": null,
      "order": null,
      "overflow": null,
      "overflow_x": null,
      "overflow_y": null,
      "padding": null,
      "right": null,
      "top": null,
      "visibility": null,
      "width": null
     }
    },
    "f06418a6432f46ddaf42d0c206982c09": {
     "model_module": "@jupyter-widgets/base",
     "model_name": "LayoutModel",
     "state": {
      "_model_module": "@jupyter-widgets/base",
      "_model_module_version": "1.2.0",
      "_model_name": "LayoutModel",
      "_view_count": null,
      "_view_module": "@jupyter-widgets/base",
      "_view_module_version": "1.2.0",
      "_view_name": "LayoutView",
      "align_content": null,
      "align_items": null,
      "align_self": null,
      "border": null,
      "bottom": null,
      "display": null,
      "flex": null,
      "flex_flow": null,
      "grid_area": null,
      "grid_auto_columns": null,
      "grid_auto_flow": null,
      "grid_auto_rows": null,
      "grid_column": null,
      "grid_gap": null,
      "grid_row": null,
      "grid_template_areas": null,
      "grid_template_columns": null,
      "grid_template_rows": null,
      "height": null,
      "justify_content": null,
      "justify_items": null,
      "left": null,
      "margin": null,
      "max_height": null,
      "max_width": null,
      "min_height": null,
      "min_width": null,
      "object_fit": null,
      "object_position": null,
      "order": null,
      "overflow": null,
      "overflow_x": null,
      "overflow_y": null,
      "padding": null,
      "right": null,
      "top": null,
      "visibility": null,
      "width": null
     }
    },
    "ffff6ad14680417692c00a0c9e717796": {
     "model_module": "@jupyter-widgets/controls",
     "model_name": "FloatProgressModel",
     "state": {
      "_dom_classes": [],
      "_model_module": "@jupyter-widgets/controls",
      "_model_module_version": "1.5.0",
      "_model_name": "FloatProgressModel",
      "_view_count": null,
      "_view_module": "@jupyter-widgets/controls",
      "_view_module_version": "1.5.0",
      "_view_name": "ProgressView",
      "bar_style": "success",
      "description": "100%",
      "description_tooltip": null,
      "layout": "IPY_MODEL_7adf2462e36846d2b1eade53542554aa",
      "max": 11186,
      "min": 0,
      "orientation": "horizontal",
      "style": "IPY_MODEL_c80cf2ec9b74403ea4e1a25aa440441c",
      "value": 11186
     }
    }
   }
  }
 },
 "nbformat": 4,
 "nbformat_minor": 1
}
